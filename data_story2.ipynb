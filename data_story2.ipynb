{
 "cells": [
  {
   "cell_type": "markdown",
   "metadata": {},
   "source": [
    "BLABLABLA Bob et John discutent"
   ]
  },
  {
   "cell_type": "markdown",
   "metadata": {},
   "source": [
    "# The Data Driven Approach to John and Bob's Challenge"
   ]
  },
  {
   "cell_type": "markdown",
   "metadata": {},
   "source": [
    "To answer which approach is better, we will look at the data from the films in the TMBD database. The TMBD database contains information on over 45,000 movies, including budget, revenue, and popularity. We will use this data to compare the performance of high-budget and low-budget films."
   ]
  },
  {
   "cell_type": "markdown",
   "metadata": {},
   "source": [
    "## Defining performance"
   ]
  },
  {
   "cell_type": "markdown",
   "metadata": {},
   "source": [
    "To compare the performance of high-budget and low-budget films, we will consider the multiplier between the budget and the boxoffice. A 10x multiplier would imply that every dollar spent on the movie resulted in 10 dollars in box office revenue."
   ]
  },
  {
   "cell_type": "markdown",
   "metadata": {},
   "source": [
    "## Let's look at the data"
   ]
  },
  {
   "cell_type": "markdown",
   "metadata": {},
   "source": [
    "After cleaning and filtering the data, we are left with 2657 movies. 1308 high budget movies and 1349 low budget movies. Given the definition of performance above, let's take a look at the distribution of the multiplier for both high and low budget movies."
   ]
  },
  {
   "cell_type": "code",
   "execution_count": null,
   "metadata": {},
   "outputs": [],
   "source": [
    "# HISTOGRAM MULTIPLIER"
   ]
  },
  {
   "cell_type": "markdown",
   "metadata": {},
   "source": [
    "Low-budget movies, in blue, typically yield more modest returns, but a select few outperform expectations with high profitability. High-budget films, in orange, show more consistent returns but fewer breakout financial successes."
   ]
  },
  {
   "cell_type": "markdown",
   "metadata": {},
   "source": [
    "### Movie Genre\n",
    "Let's look at the distribution of genres for both high and low budget movies."
   ]
  },
  {
   "cell_type": "code",
   "execution_count": null,
   "metadata": {},
   "outputs": [],
   "source": [
    "# PLOT DISC"
   ]
  },
  {
   "cell_type": "markdown",
   "metadata": {},
   "source": [
    "The most popular genre are completely different for high and low budget. High budget top 5 genre are: Action, Adventure, Comedy, Drama and Thriller. Low budget top 5 genre are: Drama, Comedy, Thriller, Horror and Romance. The biggest difference exists in Horrow where only 1.42% of high budget movies are in this genre compared to 9.5% for low budget movies. Let's try and understand why this is the case."
   ]
  },
  {
   "cell_type": "code",
   "execution_count": null,
   "metadata": {},
   "outputs": [],
   "source": [
    "# PLOT BAR"
   ]
  },
  {
   "cell_type": "markdown",
   "metadata": {},
   "source": [
    "We can explain the difference in the amount of horror films in low budget compared to high budget by looking at the multiplier difference. On average multiplier for horror films is 9.11 for low budget and 2.49 for high budget. This means that low budget horror films return on investement multiplier is at least 3x greater than any other genre of high budget films. We can hypothesize that this financial incentive is what drives the difference in the amount of horror films in low budget compared to high budget."
   ]
  },
  {
   "cell_type": "markdown",
   "metadata": {},
   "source": [
    "### Movie Runtime\n",
    "The Movie Runtime is the duration of the movie in minutes. Let's explore the distribution of runtime for both high and low budget movies and it's relation to the multiplier."
   ]
  },
  {
   "cell_type": "code",
   "execution_count": null,
   "metadata": {},
   "outputs": [],
   "source": [
    "# PLOT RUNTIME"
   ]
  },
  {
   "cell_type": "markdown",
   "metadata": {},
   "source": [
    "The scatter plot compares the financial multiplier against the runtime for high (red) and low (blue) budget films. Most films cluster around the 90-120 minute mark, reflecting a standard movie length. High-budget films show some outliers with high multipliers and longer runtimes, suggesting blockbuster potential for epic-scale movies. Low-budget films also have outliers with high multipliers, indicating potential sleeper hits. Both high and low-budget categories show a wide scatter, implying that runtime alone is not a strong predictor of financial success. Overall, while there are high-performing movies at various lengths, the majority of films from both budget categories tend to have moderate runtimes and multipliers. This suggests that factors other than runtime may be more critical in determining a movie's financial performance."
   ]
  },
  {
   "cell_type": "markdown",
   "metadata": {},
   "source": [
    "### Actor's age and sex"
   ]
  },
  {
   "cell_type": "code",
   "execution_count": null,
   "metadata": {},
   "outputs": [],
   "source": [
    "# PLOTS \n",
    "# AVERAGE AGE\n",
    "# MALE RATIO"
   ]
  },
  {
   "cell_type": "markdown",
   "metadata": {},
   "source": [
    "The first scatter plot explores the relationship between a film's financial multiplier and average actor's age. Low budget movies tend to have younger actors, probably because young and unexperienced actors are less expensive. The age doesn't consistently yield higher or lower returns for either budget category. \n",
    "\n",
    "In the second scatter plot, examining the multiplier against the male ratio within the cast, a similar pattern emerges: there's no discernible trend that a higher proportion of male actors correlates with financial success. Both high and low-budget films are dispersed throughout the plots, suggesting that the age and gender composition of the cast have a minimal direct impact on a movie's return on investment. This data implies that casting decisions regarding age and gender are likely based on creative rather than financial considerations."
   ]
  },
  {
   "cell_type": "markdown",
   "metadata": {},
   "source": [
    "In our analysis, we will use other features related to the actor's age : the ratio of young (below 18 years old) and old (above 60 years old) actors in the movie, as well as the minimum and maximum age in each movie."
   ]
  },
  {
   "cell_type": "markdown",
   "metadata": {},
   "source": [
    "### Mean actor's experience and popularity"
   ]
  },
  {
   "cell_type": "code",
   "execution_count": null,
   "metadata": {},
   "outputs": [],
   "source": [
    "# PLOTS \n",
    "# AVERAGE EXPERIENCE\n",
    "# AVERAGE POPULARITY"
   ]
  },
  {
   "cell_type": "markdown",
   "metadata": {},
   "source": [
    "Those scatter plots compare the multiplier against the average actor's experience and popularity. The actor's mean experience is calculated by averaging over all actors in the movie, the number of films the actors have appeared before. Low budget movies tend to have less experienced and popular actors compared to high budget movies. For high budget movies, a high actor's experience seems to have positive an impact on the multiplier. For low budget movies, the multiplier shows more variability depending on actor's experience. \n",
    "\n",
    "We will also include in our analysis the minimum and maximum actor's experience and popularity, as well as the total number of characters. "
   ]
  },
  {
   "cell_type": "markdown",
   "metadata": {},
   "source": [
    "### Spoken languages count"
   ]
  },
  {
   "cell_type": "code",
   "execution_count": null,
   "metadata": {},
   "outputs": [],
   "source": [
    "# Plot spoken languages"
   ]
  },
  {
   "cell_type": "markdown",
   "metadata": {},
   "source": [
    "A higher number of spoken languages in a movie seems to induce lower multipliers for both low and high budget movies. "
   ]
  },
  {
   "cell_type": "markdown",
   "metadata": {},
   "source": [
    "Our analysis will also include other features : the original language and countries of production, the title word count and the quarter when the movie was released. "
   ]
  },
  {
   "cell_type": "markdown",
   "metadata": {},
   "source": [
    "### Initial overall perception"
   ]
  },
  {
   "cell_type": "markdown",
   "metadata": {},
   "source": [
    "Low-budget films exhibit a greater variance in financial returns, indicating a higher risk but also the potential for significant profit, as seen in the broader spread of multipliers. In contrast, high-budget movies show more predictable returns, suggesting a lower risk but also a lower relative profitability. Genre preferences differ distinctly between the two, with low-budget films favoring genres like Horror that offer high returns at lower costs. Although movie runtime does not strongly correlate with financial success, both high and low-budget films typically adhere to standard feature-length times. This data implies that while high-budget films offer stability, low-budget films provide the allure of high rewards, driving diverse production strategies in the film industry. However we only looked at the data from a high level. Let's dive deeper into the data and see if we can find more insights. What are the most important features that drive the multiplier?"
   ]
  },
  {
   "cell_type": "markdown",
   "metadata": {},
   "source": [
    "## Data analysis"
   ]
  },
  {
   "cell_type": "markdown",
   "metadata": {},
   "source": [
    "### Which features of a movie have a significant effect on its multiplier?"
   ]
  },
  {
   "cell_type": "markdown",
   "metadata": {},
   "source": [
    "Let's now dive into the statistical analysis of the data, and more especially into regressions. These simple but nevertheless powerful models will help us to make our predictions for our two protagonists, and to better understand which features are significant and essential to create the most profitable movie possible according to their respective budget."
   ]
  },
  {
   "cell_type": "markdown",
   "metadata": {},
   "source": [
    "After applying min-max scaling to our features and a log transformation to the multiplier output, we performed a linear regression to determine the features with more significance. Here are the plots representing the resulting coefficients of the regression for both low and high budget movies. "
   ]
  },
  {
   "cell_type": "code",
   "execution_count": null,
   "metadata": {},
   "outputs": [],
   "source": [
    "# 2 plots Effect of the predictors on the log of the revenue multiplier for the {category_name} budget movies\n",
    "# for LOW + HIGH"
   ]
  },
  {
   "cell_type": "markdown",
   "metadata": {},
   "source": [
    "By keeping only features that exhibit clear positive or negative correlations with the output, that are in the 68% confidence interval and adding their interactions terms, we obtain the following most significant features. "
   ]
  },
  {
   "cell_type": "code",
   "execution_count": null,
   "metadata": {},
   "outputs": [],
   "source": [
    "# 2 plots percentage of explained variance LOW + HIGH"
   ]
  },
  {
   "cell_type": "markdown",
   "metadata": {},
   "source": [
    "The key features influencing the multiplier differ between low and high budget movies. This indicates that each category follows distinct guidelines for optimizing their multipliers. We can also see that high budget films exhibit fewer significant features, simplifying the decision-making process for a high budget producer in selecting the movie features.\n",
    "\n",
    "Some important features are common in both categories : the movie runtime, genres and production countries. However, an interesting fact is that the most significant genres and production countries are not the same for high and low budget movies. \n",
    "The multiplier of low budget movies is also dependent on the title word count, the minimum actor's experience and average popularity, and the minimum age. This also suggests a higher variance in the multiplier for low budget movies."
   ]
  },
  {
   "cell_type": "markdown",
   "metadata": {},
   "source": [
    "Knowing the significant features, we can now focus on optimizing them to achieve the highest possible multiplier."
   ]
  },
  {
   "cell_type": "markdown",
   "metadata": {},
   "source": [
    "### How to maximize the movies multipliers in high and low budget movies?"
   ]
  },
  {
   "cell_type": "markdown",
   "metadata": {},
   "source": [
    "Now that we know the important features for our producers, the next question is: How should they use them? This is where we can help. They already know which features matter, but now they need to figure out what values to choose. We'll guide them in picking the best values for these features. We did an optimization and we will try to give them the best advice!"
   ]
  },
  {
   "cell_type": "markdown",
   "metadata": {},
   "source": [
    "#### High budget movies"
   ]
  },
  {
   "cell_type": "markdown",
   "metadata": {},
   "source": [
    "##### Optimal features"
   ]
  },
  {
   "cell_type": "markdown",
   "metadata": {},
   "source": [
    "In high budget movies, the maximum multiplier we can obtain using the most significant features is arount 20. The table below shows the advised features to obtain it. This could help John make the best choices for his movie."
   ]
  },
  {
   "cell_type": "code",
   "execution_count": null,
   "metadata": {},
   "outputs": [],
   "source": [
    "# TABLE optimal features"
   ]
  },
  {
   "cell_type": "markdown",
   "metadata": {},
   "source": [
    "The optimal runtime is around 190 min, and the producer should favors a movie with multiple spoken languages (around 11). The genres he should try are science fiction, crime or a combinaison of crime and fantasy, and he should avoid westerns. In theory, the movie production countries should be Japan, India and Canada, but this may not be realisable. "
   ]
  },
  {
   "cell_type": "markdown",
   "metadata": {},
   "source": [
    "#### Interactive multiplier for high budget film category"
   ]
  },
  {
   "cell_type": "code",
   "execution_count": null,
   "metadata": {},
   "outputs": [],
   "source": [
    "# use final_model_high.predict(df_features) to get the predicted revenue multiplier for each movie"
   ]
  },
  {
   "cell_type": "markdown",
   "metadata": {},
   "source": [
    "expliquer le interactive plot! "
   ]
  },
  {
   "cell_type": "markdown",
   "metadata": {},
   "source": [
    "#### Low budget movies"
   ]
  },
  {
   "cell_type": "markdown",
   "metadata": {},
   "source": [
    "By doing the same strategy than for high budget movies, the maximum value of the multiplier is above 4000, which is not realistic. "
   ]
  },
  {
   "cell_type": "code",
   "execution_count": null,
   "metadata": {},
   "outputs": [],
   "source": [
    "# graph correalation between features and revenue multiplier"
   ]
  },
  {
   "cell_type": "markdown",
   "metadata": {},
   "source": [
    "We can still recommend to Bob to produce an animation movie appears to be a favorable choice, as the animation genre is among the top positively correlated features. The genre that he has to avoid are drama, science-fiction, fantasy, or action given the significant negative correlation with the multiplier. But we are not sure about the others aspects of the movie. \n",
    "\n",
    "Helping low-budget movie producers remains challenging because low-budget movies vary significantly. Finding a clear trend in selecting features becomes hard, and the choice may seem somewhat random."
   ]
  },
  {
   "cell_type": "markdown",
   "metadata": {},
   "source": [
    "## Which one is the best strategy : making high or low budget movies? "
   ]
  },
  {
   "cell_type": "markdown",
   "metadata": {},
   "source": [
    "Finally, we performed a Mann-Whitney test to determine which category has the highest multiplier. We discovered that the distribution of multipliers for low-budget movies is greater than the distribution of multiplier for high-budget movies.\n",
    "However, if we try to predict which movie features to take in order to maximize the multiplier in low budget movies, it doesn't work. Making a low budget movie is riskier : you may have a very big return on investment, but the recipe to do so is unknown. One advise we could give to Bob is to try horror movies, as from our data visualisation it seems to be the genre producing the higher multiplier for low budget movies. Or another option is an animation movie as there is a positive correlation with the multiplier.\n",
    "\n",
    "Making a high budget movie is safer, as we could determine which parameters to take to have the maximum multiplier. The important parameters are the runtime, the spoken languages count, the genre and the production country. John should go for a science fiction or crime movie (can be combinated with fantasy), 190 min long with 11 languages spoken. \n",
    "\n",
    "It is therefore hard to tell who between John and Bob is going to make the higher profit and win the bet, but Bob is definitely a bolder player!"
   ]
  }
 ],
 "metadata": {
  "kernelspec": {
   "display_name": "Python 3 (ipykernel)",
   "language": "python",
   "name": "python3"
  },
  "language_info": {
   "codemirror_mode": {
    "name": "ipython",
    "version": 3
   },
   "file_extension": ".py",
   "mimetype": "text/x-python",
   "name": "python",
   "nbconvert_exporter": "python",
   "pygments_lexer": "ipython3",
   "version": "3.8.5"
  }
 },
 "nbformat": 4,
 "nbformat_minor": 4
}
