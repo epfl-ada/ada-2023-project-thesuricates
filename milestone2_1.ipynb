{
 "cells": [
  {
   "cell_type": "markdown",
   "metadata": {},
   "source": [
    "**CS-401 Applied Data Analysis**  \n",
    "**Project Milestone 2** \n",
    "\n",
    "**Group ID:** TheSuricates  \n",
    "\n",
    "# **Budget Battles:** Maximizing Returns in Filmmaking Odyssey"
   ]
  },
  {
   "cell_type": "code",
   "execution_count": 1,
   "metadata": {},
   "outputs": [],
   "source": [
    "import pandas as pd\n",
    "import numpy as np\n",
    "import matplotlib.pyplot as plt\n",
    "import scipy.stats as stats\n",
    "import seaborn as sns\n",
    "import matplotlib.pyplot as plt\n",
    "import ast\n",
    "\n",
    "from helpers import *\n",
    "\n",
    "PATH = './data'"
   ]
  },
  {
   "cell_type": "markdown",
   "metadata": {},
   "source": [
    "### Import CMU dataset"
   ]
  },
  {
   "cell_type": "markdown",
   "metadata": {},
   "source": [
    "We import the CMU data and add the names of the columns by looking at the data documentation."
   ]
  },
  {
   "cell_type": "code",
   "execution_count": 2,
   "metadata": {},
   "outputs": [],
   "source": [
    "data_folder = './data/'\n",
    "\n",
    "character = pd.read_csv(PATH + '/character.metadata.tsv', sep='\\t', \n",
    "                        names=['wikiPageID', 'freebaseMovieId', 'DateOfRelease', 'characterName', 'actorDOB',\n",
    "                               'actorGender', 'actorHeight', 'actorEthnicity', 'actorName', \n",
    "                               'actorAge', 'map1', 'map2', 'map3'])\n",
    "\n",
    "movie = pd.read_csv(PATH + '/movie.metadata.tsv', sep='\\t', \n",
    "                    names=['wikiPageID', 'freebaseMovieId', 'movieName', 'movieReleaseDate', 'movieBoxOfficeRevenue',\n",
    "                            'movieRuntime', 'movieLanguages', 'movieCountries', 'movieGenres'])"
   ]
  },
  {
   "cell_type": "markdown",
   "metadata": {},
   "source": [
    "## Merging additional dataset"
   ]
  },
  {
   "cell_type": "markdown",
   "metadata": {},
   "source": [
    "Our initial data does not contain information about the **budget** of the movie. We will then use wikidata and merge it to our dataset. Before merging we preprocess the data and make a currency convertion to have all the values in **USD**."
   ]
  },
  {
   "cell_type": "markdown",
   "metadata": {},
   "source": [
    "#### Data Preprocessing and Currency Converion"
   ]
  },
  {
   "cell_type": "code",
   "execution_count": 3,
   "metadata": {},
   "outputs": [
    {
     "name": "stdout",
     "output_type": "stream",
     "text": [
      "No page found for It: Chapter Two\n"
     ]
    }
   ],
   "source": [
    "# Read the data into a DataFrame\n",
    "df = pd.read_csv(f\"{PATH}/film_wiki_data.csv\")\n",
    "\n",
    "# Group by 'filmLabel' and keep the row with the max 'boxOffice' for each group since some films have multiple rows with box office per country\n",
    "df = df.loc[df.groupby('filmLabel')['boxOffice'].idxmax()]\n",
    "df = df.reset_index(drop=True)\n",
    "\n",
    "# Apply the currency conversion to each row\n",
    "df = df.apply(lambda row: convert_row_currency(PATH, row), axis=1)\n",
    "\n",
    "# remove if page id is not defined\n",
    "df = df[df['wikiPageID'] != -1]\n",
    "# save csv without row index\n",
    "df.to_csv(f'{PATH}/film_wiki_data_formatted.csv', index=False)"
   ]
  },
  {
   "cell_type": "markdown",
   "metadata": {},
   "source": [
    "#### Merge Datasets"
   ]
  },
  {
   "cell_type": "code",
   "execution_count": 3,
   "metadata": {},
   "outputs": [
    {
     "name": "stdout",
     "output_type": "stream",
     "text": [
      "There are 810 movies in the merged dataset\n"
     ]
    }
   ],
   "source": [
    "# Load the first CSV file\n",
    "wiki_data = pd.read_csv(f'{PATH}/film_wiki_data_formatted.csv')\n",
    "\n",
    "merged_movie = pd.merge(wiki_data, movie, on='wikiPageID', how='inner')\n",
    "merged_movie.to_csv(f'{PATH}/merged_movie_data.csv', index=False)\n",
    "\n",
    "print('There are {} movies in the merged dataset'.format(len(merged_movie)))"
   ]
  },
  {
   "cell_type": "markdown",
   "metadata": {},
   "source": [
    "We observe that only 810 movies match the Wikidata dataset. We will determine if this is sufficient or if we need to add TMDB data to enhance the dataset."
   ]
  },
  {
   "cell_type": "markdown",
   "metadata": {},
   "source": [
    "# Cleaning data"
   ]
  },
  {
   "cell_type": "markdown",
   "metadata": {},
   "source": [
    "We will first remove all the missing values in the features we will use. \n",
    "As we need information about both the movie and the characters in it for our analysis, we will keep only the rows which are common in both movie and character dataframes. "
   ]
  },
  {
   "cell_type": "code",
   "execution_count": 4,
   "metadata": {},
   "outputs": [],
   "source": [
    "# Suppress rows in the movie dataframe containing NaNs on features we will use\n",
    "cleaned_movie = merged_movie.copy()\n",
    "cleaned_movie.dropna(subset=['cost', 'boxOffice', 'movieReleaseDate', 'movieRuntime',\n",
    "                              'movieCountries', 'movieGenres'], inplace=True)\n",
    "\n",
    "# Suppress rows in the character dataframe without actor names\n",
    "cleaned_character = character.copy()\n",
    "cleaned_character.dropna(subset=['actorName'], inplace=True)"
   ]
  },
  {
   "cell_type": "code",
   "execution_count": 5,
   "metadata": {},
   "outputs": [],
   "source": [
    "# Remove rows which are not common in the movie and character dataframes\n",
    "cleaned_character = cleaned_character[cleaned_character['wikiPageID'].isin(cleaned_movie['wikiPageID'])]\n",
    "cleaned_movie = cleaned_movie[cleaned_movie['wikiPageID'].isin(cleaned_character['wikiPageID'])]"
   ]
  },
  {
   "cell_type": "markdown",
   "metadata": {},
   "source": [
    "# Preparing movie features"
   ]
  },
  {
   "cell_type": "markdown",
   "metadata": {},
   "source": [
    "Let's create our own dataframe with some features which could have an effect on the multiplier of the money earned relative to the money invested in the film."
   ]
  },
  {
   "cell_type": "markdown",
   "metadata": {},
   "source": [
    "First we will use features which already exist in the movie metadata : the runtime, movie country and genre. We will also need to keep the wikipedia id, the name of the movie, the release date and the box office revenue for our analysis."
   ]
  },
  {
   "cell_type": "code",
   "execution_count": 6,
   "metadata": {},
   "outputs": [
    {
     "data": {
      "text/html": [
       "<div>\n",
       "<style scoped>\n",
       "    .dataframe tbody tr th:only-of-type {\n",
       "        vertical-align: middle;\n",
       "    }\n",
       "\n",
       "    .dataframe tbody tr th {\n",
       "        vertical-align: top;\n",
       "    }\n",
       "\n",
       "    .dataframe thead th {\n",
       "        text-align: right;\n",
       "    }\n",
       "</style>\n",
       "<table border=\"1\" class=\"dataframe\">\n",
       "  <thead>\n",
       "    <tr style=\"text-align: right;\">\n",
       "      <th></th>\n",
       "      <th>wikiPageID</th>\n",
       "      <th>movieName</th>\n",
       "      <th>movieReleaseDate</th>\n",
       "      <th>cost</th>\n",
       "      <th>boxOffice</th>\n",
       "      <th>movieRuntime</th>\n",
       "      <th>movieCountries</th>\n",
       "      <th>movieGenres</th>\n",
       "    </tr>\n",
       "  </thead>\n",
       "  <tbody>\n",
       "    <tr>\n",
       "      <th>0</th>\n",
       "      <td>398934.0</td>\n",
       "      <td>10 Things I Hate About You</td>\n",
       "      <td>1999-03-31</td>\n",
       "      <td>13000000.0</td>\n",
       "      <td>53478579.0</td>\n",
       "      <td>97.0</td>\n",
       "      <td>{\"/m/09c7w0\": \"United States of America\"}</td>\n",
       "      <td>{\"/m/06cvj\": \"Romantic comedy\", \"/m/02l7c8\": \"...</td>\n",
       "    </tr>\n",
       "    <tr>\n",
       "      <th>1</th>\n",
       "      <td>14979283.0</td>\n",
       "      <td>10 to Midnight</td>\n",
       "      <td>1983</td>\n",
       "      <td>4520000.0</td>\n",
       "      <td>7175592.0</td>\n",
       "      <td>103.0</td>\n",
       "      <td>{\"/m/09c7w0\": \"United States of America\"}</td>\n",
       "      <td>{\"/m/01jfsb\": \"Thriller\", \"/m/0lsxr\": \"Crime F...</td>\n",
       "    </tr>\n",
       "    <tr>\n",
       "      <th>2</th>\n",
       "      <td>30575.0</td>\n",
       "      <td>Twelve Monkeys</td>\n",
       "      <td>1995-12-27</td>\n",
       "      <td>29500000.0</td>\n",
       "      <td>168839459.0</td>\n",
       "      <td>131.0</td>\n",
       "      <td>{\"/m/09c7w0\": \"United States of America\"}</td>\n",
       "      <td>{\"/m/01jfsb\": \"Thriller\", \"/m/06n90\": \"Science...</td>\n",
       "    </tr>\n",
       "    <tr>\n",
       "      <th>3</th>\n",
       "      <td>25244870.0</td>\n",
       "      <td>127 Hours</td>\n",
       "      <td>2010-09-04</td>\n",
       "      <td>18000000.0</td>\n",
       "      <td>60000000.0</td>\n",
       "      <td>90.0</td>\n",
       "      <td>{\"/m/09c7w0\": \"United States of America\", \"/m/...</td>\n",
       "      <td>{\"/m/01jfsb\": \"Thriller\", \"/m/03bxz7\": \"Biogra...</td>\n",
       "    </tr>\n",
       "    <tr>\n",
       "      <th>4</th>\n",
       "      <td>407288.0</td>\n",
       "      <td>2 Fast 2 Furious</td>\n",
       "      <td>2003-06-03</td>\n",
       "      <td>76000000.0</td>\n",
       "      <td>236350661.0</td>\n",
       "      <td>101.0</td>\n",
       "      <td>{\"/m/09c7w0\": \"United States of America\", \"/m/...</td>\n",
       "      <td>{\"/m/01jfsb\": \"Thriller\", \"/m/0lsxr\": \"Crime F...</td>\n",
       "    </tr>\n",
       "  </tbody>\n",
       "</table>\n",
       "</div>"
      ],
      "text/plain": [
       "   wikiPageID                   movieName movieReleaseDate        cost  \\\n",
       "0    398934.0  10 Things I Hate About You       1999-03-31  13000000.0   \n",
       "1  14979283.0              10 to Midnight             1983   4520000.0   \n",
       "2     30575.0              Twelve Monkeys       1995-12-27  29500000.0   \n",
       "3  25244870.0                   127 Hours       2010-09-04  18000000.0   \n",
       "4    407288.0            2 Fast 2 Furious       2003-06-03  76000000.0   \n",
       "\n",
       "     boxOffice  movieRuntime  \\\n",
       "0   53478579.0          97.0   \n",
       "1    7175592.0         103.0   \n",
       "2  168839459.0         131.0   \n",
       "3   60000000.0          90.0   \n",
       "4  236350661.0         101.0   \n",
       "\n",
       "                                      movieCountries  \\\n",
       "0          {\"/m/09c7w0\": \"United States of America\"}   \n",
       "1          {\"/m/09c7w0\": \"United States of America\"}   \n",
       "2          {\"/m/09c7w0\": \"United States of America\"}   \n",
       "3  {\"/m/09c7w0\": \"United States of America\", \"/m/...   \n",
       "4  {\"/m/09c7w0\": \"United States of America\", \"/m/...   \n",
       "\n",
       "                                         movieGenres  \n",
       "0  {\"/m/06cvj\": \"Romantic comedy\", \"/m/02l7c8\": \"...  \n",
       "1  {\"/m/01jfsb\": \"Thriller\", \"/m/0lsxr\": \"Crime F...  \n",
       "2  {\"/m/01jfsb\": \"Thriller\", \"/m/06n90\": \"Science...  \n",
       "3  {\"/m/01jfsb\": \"Thriller\", \"/m/03bxz7\": \"Biogra...  \n",
       "4  {\"/m/01jfsb\": \"Thriller\", \"/m/0lsxr\": \"Crime F...  "
      ]
     },
     "execution_count": 6,
     "metadata": {},
     "output_type": "execute_result"
    }
   ],
   "source": [
    "# Create a new dataframe using movie information\n",
    "movie_features = cleaned_movie[['wikiPageID', 'movieName', 'movieReleaseDate', 'cost', 'boxOffice',\n",
    "                                 'movieRuntime', 'movieCountries', 'movieGenres']].copy()\n",
    "movie_features.head()"
   ]
  },
  {
   "cell_type": "markdown",
   "metadata": {},
   "source": [
    "We will also create new features from the character metadata : \n",
    "- number of characters per movie\n",
    "- the average experience of actors : the average upon all actors of the number of movies they appear in (before the movie)\n",
    "- the male ratio of actors\n",
    "- the ratio of young actors (below 18 years old)\n",
    "- the ratio of old actors (above 60 years old)"
   ]
  },
  {
   "cell_type": "code",
   "execution_count": 7,
   "metadata": {},
   "outputs": [
    {
     "data": {
      "text/html": [
       "<div>\n",
       "<style scoped>\n",
       "    .dataframe tbody tr th:only-of-type {\n",
       "        vertical-align: middle;\n",
       "    }\n",
       "\n",
       "    .dataframe tbody tr th {\n",
       "        vertical-align: top;\n",
       "    }\n",
       "\n",
       "    .dataframe thead th {\n",
       "        text-align: right;\n",
       "    }\n",
       "</style>\n",
       "<table border=\"1\" class=\"dataframe\">\n",
       "  <thead>\n",
       "    <tr style=\"text-align: right;\">\n",
       "      <th></th>\n",
       "      <th>wikiPageID</th>\n",
       "      <th>movieName</th>\n",
       "      <th>movieReleaseDate</th>\n",
       "      <th>cost</th>\n",
       "      <th>boxOffice</th>\n",
       "      <th>movieRuntime</th>\n",
       "      <th>movieCountries</th>\n",
       "      <th>movieGenres</th>\n",
       "      <th>numberOfCharacters</th>\n",
       "      <th>below18</th>\n",
       "      <th>above60</th>\n",
       "      <th>maleRatio</th>\n",
       "    </tr>\n",
       "  </thead>\n",
       "  <tbody>\n",
       "    <tr>\n",
       "      <th>0</th>\n",
       "      <td>398934.0</td>\n",
       "      <td>10 Things I Hate About You</td>\n",
       "      <td>1999-03-31</td>\n",
       "      <td>13000000.0</td>\n",
       "      <td>53478579.0</td>\n",
       "      <td>97.0</td>\n",
       "      <td>{\"/m/09c7w0\": \"United States of America\"}</td>\n",
       "      <td>{\"/m/06cvj\": \"Romantic comedy\", \"/m/02l7c8\": \"...</td>\n",
       "      <td>13</td>\n",
       "      <td>0.076923</td>\n",
       "      <td>0.000000</td>\n",
       "      <td>0.538462</td>\n",
       "    </tr>\n",
       "    <tr>\n",
       "      <th>1</th>\n",
       "      <td>14979283.0</td>\n",
       "      <td>10 to Midnight</td>\n",
       "      <td>1983</td>\n",
       "      <td>4520000.0</td>\n",
       "      <td>7175592.0</td>\n",
       "      <td>103.0</td>\n",
       "      <td>{\"/m/09c7w0\": \"United States of America\"}</td>\n",
       "      <td>{\"/m/01jfsb\": \"Thriller\", \"/m/0lsxr\": \"Crime F...</td>\n",
       "      <td>11</td>\n",
       "      <td>0.000000</td>\n",
       "      <td>0.090909</td>\n",
       "      <td>0.636364</td>\n",
       "    </tr>\n",
       "    <tr>\n",
       "      <th>2</th>\n",
       "      <td>30575.0</td>\n",
       "      <td>Twelve Monkeys</td>\n",
       "      <td>1995-12-27</td>\n",
       "      <td>29500000.0</td>\n",
       "      <td>168839459.0</td>\n",
       "      <td>131.0</td>\n",
       "      <td>{\"/m/09c7w0\": \"United States of America\"}</td>\n",
       "      <td>{\"/m/01jfsb\": \"Thriller\", \"/m/06n90\": \"Science...</td>\n",
       "      <td>9</td>\n",
       "      <td>0.000000</td>\n",
       "      <td>0.111111</td>\n",
       "      <td>0.888889</td>\n",
       "    </tr>\n",
       "    <tr>\n",
       "      <th>3</th>\n",
       "      <td>25244870.0</td>\n",
       "      <td>127 Hours</td>\n",
       "      <td>2010-09-04</td>\n",
       "      <td>18000000.0</td>\n",
       "      <td>60000000.0</td>\n",
       "      <td>90.0</td>\n",
       "      <td>{\"/m/09c7w0\": \"United States of America\", \"/m/...</td>\n",
       "      <td>{\"/m/01jfsb\": \"Thriller\", \"/m/03bxz7\": \"Biogra...</td>\n",
       "      <td>18</td>\n",
       "      <td>0.055556</td>\n",
       "      <td>0.000000</td>\n",
       "      <td>0.555556</td>\n",
       "    </tr>\n",
       "    <tr>\n",
       "      <th>4</th>\n",
       "      <td>407288.0</td>\n",
       "      <td>2 Fast 2 Furious</td>\n",
       "      <td>2003-06-03</td>\n",
       "      <td>76000000.0</td>\n",
       "      <td>236350661.0</td>\n",
       "      <td>101.0</td>\n",
       "      <td>{\"/m/09c7w0\": \"United States of America\", \"/m/...</td>\n",
       "      <td>{\"/m/01jfsb\": \"Thriller\", \"/m/0lsxr\": \"Crime F...</td>\n",
       "      <td>15</td>\n",
       "      <td>0.000000</td>\n",
       "      <td>0.000000</td>\n",
       "      <td>0.866667</td>\n",
       "    </tr>\n",
       "  </tbody>\n",
       "</table>\n",
       "</div>"
      ],
      "text/plain": [
       "   wikiPageID                   movieName movieReleaseDate        cost  \\\n",
       "0    398934.0  10 Things I Hate About You       1999-03-31  13000000.0   \n",
       "1  14979283.0              10 to Midnight             1983   4520000.0   \n",
       "2     30575.0              Twelve Monkeys       1995-12-27  29500000.0   \n",
       "3  25244870.0                   127 Hours       2010-09-04  18000000.0   \n",
       "4    407288.0            2 Fast 2 Furious       2003-06-03  76000000.0   \n",
       "\n",
       "     boxOffice  movieRuntime  \\\n",
       "0   53478579.0          97.0   \n",
       "1    7175592.0         103.0   \n",
       "2  168839459.0         131.0   \n",
       "3   60000000.0          90.0   \n",
       "4  236350661.0         101.0   \n",
       "\n",
       "                                      movieCountries  \\\n",
       "0          {\"/m/09c7w0\": \"United States of America\"}   \n",
       "1          {\"/m/09c7w0\": \"United States of America\"}   \n",
       "2          {\"/m/09c7w0\": \"United States of America\"}   \n",
       "3  {\"/m/09c7w0\": \"United States of America\", \"/m/...   \n",
       "4  {\"/m/09c7w0\": \"United States of America\", \"/m/...   \n",
       "\n",
       "                                         movieGenres  numberOfCharacters  \\\n",
       "0  {\"/m/06cvj\": \"Romantic comedy\", \"/m/02l7c8\": \"...                  13   \n",
       "1  {\"/m/01jfsb\": \"Thriller\", \"/m/0lsxr\": \"Crime F...                  11   \n",
       "2  {\"/m/01jfsb\": \"Thriller\", \"/m/06n90\": \"Science...                   9   \n",
       "3  {\"/m/01jfsb\": \"Thriller\", \"/m/03bxz7\": \"Biogra...                  18   \n",
       "4  {\"/m/01jfsb\": \"Thriller\", \"/m/0lsxr\": \"Crime F...                  15   \n",
       "\n",
       "    below18   above60  maleRatio  \n",
       "0  0.076923  0.000000   0.538462  \n",
       "1  0.000000  0.090909   0.636364  \n",
       "2  0.000000  0.111111   0.888889  \n",
       "3  0.055556  0.000000   0.555556  \n",
       "4  0.000000  0.000000   0.866667  "
      ]
     },
     "execution_count": 7,
     "metadata": {},
     "output_type": "execute_result"
    }
   ],
   "source": [
    "# Total number of characters, number by age category and by gender\n",
    "\n",
    "counts = cleaned_character.groupby('wikiPageID').agg(\n",
    "    numberOfCharacters=('actorName', 'size'),\n",
    "    below18=('actorAge', lambda x: (x < 18).sum()),\n",
    "    above60=('actorAge', lambda x: (x > 60).sum()),\n",
    "    maleRatio=('actorGender', lambda x: (x == 'M').sum())\n",
    ").reset_index()\n",
    "\n",
    "# We change the number of characters by age/gender by the ratio above total number of characters\n",
    "counts['below18'] = counts['below18'] / counts['numberOfCharacters']\n",
    "counts['above60'] = counts['above60'] / counts['numberOfCharacters']\n",
    "counts['maleRatio'] = counts['maleRatio'] / counts['numberOfCharacters']\n",
    "\n",
    "# Add the new columns to our movie_features dataframe\n",
    "movie_features = pd.merge(movie_features, counts, left_on='wikiPageID', right_on='wikiPageID', how='left')\n",
    "movie_features.head()"
   ]
  },
  {
   "cell_type": "code",
   "execution_count": 8,
   "metadata": {},
   "outputs": [
    {
     "data": {
      "text/html": [
       "<div>\n",
       "<style scoped>\n",
       "    .dataframe tbody tr th:only-of-type {\n",
       "        vertical-align: middle;\n",
       "    }\n",
       "\n",
       "    .dataframe tbody tr th {\n",
       "        vertical-align: top;\n",
       "    }\n",
       "\n",
       "    .dataframe thead th {\n",
       "        text-align: right;\n",
       "    }\n",
       "</style>\n",
       "<table border=\"1\" class=\"dataframe\">\n",
       "  <thead>\n",
       "    <tr style=\"text-align: right;\">\n",
       "      <th></th>\n",
       "      <th>wikiPageID</th>\n",
       "      <th>movieName</th>\n",
       "      <th>movieReleaseDate</th>\n",
       "      <th>cost</th>\n",
       "      <th>boxOffice</th>\n",
       "      <th>movieRuntime</th>\n",
       "      <th>movieCountries</th>\n",
       "      <th>movieGenres</th>\n",
       "      <th>numberOfCharacters</th>\n",
       "      <th>below18</th>\n",
       "      <th>above60</th>\n",
       "      <th>maleRatio</th>\n",
       "      <th>averageActorsExperience</th>\n",
       "    </tr>\n",
       "  </thead>\n",
       "  <tbody>\n",
       "    <tr>\n",
       "      <th>0</th>\n",
       "      <td>398934.0</td>\n",
       "      <td>10 Things I Hate About You</td>\n",
       "      <td>1999-03-31</td>\n",
       "      <td>13000000.0</td>\n",
       "      <td>53478579.0</td>\n",
       "      <td>97.0</td>\n",
       "      <td>{\"/m/09c7w0\": \"United States of America\"}</td>\n",
       "      <td>{\"/m/06cvj\": \"Romantic comedy\", \"/m/02l7c8\": \"...</td>\n",
       "      <td>13</td>\n",
       "      <td>0.076923</td>\n",
       "      <td>0.000000</td>\n",
       "      <td>0.538462</td>\n",
       "      <td>0.307692</td>\n",
       "    </tr>\n",
       "    <tr>\n",
       "      <th>1</th>\n",
       "      <td>14979283.0</td>\n",
       "      <td>10 to Midnight</td>\n",
       "      <td>1983</td>\n",
       "      <td>4520000.0</td>\n",
       "      <td>7175592.0</td>\n",
       "      <td>103.0</td>\n",
       "      <td>{\"/m/09c7w0\": \"United States of America\"}</td>\n",
       "      <td>{\"/m/01jfsb\": \"Thriller\", \"/m/0lsxr\": \"Crime F...</td>\n",
       "      <td>11</td>\n",
       "      <td>0.000000</td>\n",
       "      <td>0.090909</td>\n",
       "      <td>0.636364</td>\n",
       "      <td>0.727273</td>\n",
       "    </tr>\n",
       "    <tr>\n",
       "      <th>2</th>\n",
       "      <td>30575.0</td>\n",
       "      <td>Twelve Monkeys</td>\n",
       "      <td>1995-12-27</td>\n",
       "      <td>29500000.0</td>\n",
       "      <td>168839459.0</td>\n",
       "      <td>131.0</td>\n",
       "      <td>{\"/m/09c7w0\": \"United States of America\"}</td>\n",
       "      <td>{\"/m/01jfsb\": \"Thriller\", \"/m/06n90\": \"Science...</td>\n",
       "      <td>9</td>\n",
       "      <td>0.000000</td>\n",
       "      <td>0.111111</td>\n",
       "      <td>0.888889</td>\n",
       "      <td>0.777778</td>\n",
       "    </tr>\n",
       "    <tr>\n",
       "      <th>3</th>\n",
       "      <td>25244870.0</td>\n",
       "      <td>127 Hours</td>\n",
       "      <td>2010-09-04</td>\n",
       "      <td>18000000.0</td>\n",
       "      <td>60000000.0</td>\n",
       "      <td>90.0</td>\n",
       "      <td>{\"/m/09c7w0\": \"United States of America\", \"/m/...</td>\n",
       "      <td>{\"/m/01jfsb\": \"Thriller\", \"/m/03bxz7\": \"Biogra...</td>\n",
       "      <td>18</td>\n",
       "      <td>0.055556</td>\n",
       "      <td>0.000000</td>\n",
       "      <td>0.555556</td>\n",
       "      <td>0.666667</td>\n",
       "    </tr>\n",
       "    <tr>\n",
       "      <th>4</th>\n",
       "      <td>407288.0</td>\n",
       "      <td>2 Fast 2 Furious</td>\n",
       "      <td>2003-06-03</td>\n",
       "      <td>76000000.0</td>\n",
       "      <td>236350661.0</td>\n",
       "      <td>101.0</td>\n",
       "      <td>{\"/m/09c7w0\": \"United States of America\", \"/m/...</td>\n",
       "      <td>{\"/m/01jfsb\": \"Thriller\", \"/m/0lsxr\": \"Crime F...</td>\n",
       "      <td>15</td>\n",
       "      <td>0.000000</td>\n",
       "      <td>0.000000</td>\n",
       "      <td>0.866667</td>\n",
       "      <td>0.266667</td>\n",
       "    </tr>\n",
       "  </tbody>\n",
       "</table>\n",
       "</div>"
      ],
      "text/plain": [
       "   wikiPageID                   movieName movieReleaseDate        cost  \\\n",
       "0    398934.0  10 Things I Hate About You       1999-03-31  13000000.0   \n",
       "1  14979283.0              10 to Midnight             1983   4520000.0   \n",
       "2     30575.0              Twelve Monkeys       1995-12-27  29500000.0   \n",
       "3  25244870.0                   127 Hours       2010-09-04  18000000.0   \n",
       "4    407288.0            2 Fast 2 Furious       2003-06-03  76000000.0   \n",
       "\n",
       "     boxOffice  movieRuntime  \\\n",
       "0   53478579.0          97.0   \n",
       "1    7175592.0         103.0   \n",
       "2  168839459.0         131.0   \n",
       "3   60000000.0          90.0   \n",
       "4  236350661.0         101.0   \n",
       "\n",
       "                                      movieCountries  \\\n",
       "0          {\"/m/09c7w0\": \"United States of America\"}   \n",
       "1          {\"/m/09c7w0\": \"United States of America\"}   \n",
       "2          {\"/m/09c7w0\": \"United States of America\"}   \n",
       "3  {\"/m/09c7w0\": \"United States of America\", \"/m/...   \n",
       "4  {\"/m/09c7w0\": \"United States of America\", \"/m/...   \n",
       "\n",
       "                                         movieGenres  numberOfCharacters  \\\n",
       "0  {\"/m/06cvj\": \"Romantic comedy\", \"/m/02l7c8\": \"...                  13   \n",
       "1  {\"/m/01jfsb\": \"Thriller\", \"/m/0lsxr\": \"Crime F...                  11   \n",
       "2  {\"/m/01jfsb\": \"Thriller\", \"/m/06n90\": \"Science...                   9   \n",
       "3  {\"/m/01jfsb\": \"Thriller\", \"/m/03bxz7\": \"Biogra...                  18   \n",
       "4  {\"/m/01jfsb\": \"Thriller\", \"/m/0lsxr\": \"Crime F...                  15   \n",
       "\n",
       "    below18   above60  maleRatio  averageActorsExperience  \n",
       "0  0.076923  0.000000   0.538462                 0.307692  \n",
       "1  0.000000  0.090909   0.636364                 0.727273  \n",
       "2  0.000000  0.111111   0.888889                 0.777778  \n",
       "3  0.055556  0.000000   0.555556                 0.666667  \n",
       "4  0.000000  0.000000   0.866667                 0.266667  "
      ]
     },
     "execution_count": 8,
     "metadata": {},
     "output_type": "execute_result"
    }
   ],
   "source": [
    "# Actors' experience\n",
    "\n",
    "# Sort by the date of release (dor) within each actor group\n",
    "sorted_character = cleaned_character.sort_values(['actorName', 'DateOfRelease'])\n",
    "\n",
    "# Calculate cumulative count of movies for each actor up to the current movie\n",
    "sorted_character['cumulative_movie_count'] = sorted_character.groupby('actorName').cumcount()\n",
    "\n",
    "# Group by movie (wiki_id) and calculate the mean upon all actors of cumulative movie counts for each movie\n",
    "experience_per_movie = sorted_character.groupby('wikiPageID')['cumulative_movie_count'].mean().reset_index()\n",
    "experience_per_movie.columns = ['wikiPageID', 'averageActorsExperience']\n",
    "\n",
    "# Merge with the 'movie_features' dataframe\n",
    "movie_features = pd.merge(movie_features, experience_per_movie, on='wikiPageID', how='left')\n",
    "movie_features.head()\n"
   ]
  },
  {
   "cell_type": "markdown",
   "metadata": {},
   "source": [
    "# Separate low and high budget movies"
   ]
  },
  {
   "cell_type": "markdown",
   "metadata": {},
   "source": [
    "### Removing outliers"
   ]
  },
  {
   "cell_type": "markdown",
   "metadata": {},
   "source": [
    "First, we will remove the outliers of our data in terms of multiplier between the budget and the revenue. "
   ]
  },
  {
   "cell_type": "code",
   "execution_count": 9,
   "metadata": {},
   "outputs": [],
   "source": [
    "# Create a new column corresponding to the ratio between the revenue and budget of the movie\n",
    "movie_features['multiplier'] = movie_features['boxOffice'] / movie_features['cost']"
   ]
  },
  {
   "cell_type": "code",
   "execution_count": 10,
   "metadata": {},
   "outputs": [],
   "source": [
    "# Define the upper and lower bounds by looking at our data\n",
    "lower_bound = 0.1 \n",
    "upper_bound = 50\n",
    "\n",
    "# Filter out rows with values outside the bounds\n",
    "movie_features_no_outliers = movie_features[(movie_features['multiplier'] >= lower_bound) & (movie_features['multiplier'] <= upper_bound)].copy()"
   ]
  },
  {
   "cell_type": "markdown",
   "metadata": {},
   "source": [
    "### Adjusting with inflation"
   ]
  },
  {
   "cell_type": "markdown",
   "metadata": {},
   "source": [
    " By looking at the movie budget at different years of release, we can see that there is there is a high increase over the years. For a better coherence, we will then adjust using the inflation rate."
   ]
  },
  {
   "cell_type": "code",
   "execution_count": 11,
   "metadata": {},
   "outputs": [],
   "source": [
    "# Convert our movies release date to datetime\n",
    "def convert_to_datetime(date_str):\n",
    "    try:\n",
    "        return pd.to_datetime(date_str)\n",
    "    except ValueError:\n",
    "        # if there is only the year, add a month and day (1st of January)\n",
    "        return pd.to_datetime(date_str + '-01-01')"
   ]
  },
  {
   "cell_type": "code",
   "execution_count": 12,
   "metadata": {},
   "outputs": [],
   "source": [
    "# Convert the movies date of release to datetime\n",
    "movie_features_no_outliers['movieReleaseDate'] = movie_features_no_outliers['movieReleaseDate'].apply(convert_to_datetime)"
   ]
  },
  {
   "cell_type": "code",
   "execution_count": 13,
   "metadata": {},
   "outputs": [
    {
     "data": {
      "image/png": "[encoded data removed]",
      "text/plain": [
       "<Figure size 640x480 with 1 Axes>"
      ]
     },
     "metadata": {},
     "output_type": "display_data"
    }
   ],
   "source": [
    "# Plot the movie budget at different years of release\n",
    "plt.scatter(movie_features_no_outliers['movieReleaseDate'], movie_features_no_outliers['cost'])\n",
    "plt.title('Movie budget at different years of release')\n",
    "plt.xlabel('year of release')\n",
    "plt.ylabel('movie budget')\n",
    "plt.show()"
   ]
  },
  {
   "cell_type": "markdown",
   "metadata": {},
   "source": [
    "First we can see two outliers in 1960 and 1979 that we still have to remove."
   ]
  },
  {
   "cell_type": "code",
   "execution_count": 14,
   "metadata": {},
   "outputs": [],
   "source": [
    "# Remove the two outliers\n",
    "movie_features_no_outliers= movie_features_no_outliers[~movie_features_no_outliers['wikiPageID'].isin([1040518, 31556])]"
   ]
  },
  {
   "cell_type": "markdown",
   "metadata": {},
   "source": [
    "We will use inflation rates per year which we got from the US inflation calculator."
   ]
  },
  {
   "cell_type": "code",
   "execution_count": 15,
   "metadata": {},
   "outputs": [
    {
     "ename": "FileNotFoundError",
     "evalue": "[Errno 2] No such file or directory: './data/inflation_rates.csv'",
     "output_type": "error",
     "traceback": [
      "\u001b[1;31m---------------------------------------------------------------------------\u001b[0m",
      "\u001b[1;31mFileNotFoundError\u001b[0m                         Traceback (most recent call last)",
      "\u001b[1;32m~\\AppData\\Local\\Temp\\ipykernel_1160\\1344212867.py\u001b[0m in \u001b[0;36m<module>\u001b[1;34m\u001b[0m\n\u001b[0;32m      1\u001b[0m \u001b[1;31m# Importing inflation rates\u001b[0m\u001b[1;33m\u001b[0m\u001b[1;33m\u001b[0m\u001b[0m\n\u001b[1;32m----> 2\u001b[1;33m \u001b[0minflation_rate\u001b[0m \u001b[1;33m=\u001b[0m \u001b[0mpd\u001b[0m\u001b[1;33m.\u001b[0m\u001b[0mread_csv\u001b[0m\u001b[1;33m(\u001b[0m\u001b[0mPATH\u001b[0m \u001b[1;33m+\u001b[0m \u001b[1;34m'/inflation_rates.csv'\u001b[0m\u001b[1;33m,\u001b[0m \u001b[0msep\u001b[0m\u001b[1;33m=\u001b[0m\u001b[1;34m';'\u001b[0m\u001b[1;33m)\u001b[0m\u001b[1;33m\u001b[0m\u001b[1;33m\u001b[0m\u001b[0m\n\u001b[0m\u001b[0;32m      3\u001b[0m \u001b[0minflation_rate\u001b[0m \u001b[1;33m=\u001b[0m \u001b[0minflation_rate\u001b[0m\u001b[1;33m.\u001b[0m\u001b[0mset_index\u001b[0m\u001b[1;33m(\u001b[0m\u001b[1;34m'Year'\u001b[0m\u001b[1;33m)\u001b[0m\u001b[1;33m\u001b[0m\u001b[1;33m\u001b[0m\u001b[0m\n",
      "\u001b[1;32mc:\\Users\\jojod\\anaconda3\\lib\\site-packages\\pandas\\util\\_decorators.py\u001b[0m in \u001b[0;36mwrapper\u001b[1;34m(*args, **kwargs)\u001b[0m\n\u001b[0;32m    309\u001b[0m                     \u001b[0mstacklevel\u001b[0m\u001b[1;33m=\u001b[0m\u001b[0mstacklevel\u001b[0m\u001b[1;33m,\u001b[0m\u001b[1;33m\u001b[0m\u001b[1;33m\u001b[0m\u001b[0m\n\u001b[0;32m    310\u001b[0m                 )\n\u001b[1;32m--> 311\u001b[1;33m             \u001b[1;32mreturn\u001b[0m \u001b[0mfunc\u001b[0m\u001b[1;33m(\u001b[0m\u001b[1;33m*\u001b[0m\u001b[0margs\u001b[0m\u001b[1;33m,\u001b[0m \u001b[1;33m**\u001b[0m\u001b[0mkwargs\u001b[0m\u001b[1;33m)\u001b[0m\u001b[1;33m\u001b[0m\u001b[1;33m\u001b[0m\u001b[0m\n\u001b[0m\u001b[0;32m    312\u001b[0m \u001b[1;33m\u001b[0m\u001b[0m\n\u001b[0;32m    313\u001b[0m         \u001b[1;32mreturn\u001b[0m \u001b[0mwrapper\u001b[0m\u001b[1;33m\u001b[0m\u001b[1;33m\u001b[0m\u001b[0m\n",
      "\u001b[1;32mc:\\Users\\jojod\\anaconda3\\lib\\site-packages\\pandas\\io\\parsers\\readers.py\u001b[0m in \u001b[0;36mread_csv\u001b[1;34m(filepath_or_buffer, sep, delimiter, header, names, index_col, usecols, squeeze, prefix, mangle_dupe_cols, dtype, engine, converters, true_values, false_values, skipinitialspace, skiprows, skipfooter, nrows, na_values, keep_default_na, na_filter, verbose, skip_blank_lines, parse_dates, infer_datetime_format, keep_date_col, date_parser, dayfirst, cache_dates, iterator, chunksize, compression, thousands, decimal, lineterminator, quotechar, quoting, doublequote, escapechar, comment, encoding, encoding_errors, dialect, error_bad_lines, warn_bad_lines, on_bad_lines, delim_whitespace, low_memory, memory_map, float_precision, storage_options)\u001b[0m\n\u001b[0;32m    676\u001b[0m     \u001b[0mkwds\u001b[0m\u001b[1;33m.\u001b[0m\u001b[0mupdate\u001b[0m\u001b[1;33m(\u001b[0m\u001b[0mkwds_defaults\u001b[0m\u001b[1;33m)\u001b[0m\u001b[1;33m\u001b[0m\u001b[1;33m\u001b[0m\u001b[0m\n\u001b[0;32m    677\u001b[0m \u001b[1;33m\u001b[0m\u001b[0m\n\u001b[1;32m--> 678\u001b[1;33m     \u001b[1;32mreturn\u001b[0m \u001b[0m_read\u001b[0m\u001b[1;33m(\u001b[0m\u001b[0mfilepath_or_buffer\u001b[0m\u001b[1;33m,\u001b[0m \u001b[0mkwds\u001b[0m\u001b[1;33m)\u001b[0m\u001b[1;33m\u001b[0m\u001b[1;33m\u001b[0m\u001b[0m\n\u001b[0m\u001b[0;32m    679\u001b[0m \u001b[1;33m\u001b[0m\u001b[0m\n\u001b[0;32m    680\u001b[0m \u001b[1;33m\u001b[0m\u001b[0m\n",
      "\u001b[1;32mc:\\Users\\jojod\\anaconda3\\lib\\site-packages\\pandas\\io\\parsers\\readers.py\u001b[0m in \u001b[0;36m_read\u001b[1;34m(filepath_or_buffer, kwds)\u001b[0m\n\u001b[0;32m    573\u001b[0m \u001b[1;33m\u001b[0m\u001b[0m\n\u001b[0;32m    574\u001b[0m     \u001b[1;31m# Create the parser.\u001b[0m\u001b[1;33m\u001b[0m\u001b[1;33m\u001b[0m\u001b[0m\n\u001b[1;32m--> 575\u001b[1;33m     \u001b[0mparser\u001b[0m \u001b[1;33m=\u001b[0m \u001b[0mTextFileReader\u001b[0m\u001b[1;33m(\u001b[0m\u001b[0mfilepath_or_buffer\u001b[0m\u001b[1;33m,\u001b[0m \u001b[1;33m**\u001b[0m\u001b[0mkwds\u001b[0m\u001b[1;33m)\u001b[0m\u001b[1;33m\u001b[0m\u001b[1;33m\u001b[0m\u001b[0m\n\u001b[0m\u001b[0;32m    576\u001b[0m \u001b[1;33m\u001b[0m\u001b[0m\n\u001b[0;32m    577\u001b[0m     \u001b[1;32mif\u001b[0m \u001b[0mchunksize\u001b[0m \u001b[1;32mor\u001b[0m \u001b[0miterator\u001b[0m\u001b[1;33m:\u001b[0m\u001b[1;33m\u001b[0m\u001b[1;33m\u001b[0m\u001b[0m\n",
      "\u001b[1;32mc:\\Users\\jojod\\anaconda3\\lib\\site-packages\\pandas\\io\\parsers\\readers.py\u001b[0m in \u001b[0;36m__init__\u001b[1;34m(self, f, engine, **kwds)\u001b[0m\n\u001b[0;32m    930\u001b[0m \u001b[1;33m\u001b[0m\u001b[0m\n\u001b[0;32m    931\u001b[0m         \u001b[0mself\u001b[0m\u001b[1;33m.\u001b[0m\u001b[0mhandles\u001b[0m\u001b[1;33m:\u001b[0m \u001b[0mIOHandles\u001b[0m \u001b[1;33m|\u001b[0m \u001b[1;32mNone\u001b[0m \u001b[1;33m=\u001b[0m \u001b[1;32mNone\u001b[0m\u001b[1;33m\u001b[0m\u001b[1;33m\u001b[0m\u001b[0m\n\u001b[1;32m--> 932\u001b[1;33m         \u001b[0mself\u001b[0m\u001b[1;33m.\u001b[0m\u001b[0m_engine\u001b[0m \u001b[1;33m=\u001b[0m \u001b[0mself\u001b[0m\u001b[1;33m.\u001b[0m\u001b[0m_make_engine\u001b[0m\u001b[1;33m(\u001b[0m\u001b[0mf\u001b[0m\u001b[1;33m,\u001b[0m \u001b[0mself\u001b[0m\u001b[1;33m.\u001b[0m\u001b[0mengine\u001b[0m\u001b[1;33m)\u001b[0m\u001b[1;33m\u001b[0m\u001b[1;33m\u001b[0m\u001b[0m\n\u001b[0m\u001b[0;32m    933\u001b[0m \u001b[1;33m\u001b[0m\u001b[0m\n\u001b[0;32m    934\u001b[0m     \u001b[1;32mdef\u001b[0m \u001b[0mclose\u001b[0m\u001b[1;33m(\u001b[0m\u001b[0mself\u001b[0m\u001b[1;33m)\u001b[0m\u001b[1;33m:\u001b[0m\u001b[1;33m\u001b[0m\u001b[1;33m\u001b[0m\u001b[0m\n",
      "\u001b[1;32mc:\\Users\\jojod\\anaconda3\\lib\\site-packages\\pandas\\io\\parsers\\readers.py\u001b[0m in \u001b[0;36m_make_engine\u001b[1;34m(self, f, engine)\u001b[0m\n\u001b[0;32m   1214\u001b[0m             \u001b[1;31m# \"Union[str, PathLike[str], ReadCsvBuffer[bytes], ReadCsvBuffer[str]]\"\u001b[0m\u001b[1;33m\u001b[0m\u001b[1;33m\u001b[0m\u001b[0m\n\u001b[0;32m   1215\u001b[0m             \u001b[1;31m# , \"str\", \"bool\", \"Any\", \"Any\", \"Any\", \"Any\", \"Any\"\u001b[0m\u001b[1;33m\u001b[0m\u001b[1;33m\u001b[0m\u001b[0m\n\u001b[1;32m-> 1216\u001b[1;33m             self.handles = get_handle(  # type: ignore[call-overload]\n\u001b[0m\u001b[0;32m   1217\u001b[0m                 \u001b[0mf\u001b[0m\u001b[1;33m,\u001b[0m\u001b[1;33m\u001b[0m\u001b[1;33m\u001b[0m\u001b[0m\n\u001b[0;32m   1218\u001b[0m                 \u001b[0mmode\u001b[0m\u001b[1;33m,\u001b[0m\u001b[1;33m\u001b[0m\u001b[1;33m\u001b[0m\u001b[0m\n",
      "\u001b[1;32mc:\\Users\\jojod\\anaconda3\\lib\\site-packages\\pandas\\io\\common.py\u001b[0m in \u001b[0;36mget_handle\u001b[1;34m(path_or_buf, mode, encoding, compression, memory_map, is_text, errors, storage_options)\u001b[0m\n\u001b[0;32m    784\u001b[0m         \u001b[1;32mif\u001b[0m \u001b[0mioargs\u001b[0m\u001b[1;33m.\u001b[0m\u001b[0mencoding\u001b[0m \u001b[1;32mand\u001b[0m \u001b[1;34m\"b\"\u001b[0m \u001b[1;32mnot\u001b[0m \u001b[1;32min\u001b[0m \u001b[0mioargs\u001b[0m\u001b[1;33m.\u001b[0m\u001b[0mmode\u001b[0m\u001b[1;33m:\u001b[0m\u001b[1;33m\u001b[0m\u001b[1;33m\u001b[0m\u001b[0m\n\u001b[0;32m    785\u001b[0m             \u001b[1;31m# Encoding\u001b[0m\u001b[1;33m\u001b[0m\u001b[1;33m\u001b[0m\u001b[0m\n\u001b[1;32m--> 786\u001b[1;33m             handle = open(\n\u001b[0m\u001b[0;32m    787\u001b[0m                 \u001b[0mhandle\u001b[0m\u001b[1;33m,\u001b[0m\u001b[1;33m\u001b[0m\u001b[1;33m\u001b[0m\u001b[0m\n\u001b[0;32m    788\u001b[0m                 \u001b[0mioargs\u001b[0m\u001b[1;33m.\u001b[0m\u001b[0mmode\u001b[0m\u001b[1;33m,\u001b[0m\u001b[1;33m\u001b[0m\u001b[1;33m\u001b[0m\u001b[0m\n",
      "\u001b[1;31mFileNotFoundError\u001b[0m: [Errno 2] No such file or directory: './data/inflation_rates.csv'"
     ]
    }
   ],
   "source": [
    "# Importing inflation rates\n",
    "inflation_rate = pd.read_csv(PATH + '/inflation_rates.csv', sep=';')\n",
    "inflation_rate = inflation_rate.set_index('Year')"
   ]
  },
  {
   "cell_type": "code",
   "execution_count": 16,
   "metadata": {},
   "outputs": [],
   "source": [
    "# Adjust the cost using inflation\n",
    "def adjust_cost(row):\n",
    "\n",
    "    release_year = row['movieReleaseDate'].year\n",
    "\n",
    "    # Initialize the adjusted cost with the initial cost\n",
    "    adjusted_cost = row['cost']\n",
    "    \n",
    "    # Iterate over the year of movie release to 2023\n",
    "    for year in range(release_year, 2023):\n",
    "        # Retrieve the inflation rate for the current year\n",
    "        rate = inflation_rate.loc[year, 'Average']\n",
    "        # Adjust the cost\n",
    "        adjusted_cost *= (1 + rate / 100)\n",
    "    return adjusted_cost"
   ]
  },
  {
   "cell_type": "code",
   "execution_count": 17,
   "metadata": {},
   "outputs": [
    {
     "ename": "NameError",
     "evalue": "name 'inflation_rate' is not defined",
     "output_type": "error",
     "traceback": [
      "\u001b[1;31m---------------------------------------------------------------------------\u001b[0m",
      "\u001b[1;31mNameError\u001b[0m                                 Traceback (most recent call last)",
      "\u001b[1;32m~\\AppData\\Local\\Temp\\ipykernel_1160\\2657518226.py\u001b[0m in \u001b[0;36m<module>\u001b[1;34m\u001b[0m\n\u001b[0;32m      1\u001b[0m \u001b[1;31m# Calculate the adjusted cost to each rows\u001b[0m\u001b[1;33m\u001b[0m\u001b[1;33m\u001b[0m\u001b[0m\n\u001b[1;32m----> 2\u001b[1;33m \u001b[0madjusted_costs\u001b[0m \u001b[1;33m=\u001b[0m \u001b[0mmovie_features_no_outliers\u001b[0m\u001b[1;33m.\u001b[0m\u001b[0mapply\u001b[0m\u001b[1;33m(\u001b[0m\u001b[0madjust_cost\u001b[0m\u001b[1;33m,\u001b[0m \u001b[0maxis\u001b[0m\u001b[1;33m=\u001b[0m\u001b[1;36m1\u001b[0m\u001b[1;33m)\u001b[0m\u001b[1;33m\u001b[0m\u001b[1;33m\u001b[0m\u001b[0m\n\u001b[0m\u001b[0;32m      3\u001b[0m \u001b[1;33m\u001b[0m\u001b[0m\n\u001b[0;32m      4\u001b[0m \u001b[1;31m# Create a new dataset with adjusted costs\u001b[0m\u001b[1;33m\u001b[0m\u001b[1;33m\u001b[0m\u001b[0m\n\u001b[0;32m      5\u001b[0m \u001b[0mmovie_features_adjusted\u001b[0m \u001b[1;33m=\u001b[0m \u001b[0mmovie_features_no_outliers\u001b[0m\u001b[1;33m.\u001b[0m\u001b[0mcopy\u001b[0m\u001b[1;33m(\u001b[0m\u001b[1;33m)\u001b[0m\u001b[1;33m\u001b[0m\u001b[1;33m\u001b[0m\u001b[0m\n",
      "\u001b[1;32mc:\\Users\\jojod\\anaconda3\\lib\\site-packages\\pandas\\core\\frame.py\u001b[0m in \u001b[0;36mapply\u001b[1;34m(self, func, axis, raw, result_type, args, **kwargs)\u001b[0m\n\u001b[0;32m   8846\u001b[0m             \u001b[0mkwargs\u001b[0m\u001b[1;33m=\u001b[0m\u001b[0mkwargs\u001b[0m\u001b[1;33m,\u001b[0m\u001b[1;33m\u001b[0m\u001b[1;33m\u001b[0m\u001b[0m\n\u001b[0;32m   8847\u001b[0m         )\n\u001b[1;32m-> 8848\u001b[1;33m         \u001b[1;32mreturn\u001b[0m \u001b[0mop\u001b[0m\u001b[1;33m.\u001b[0m\u001b[0mapply\u001b[0m\u001b[1;33m(\u001b[0m\u001b[1;33m)\u001b[0m\u001b[1;33m.\u001b[0m\u001b[0m__finalize__\u001b[0m\u001b[1;33m(\u001b[0m\u001b[0mself\u001b[0m\u001b[1;33m,\u001b[0m \u001b[0mmethod\u001b[0m\u001b[1;33m=\u001b[0m\u001b[1;34m\"apply\"\u001b[0m\u001b[1;33m)\u001b[0m\u001b[1;33m\u001b[0m\u001b[1;33m\u001b[0m\u001b[0m\n\u001b[0m\u001b[0;32m   8849\u001b[0m \u001b[1;33m\u001b[0m\u001b[0m\n\u001b[0;32m   8850\u001b[0m     def applymap(\n",
      "\u001b[1;32mc:\\Users\\jojod\\anaconda3\\lib\\site-packages\\pandas\\core\\apply.py\u001b[0m in \u001b[0;36mapply\u001b[1;34m(self)\u001b[0m\n\u001b[0;32m    731\u001b[0m             \u001b[1;32mreturn\u001b[0m \u001b[0mself\u001b[0m\u001b[1;33m.\u001b[0m\u001b[0mapply_raw\u001b[0m\u001b[1;33m(\u001b[0m\u001b[1;33m)\u001b[0m\u001b[1;33m\u001b[0m\u001b[1;33m\u001b[0m\u001b[0m\n\u001b[0;32m    732\u001b[0m \u001b[1;33m\u001b[0m\u001b[0m\n\u001b[1;32m--> 733\u001b[1;33m         \u001b[1;32mreturn\u001b[0m \u001b[0mself\u001b[0m\u001b[1;33m.\u001b[0m\u001b[0mapply_standard\u001b[0m\u001b[1;33m(\u001b[0m\u001b[1;33m)\u001b[0m\u001b[1;33m\u001b[0m\u001b[1;33m\u001b[0m\u001b[0m\n\u001b[0m\u001b[0;32m    734\u001b[0m \u001b[1;33m\u001b[0m\u001b[0m\n\u001b[0;32m    735\u001b[0m     \u001b[1;32mdef\u001b[0m \u001b[0magg\u001b[0m\u001b[1;33m(\u001b[0m\u001b[0mself\u001b[0m\u001b[1;33m)\u001b[0m\u001b[1;33m:\u001b[0m\u001b[1;33m\u001b[0m\u001b[1;33m\u001b[0m\u001b[0m\n",
      "\u001b[1;32mc:\\Users\\jojod\\anaconda3\\lib\\site-packages\\pandas\\core\\apply.py\u001b[0m in \u001b[0;36mapply_standard\u001b[1;34m(self)\u001b[0m\n\u001b[0;32m    855\u001b[0m \u001b[1;33m\u001b[0m\u001b[0m\n\u001b[0;32m    856\u001b[0m     \u001b[1;32mdef\u001b[0m \u001b[0mapply_standard\u001b[0m\u001b[1;33m(\u001b[0m\u001b[0mself\u001b[0m\u001b[1;33m)\u001b[0m\u001b[1;33m:\u001b[0m\u001b[1;33m\u001b[0m\u001b[1;33m\u001b[0m\u001b[0m\n\u001b[1;32m--> 857\u001b[1;33m         \u001b[0mresults\u001b[0m\u001b[1;33m,\u001b[0m \u001b[0mres_index\u001b[0m \u001b[1;33m=\u001b[0m \u001b[0mself\u001b[0m\u001b[1;33m.\u001b[0m\u001b[0mapply_series_generator\u001b[0m\u001b[1;33m(\u001b[0m\u001b[1;33m)\u001b[0m\u001b[1;33m\u001b[0m\u001b[1;33m\u001b[0m\u001b[0m\n\u001b[0m\u001b[0;32m    858\u001b[0m \u001b[1;33m\u001b[0m\u001b[0m\n\u001b[0;32m    859\u001b[0m         \u001b[1;31m# wrap results\u001b[0m\u001b[1;33m\u001b[0m\u001b[1;33m\u001b[0m\u001b[0m\n",
      "\u001b[1;32mc:\\Users\\jojod\\anaconda3\\lib\\site-packages\\pandas\\core\\apply.py\u001b[0m in \u001b[0;36mapply_series_generator\u001b[1;34m(self)\u001b[0m\n\u001b[0;32m    871\u001b[0m             \u001b[1;32mfor\u001b[0m \u001b[0mi\u001b[0m\u001b[1;33m,\u001b[0m \u001b[0mv\u001b[0m \u001b[1;32min\u001b[0m \u001b[0menumerate\u001b[0m\u001b[1;33m(\u001b[0m\u001b[0mseries_gen\u001b[0m\u001b[1;33m)\u001b[0m\u001b[1;33m:\u001b[0m\u001b[1;33m\u001b[0m\u001b[1;33m\u001b[0m\u001b[0m\n\u001b[0;32m    872\u001b[0m                 \u001b[1;31m# ignore SettingWithCopy here in case the user mutates\u001b[0m\u001b[1;33m\u001b[0m\u001b[1;33m\u001b[0m\u001b[0m\n\u001b[1;32m--> 873\u001b[1;33m                 \u001b[0mresults\u001b[0m\u001b[1;33m[\u001b[0m\u001b[0mi\u001b[0m\u001b[1;33m]\u001b[0m \u001b[1;33m=\u001b[0m \u001b[0mself\u001b[0m\u001b[1;33m.\u001b[0m\u001b[0mf\u001b[0m\u001b[1;33m(\u001b[0m\u001b[0mv\u001b[0m\u001b[1;33m)\u001b[0m\u001b[1;33m\u001b[0m\u001b[1;33m\u001b[0m\u001b[0m\n\u001b[0m\u001b[0;32m    874\u001b[0m                 \u001b[1;32mif\u001b[0m \u001b[0misinstance\u001b[0m\u001b[1;33m(\u001b[0m\u001b[0mresults\u001b[0m\u001b[1;33m[\u001b[0m\u001b[0mi\u001b[0m\u001b[1;33m]\u001b[0m\u001b[1;33m,\u001b[0m \u001b[0mABCSeries\u001b[0m\u001b[1;33m)\u001b[0m\u001b[1;33m:\u001b[0m\u001b[1;33m\u001b[0m\u001b[1;33m\u001b[0m\u001b[0m\n\u001b[0;32m    875\u001b[0m                     \u001b[1;31m# If we have a view on v, we need to make a copy because\u001b[0m\u001b[1;33m\u001b[0m\u001b[1;33m\u001b[0m\u001b[0m\n",
      "\u001b[1;32m~\\AppData\\Local\\Temp\\ipykernel_1160\\2960080907.py\u001b[0m in \u001b[0;36madjust_cost\u001b[1;34m(row)\u001b[0m\n\u001b[0;32m     10\u001b[0m     \u001b[1;32mfor\u001b[0m \u001b[0myear\u001b[0m \u001b[1;32min\u001b[0m \u001b[0mrange\u001b[0m\u001b[1;33m(\u001b[0m\u001b[0mrelease_year\u001b[0m\u001b[1;33m,\u001b[0m \u001b[1;36m2023\u001b[0m\u001b[1;33m)\u001b[0m\u001b[1;33m:\u001b[0m\u001b[1;33m\u001b[0m\u001b[1;33m\u001b[0m\u001b[0m\n\u001b[0;32m     11\u001b[0m         \u001b[1;31m# Retrieve the inflation rate for the current year\u001b[0m\u001b[1;33m\u001b[0m\u001b[1;33m\u001b[0m\u001b[0m\n\u001b[1;32m---> 12\u001b[1;33m         \u001b[0mrate\u001b[0m \u001b[1;33m=\u001b[0m \u001b[0minflation_rate\u001b[0m\u001b[1;33m.\u001b[0m\u001b[0mloc\u001b[0m\u001b[1;33m[\u001b[0m\u001b[0myear\u001b[0m\u001b[1;33m,\u001b[0m \u001b[1;34m'Average'\u001b[0m\u001b[1;33m]\u001b[0m\u001b[1;33m\u001b[0m\u001b[1;33m\u001b[0m\u001b[0m\n\u001b[0m\u001b[0;32m     13\u001b[0m         \u001b[1;31m# Adjust the cost\u001b[0m\u001b[1;33m\u001b[0m\u001b[1;33m\u001b[0m\u001b[0m\n\u001b[0;32m     14\u001b[0m         \u001b[0madjusted_cost\u001b[0m \u001b[1;33m*=\u001b[0m \u001b[1;33m(\u001b[0m\u001b[1;36m1\u001b[0m \u001b[1;33m+\u001b[0m \u001b[0mrate\u001b[0m \u001b[1;33m/\u001b[0m \u001b[1;36m100\u001b[0m\u001b[1;33m)\u001b[0m\u001b[1;33m\u001b[0m\u001b[1;33m\u001b[0m\u001b[0m\n",
      "\u001b[1;31mNameError\u001b[0m: name 'inflation_rate' is not defined"
     ]
    }
   ],
   "source": [
    "# Calculate the adjusted cost to each rows\n",
    "adjusted_costs = movie_features_no_outliers.apply(adjust_cost, axis=1)\n",
    "\n",
    "# Create a new dataset with adjusted costs\n",
    "movie_features_adjusted = movie_features_no_outliers.copy()\n",
    "movie_features_adjusted['cost'] = adjusted_costs"
   ]
  },
  {
   "cell_type": "code",
   "execution_count": 18,
   "metadata": {},
   "outputs": [
    {
     "ename": "NameError",
     "evalue": "name 'movie_features_adjusted' is not defined",
     "output_type": "error",
     "traceback": [
      "\u001b[1;31m---------------------------------------------------------------------------\u001b[0m",
      "\u001b[1;31mNameError\u001b[0m                                 Traceback (most recent call last)",
      "\u001b[1;32m~\\AppData\\Local\\Temp\\ipykernel_1160\\554588928.py\u001b[0m in \u001b[0;36m<module>\u001b[1;34m\u001b[0m\n\u001b[0;32m      1\u001b[0m \u001b[1;31m# Plot the budget before and after inflation adjustment\u001b[0m\u001b[1;33m\u001b[0m\u001b[1;33m\u001b[0m\u001b[0m\n\u001b[0;32m      2\u001b[0m \u001b[0mplt\u001b[0m\u001b[1;33m.\u001b[0m\u001b[0mscatter\u001b[0m\u001b[1;33m(\u001b[0m\u001b[0mmovie_features_no_outliers\u001b[0m\u001b[1;33m[\u001b[0m\u001b[1;34m'movieReleaseDate'\u001b[0m\u001b[1;33m]\u001b[0m\u001b[1;33m,\u001b[0m \u001b[0mmovie_features_no_outliers\u001b[0m\u001b[1;33m[\u001b[0m\u001b[1;34m'cost'\u001b[0m\u001b[1;33m]\u001b[0m\u001b[1;33m,\u001b[0m \u001b[0mlabel\u001b[0m\u001b[1;33m=\u001b[0m\u001b[1;34m'without inflation'\u001b[0m\u001b[1;33m,\u001b[0m \u001b[0mcolor\u001b[0m\u001b[1;33m=\u001b[0m\u001b[1;34m'blue'\u001b[0m\u001b[1;33m,\u001b[0m \u001b[0malpha\u001b[0m\u001b[1;33m=\u001b[0m\u001b[1;36m0.5\u001b[0m\u001b[1;33m,\u001b[0m \u001b[0ms\u001b[0m\u001b[1;33m=\u001b[0m\u001b[1;36m20\u001b[0m\u001b[1;33m)\u001b[0m\u001b[1;33m\u001b[0m\u001b[1;33m\u001b[0m\u001b[0m\n\u001b[1;32m----> 3\u001b[1;33m \u001b[0mplt\u001b[0m\u001b[1;33m.\u001b[0m\u001b[0mscatter\u001b[0m\u001b[1;33m(\u001b[0m\u001b[0mmovie_features_adjusted\u001b[0m\u001b[1;33m[\u001b[0m\u001b[1;34m'movieReleaseDate'\u001b[0m\u001b[1;33m]\u001b[0m\u001b[1;33m,\u001b[0m \u001b[0mmovie_features_adjusted\u001b[0m\u001b[1;33m[\u001b[0m\u001b[1;34m'cost'\u001b[0m\u001b[1;33m]\u001b[0m\u001b[1;33m,\u001b[0m \u001b[0mlabel\u001b[0m\u001b[1;33m=\u001b[0m\u001b[1;34m'with inflation'\u001b[0m\u001b[1;33m,\u001b[0m \u001b[0mcolor\u001b[0m\u001b[1;33m=\u001b[0m\u001b[1;34m'orange'\u001b[0m\u001b[1;33m,\u001b[0m \u001b[0malpha\u001b[0m\u001b[1;33m=\u001b[0m\u001b[1;36m0.5\u001b[0m\u001b[1;33m,\u001b[0m \u001b[0ms\u001b[0m\u001b[1;33m=\u001b[0m\u001b[1;36m20\u001b[0m\u001b[1;33m)\u001b[0m\u001b[1;33m\u001b[0m\u001b[1;33m\u001b[0m\u001b[0m\n\u001b[0m\u001b[0;32m      4\u001b[0m \u001b[0mplt\u001b[0m\u001b[1;33m.\u001b[0m\u001b[0mtitle\u001b[0m\u001b[1;33m(\u001b[0m\u001b[1;34m'Movie budget at different years of release with or without inflation'\u001b[0m\u001b[1;33m)\u001b[0m\u001b[1;33m\u001b[0m\u001b[1;33m\u001b[0m\u001b[0m\n\u001b[0;32m      5\u001b[0m \u001b[0mplt\u001b[0m\u001b[1;33m.\u001b[0m\u001b[0mxlabel\u001b[0m\u001b[1;33m(\u001b[0m\u001b[1;34m'year of release'\u001b[0m\u001b[1;33m)\u001b[0m\u001b[1;33m\u001b[0m\u001b[1;33m\u001b[0m\u001b[0m\n",
      "\u001b[1;31mNameError\u001b[0m: name 'movie_features_adjusted' is not defined"
     ]
    },
    {
     "data": {
      "image/png": "[encoded data removed]",
      "text/plain": [
       "<Figure size 640x480 with 1 Axes>"
      ]
     },
     "metadata": {},
     "output_type": "display_data"
    }
   ],
   "source": [
    "# Plot the budget before and after inflation adjustment\n",
    "plt.scatter(movie_features_no_outliers['movieReleaseDate'], movie_features_no_outliers['cost'], label='without inflation', color='blue', alpha=0.5, s=20)\n",
    "plt.scatter(movie_features_adjusted['movieReleaseDate'], movie_features_adjusted['cost'], label='with inflation', color='orange', alpha=0.5, s=20)\n",
    "plt.title('Movie budget at different years of release with or without inflation')\n",
    "plt.xlabel('year of release')\n",
    "plt.ylabel('movie budget')\n",
    "plt.legend()\n",
    "plt.show()"
   ]
  },
  {
   "cell_type": "markdown",
   "metadata": {},
   "source": [
    "### Separate in low and high budget categories"
   ]
  },
  {
   "cell_type": "code",
   "execution_count": 20,
   "metadata": {},
   "outputs": [],
   "source": [
    "# Separate in low and high budget movies \n",
    "\n",
    "sorted_movie_features = movie_features_adjusted.sort_values('cost').copy()\n",
    "\n",
    "# We will keep the 25% lowest and highest budget\n",
    "lower_quartile = sorted_movie_features['cost'].quantile(0.25)\n",
    "upper_quartile = sorted_movie_features['cost'].quantile(0.75)\n",
    "\n",
    "low_budget= sorted_movie_features[sorted_movie_features['cost'] <= lower_quartile]\n",
    "high_budget = sorted_movie_features[sorted_movie_features['cost'] >= upper_quartile]\n"
   ]
  },
  {
   "cell_type": "code",
   "execution_count": 21,
   "metadata": {},
   "outputs": [
    {
     "data": {
      "image/png": "[encoded data removed]",
      "text/plain": [
       "<Figure size 640x480 with 1 Axes>"
      ]
     },
     "metadata": {},
     "output_type": "display_data"
    }
   ],
   "source": [
    "# Plot the budget separating low and high budget movies\n",
    "plt.scatter(low_budget['movieReleaseDate'], low_budget['cost'], label='low budget movies', color='blue', alpha=0.5, s=20)\n",
    "plt.scatter(high_budget['movieReleaseDate'], high_budget['cost'], label='high budget movies', color='orange', alpha=0.5, s=20)\n",
    "plt.title('High and low budget movies')\n",
    "plt.xlabel('year of release')\n",
    "plt.ylabel('movie budget')\n",
    "plt.legend()\n",
    "plt.show()"
   ]
  },
  {
   "cell_type": "code",
   "execution_count": null,
   "metadata": {},
   "outputs": [],
   "source": []
  }
 ],
 "metadata": {
  "kernelspec": {
   "display_name": "ada",
   "language": "python",
   "name": "python3"
  },
  "language_info": {
   "codemirror_mode": {
    "name": "ipython",
    "version": 3
   },
   "file_extension": ".py",
   "mimetype": "text/x-python",
   "name": "python",
   "nbconvert_exporter": "python",
   "pygments_lexer": "ipython3",
   "version": "3.9.13"
  }
 },
 "nbformat": 4,
 "nbformat_minor": 2
}
