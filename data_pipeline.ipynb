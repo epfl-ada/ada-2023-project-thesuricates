{
 "cells": [
  {
   "cell_type": "code",
   "execution_count": 1,
   "metadata": {},
   "outputs": [],
   "source": [
    "import pandas as pd\n"
   ]
  },
  {
   "cell_type": "code",
   "execution_count": 8,
   "metadata": {},
   "outputs": [
    {
     "data": {
      "text/html": [
       "<div>\n",
       "<style scoped>\n",
       "    .dataframe tbody tr th:only-of-type {\n",
       "        vertical-align: middle;\n",
       "    }\n",
       "\n",
       "    .dataframe tbody tr th {\n",
       "        vertical-align: top;\n",
       "    }\n",
       "\n",
       "    .dataframe thead th {\n",
       "        text-align: right;\n",
       "    }\n",
       "</style>\n",
       "<table border=\"1\" class=\"dataframe\">\n",
       "  <thead>\n",
       "    <tr style=\"text-align: right;\">\n",
       "      <th></th>\n",
       "      <th>wiki_id</th>\n",
       "      <th>freebase_id</th>\n",
       "      <th>name</th>\n",
       "      <th>release_date</th>\n",
       "      <th>bor</th>\n",
       "      <th>runtime</th>\n",
       "      <th>languages</th>\n",
       "      <th>countries</th>\n",
       "      <th>genre</th>\n",
       "    </tr>\n",
       "  </thead>\n",
       "  <tbody>\n",
       "    <tr>\n",
       "      <th>0</th>\n",
       "      <td>975900</td>\n",
       "      <td>/m/03vyhn</td>\n",
       "      <td>Ghosts of Mars</td>\n",
       "      <td>2001-08-24</td>\n",
       "      <td>14010832.0</td>\n",
       "      <td>98.0</td>\n",
       "      <td>{\"/m/02h40lc\": \"English Language\"}</td>\n",
       "      <td>{\"/m/09c7w0\": \"United States of America\"}</td>\n",
       "      <td>{\"/m/01jfsb\": \"Thriller\", \"/m/06n90\": \"Science...</td>\n",
       "    </tr>\n",
       "    <tr>\n",
       "      <th>1</th>\n",
       "      <td>3196793</td>\n",
       "      <td>/m/08yl5d</td>\n",
       "      <td>Getting Away with Murder: The JonBenét Ramsey ...</td>\n",
       "      <td>2000-02-16</td>\n",
       "      <td>NaN</td>\n",
       "      <td>95.0</td>\n",
       "      <td>{\"/m/02h40lc\": \"English Language\"}</td>\n",
       "      <td>{\"/m/09c7w0\": \"United States of America\"}</td>\n",
       "      <td>{\"/m/02n4kr\": \"Mystery\", \"/m/03bxz7\": \"Biograp...</td>\n",
       "    </tr>\n",
       "    <tr>\n",
       "      <th>2</th>\n",
       "      <td>28463795</td>\n",
       "      <td>/m/0crgdbh</td>\n",
       "      <td>Brun bitter</td>\n",
       "      <td>1988</td>\n",
       "      <td>NaN</td>\n",
       "      <td>83.0</td>\n",
       "      <td>{\"/m/05f_3\": \"Norwegian Language\"}</td>\n",
       "      <td>{\"/m/05b4w\": \"Norway\"}</td>\n",
       "      <td>{\"/m/0lsxr\": \"Crime Fiction\", \"/m/07s9rl0\": \"D...</td>\n",
       "    </tr>\n",
       "    <tr>\n",
       "      <th>3</th>\n",
       "      <td>9363483</td>\n",
       "      <td>/m/0285_cd</td>\n",
       "      <td>White Of The Eye</td>\n",
       "      <td>1987</td>\n",
       "      <td>NaN</td>\n",
       "      <td>110.0</td>\n",
       "      <td>{\"/m/02h40lc\": \"English Language\"}</td>\n",
       "      <td>{\"/m/07ssc\": \"United Kingdom\"}</td>\n",
       "      <td>{\"/m/01jfsb\": \"Thriller\", \"/m/0glj9q\": \"Erotic...</td>\n",
       "    </tr>\n",
       "    <tr>\n",
       "      <th>4</th>\n",
       "      <td>261236</td>\n",
       "      <td>/m/01mrr1</td>\n",
       "      <td>A Woman in Flames</td>\n",
       "      <td>1983</td>\n",
       "      <td>NaN</td>\n",
       "      <td>106.0</td>\n",
       "      <td>{\"/m/04306rv\": \"German Language\"}</td>\n",
       "      <td>{\"/m/0345h\": \"Germany\"}</td>\n",
       "      <td>{\"/m/07s9rl0\": \"Drama\"}</td>\n",
       "    </tr>\n",
       "  </tbody>\n",
       "</table>\n",
       "</div>"
      ],
      "text/plain": [
       "    wiki_id freebase_id                                               name  \\\n",
       "0    975900   /m/03vyhn                                     Ghosts of Mars   \n",
       "1   3196793   /m/08yl5d  Getting Away with Murder: The JonBenét Ramsey ...   \n",
       "2  28463795  /m/0crgdbh                                        Brun bitter   \n",
       "3   9363483  /m/0285_cd                                   White Of The Eye   \n",
       "4    261236   /m/01mrr1                                  A Woman in Flames   \n",
       "\n",
       "  release_date         bor  runtime                           languages  \\\n",
       "0   2001-08-24  14010832.0     98.0  {\"/m/02h40lc\": \"English Language\"}   \n",
       "1   2000-02-16         NaN     95.0  {\"/m/02h40lc\": \"English Language\"}   \n",
       "2         1988         NaN     83.0  {\"/m/05f_3\": \"Norwegian Language\"}   \n",
       "3         1987         NaN    110.0  {\"/m/02h40lc\": \"English Language\"}   \n",
       "4         1983         NaN    106.0   {\"/m/04306rv\": \"German Language\"}   \n",
       "\n",
       "                                   countries  \\\n",
       "0  {\"/m/09c7w0\": \"United States of America\"}   \n",
       "1  {\"/m/09c7w0\": \"United States of America\"}   \n",
       "2                     {\"/m/05b4w\": \"Norway\"}   \n",
       "3             {\"/m/07ssc\": \"United Kingdom\"}   \n",
       "4                    {\"/m/0345h\": \"Germany\"}   \n",
       "\n",
       "                                               genre  \n",
       "0  {\"/m/01jfsb\": \"Thriller\", \"/m/06n90\": \"Science...  \n",
       "1  {\"/m/02n4kr\": \"Mystery\", \"/m/03bxz7\": \"Biograp...  \n",
       "2  {\"/m/0lsxr\": \"Crime Fiction\", \"/m/07s9rl0\": \"D...  \n",
       "3  {\"/m/01jfsb\": \"Thriller\", \"/m/0glj9q\": \"Erotic...  \n",
       "4                            {\"/m/07s9rl0\": \"Drama\"}  "
      ]
     },
     "execution_count": 8,
     "metadata": {},
     "output_type": "execute_result"
    }
   ],
   "source": [
    "data_path = \"../MovieSummaries/\"\n",
    "\n",
    "df_movies = pd.read_csv(\"./MovieSummaries/movie.metadata.tsv\",sep=\"\\t\" , names = ['wiki_id', 'freebase_id', 'name', 'release_date', 'bor', 'runtime', 'languages', 'countries','genre'])\n",
    "\n",
    "\n",
    "df_characters = pd.read_csv(\"./MovieSummaries/character.metadata.tsv\",sep=\"\\t\",names=['wiki_id', 'freebase_movie_id', 'dor', 'character_name', 'actor_dob',\n",
    "                               'actor_gender', 'actor_height', 'actor_ethnicity', 'actor_name', \n",
    "                               'actor_age', 'map1', 'map2', 'map3'])\n",
    "\n",
    "df_movies.head()\n"
   ]
  },
  {
   "cell_type": "code",
   "execution_count": 9,
   "metadata": {},
   "outputs": [],
   "source": [
    "#only keeping features from df_movies that are relevant to our datasstory\n",
    "movie_columns_to_include = ['wiki_id', 'name','release_date','bor','runtime','countries','genre']\n",
    "relevant_movie_features = df_movies[movie_columns_to_include].copy()\n",
    "\n"
   ]
  },
  {
   "cell_type": "code",
   "execution_count": 45,
   "metadata": {},
   "outputs": [
    {
     "ename": "ZeroDivisionError",
     "evalue": "division by zero",
     "output_type": "error",
     "traceback": [
      "\u001b[1;31m---------------------------------------------------------------------------\u001b[0m",
      "\u001b[1;31mZeroDivisionError\u001b[0m                         Traceback (most recent call last)",
      "\u001b[1;32mc:\\Users\\Tomas\\Desktop\\EPFL\\Master Robotique\\ADA\\2023\\Project\\data_pipeline.ipynb Cell 4\u001b[0m line \u001b[0;36m3\n\u001b[0;32m     <a href='vscode-notebook-cell:/c%3A/Users/Tomas/Desktop/EPFL/Master%20Robotique/ADA/2023/Project/data_pipeline.ipynb#W3sZmlsZQ%3D%3D?line=30'>31</a>\u001b[0m     nb_young_actor \u001b[39m=\u001b[39m actor_age_series_no_na[actor_age_series_no_na \u001b[39m<\u001b[39m\u001b[39m=\u001b[39m \u001b[39m18\u001b[39m]\u001b[39m.\u001b[39msize\n\u001b[0;32m     <a href='vscode-notebook-cell:/c%3A/Users/Tomas/Desktop/EPFL/Master%20Robotique/ADA/2023/Project/data_pipeline.ipynb#W3sZmlsZQ%3D%3D?line=32'>33</a>\u001b[0m     \u001b[39mreturn\u001b[39;00m nb_young_actor\u001b[39m/\u001b[39mnb_actors\n\u001b[1;32m---> <a href='vscode-notebook-cell:/c%3A/Users/Tomas/Desktop/EPFL/Master%20Robotique/ADA/2023/Project/data_pipeline.ipynb#W3sZmlsZQ%3D%3D?line=35'>36</a>\u001b[0m age_ratio_young \u001b[39m=\u001b[39m df_characters\u001b[39m.\u001b[39;49mgroupby(\u001b[39m\"\u001b[39;49m\u001b[39mwiki_id\u001b[39;49m\u001b[39m\"\u001b[39;49m)[\u001b[39m\"\u001b[39;49m\u001b[39mactor_age\u001b[39;49m\u001b[39m\"\u001b[39;49m]\u001b[39m.\u001b[39;49mapply(get_age_ratio_young)\n",
      "File \u001b[1;32mc:\\Users\\Tomas\\Anaconda3\\envs\\ada\\lib\\site-packages\\pandas\\core\\groupby\\generic.py:228\u001b[0m, in \u001b[0;36mSeriesGroupBy.apply\u001b[1;34m(self, func, *args, **kwargs)\u001b[0m\n\u001b[0;32m    222\u001b[0m \u001b[39m@Appender\u001b[39m(\n\u001b[0;32m    223\u001b[0m     _apply_docs[\u001b[39m\"\u001b[39m\u001b[39mtemplate\u001b[39m\u001b[39m\"\u001b[39m]\u001b[39m.\u001b[39mformat(\n\u001b[0;32m    224\u001b[0m         \u001b[39minput\u001b[39m\u001b[39m=\u001b[39m\u001b[39m\"\u001b[39m\u001b[39mseries\u001b[39m\u001b[39m\"\u001b[39m, examples\u001b[39m=\u001b[39m_apply_docs[\u001b[39m\"\u001b[39m\u001b[39mseries_examples\u001b[39m\u001b[39m\"\u001b[39m]\n\u001b[0;32m    225\u001b[0m     )\n\u001b[0;32m    226\u001b[0m )\n\u001b[0;32m    227\u001b[0m \u001b[39mdef\u001b[39;00m \u001b[39mapply\u001b[39m(\u001b[39mself\u001b[39m, func, \u001b[39m*\u001b[39margs, \u001b[39m*\u001b[39m\u001b[39m*\u001b[39mkwargs) \u001b[39m-\u001b[39m\u001b[39m>\u001b[39m Series:\n\u001b[1;32m--> 228\u001b[0m     \u001b[39mreturn\u001b[39;00m \u001b[39msuper\u001b[39m()\u001b[39m.\u001b[39mapply(func, \u001b[39m*\u001b[39margs, \u001b[39m*\u001b[39m\u001b[39m*\u001b[39mkwargs)\n",
      "File \u001b[1;32mc:\\Users\\Tomas\\Anaconda3\\envs\\ada\\lib\\site-packages\\pandas\\core\\groupby\\groupby.py:1766\u001b[0m, in \u001b[0;36mGroupBy.apply\u001b[1;34m(self, func, *args, **kwargs)\u001b[0m\n\u001b[0;32m   1764\u001b[0m \u001b[39mwith\u001b[39;00m option_context(\u001b[39m\"\u001b[39m\u001b[39mmode.chained_assignment\u001b[39m\u001b[39m\"\u001b[39m, \u001b[39mNone\u001b[39;00m):\n\u001b[0;32m   1765\u001b[0m     \u001b[39mtry\u001b[39;00m:\n\u001b[1;32m-> 1766\u001b[0m         result \u001b[39m=\u001b[39m \u001b[39mself\u001b[39;49m\u001b[39m.\u001b[39;49m_python_apply_general(f, \u001b[39mself\u001b[39;49m\u001b[39m.\u001b[39;49m_selected_obj)\n\u001b[0;32m   1767\u001b[0m     \u001b[39mexcept\u001b[39;00m \u001b[39mTypeError\u001b[39;00m:\n\u001b[0;32m   1768\u001b[0m         \u001b[39m# gh-20949\u001b[39;00m\n\u001b[0;32m   1769\u001b[0m         \u001b[39m# try again, with .apply acting as a filtering\u001b[39;00m\n\u001b[1;32m   (...)\u001b[0m\n\u001b[0;32m   1773\u001b[0m         \u001b[39m# fails on *some* columns, e.g. a numeric operation\u001b[39;00m\n\u001b[0;32m   1774\u001b[0m         \u001b[39m# on a string grouper column\u001b[39;00m\n\u001b[0;32m   1776\u001b[0m         \u001b[39mreturn\u001b[39;00m \u001b[39mself\u001b[39m\u001b[39m.\u001b[39m_python_apply_general(f, \u001b[39mself\u001b[39m\u001b[39m.\u001b[39m_obj_with_exclusions)\n",
      "File \u001b[1;32mc:\\Users\\Tomas\\Anaconda3\\envs\\ada\\lib\\site-packages\\pandas\\core\\groupby\\groupby.py:1815\u001b[0m, in \u001b[0;36mGroupBy._python_apply_general\u001b[1;34m(self, f, data, not_indexed_same, is_transform, is_agg)\u001b[0m\n\u001b[0;32m   1780\u001b[0m \u001b[39m@final\u001b[39m\n\u001b[0;32m   1781\u001b[0m \u001b[39mdef\u001b[39;00m \u001b[39m_python_apply_general\u001b[39m(\n\u001b[0;32m   1782\u001b[0m     \u001b[39mself\u001b[39m,\n\u001b[1;32m   (...)\u001b[0m\n\u001b[0;32m   1787\u001b[0m     is_agg: \u001b[39mbool\u001b[39m \u001b[39m=\u001b[39m \u001b[39mFalse\u001b[39;00m,\n\u001b[0;32m   1788\u001b[0m ) \u001b[39m-\u001b[39m\u001b[39m>\u001b[39m NDFrameT:\n\u001b[0;32m   1789\u001b[0m \u001b[39m    \u001b[39m\u001b[39m\"\"\"\u001b[39;00m\n\u001b[0;32m   1790\u001b[0m \u001b[39m    Apply function f in python space\u001b[39;00m\n\u001b[0;32m   1791\u001b[0m \n\u001b[1;32m   (...)\u001b[0m\n\u001b[0;32m   1813\u001b[0m \u001b[39m        data after applying f\u001b[39;00m\n\u001b[0;32m   1814\u001b[0m \u001b[39m    \"\"\"\u001b[39;00m\n\u001b[1;32m-> 1815\u001b[0m     values, mutated \u001b[39m=\u001b[39m \u001b[39mself\u001b[39;49m\u001b[39m.\u001b[39;49mgrouper\u001b[39m.\u001b[39;49mapply_groupwise(f, data, \u001b[39mself\u001b[39;49m\u001b[39m.\u001b[39;49maxis)\n\u001b[0;32m   1816\u001b[0m     \u001b[39mif\u001b[39;00m not_indexed_same \u001b[39mis\u001b[39;00m \u001b[39mNone\u001b[39;00m:\n\u001b[0;32m   1817\u001b[0m         not_indexed_same \u001b[39m=\u001b[39m mutated\n",
      "File \u001b[1;32mc:\\Users\\Tomas\\Anaconda3\\envs\\ada\\lib\\site-packages\\pandas\\core\\groupby\\ops.py:905\u001b[0m, in \u001b[0;36mBaseGrouper.apply_groupwise\u001b[1;34m(self, f, data, axis)\u001b[0m\n\u001b[0;32m    903\u001b[0m \u001b[39m# group might be modified\u001b[39;00m\n\u001b[0;32m    904\u001b[0m group_axes \u001b[39m=\u001b[39m group\u001b[39m.\u001b[39maxes\n\u001b[1;32m--> 905\u001b[0m res \u001b[39m=\u001b[39m f(group)\n\u001b[0;32m    906\u001b[0m \u001b[39mif\u001b[39;00m \u001b[39mnot\u001b[39;00m mutated \u001b[39mand\u001b[39;00m \u001b[39mnot\u001b[39;00m _is_indexed_like(res, group_axes, axis):\n\u001b[0;32m    907\u001b[0m     mutated \u001b[39m=\u001b[39m \u001b[39mTrue\u001b[39;00m\n",
      "\u001b[1;32mc:\\Users\\Tomas\\Desktop\\EPFL\\Master Robotique\\ADA\\2023\\Project\\data_pipeline.ipynb Cell 4\u001b[0m line \u001b[0;36m3\n\u001b[0;32m     <a href='vscode-notebook-cell:/c%3A/Users/Tomas/Desktop/EPFL/Master%20Robotique/ADA/2023/Project/data_pipeline.ipynb#W3sZmlsZQ%3D%3D?line=29'>30</a>\u001b[0m nb_actors \u001b[39m=\u001b[39m actor_age_series_no_na\u001b[39m.\u001b[39msize\n\u001b[0;32m     <a href='vscode-notebook-cell:/c%3A/Users/Tomas/Desktop/EPFL/Master%20Robotique/ADA/2023/Project/data_pipeline.ipynb#W3sZmlsZQ%3D%3D?line=30'>31</a>\u001b[0m nb_young_actor \u001b[39m=\u001b[39m actor_age_series_no_na[actor_age_series_no_na \u001b[39m<\u001b[39m\u001b[39m=\u001b[39m \u001b[39m18\u001b[39m]\u001b[39m.\u001b[39msize\n\u001b[1;32m---> <a href='vscode-notebook-cell:/c%3A/Users/Tomas/Desktop/EPFL/Master%20Robotique/ADA/2023/Project/data_pipeline.ipynb#W3sZmlsZQ%3D%3D?line=32'>33</a>\u001b[0m \u001b[39mreturn\u001b[39;00m nb_young_actor\u001b[39m/\u001b[39;49mnb_actors\n",
      "\u001b[1;31mZeroDivisionError\u001b[0m: division by zero"
     ]
    }
   ],
   "source": [
    "\"\"\" #only keeping/building features from df_characters that are relevant to our datastory \n",
    "\n",
    "\n",
    "\n",
    "   \n",
    "    \n",
    "    \n",
    "#number of actors in each movie\n",
    "nb_actors_per_movie = df_characters.groupby(\"wiki_id\").size()\n",
    "\n",
    "#average experience in each movie (average of how many movies each actor has stared in)\n",
    "def average_experience(df_movie):\n",
    "    name_idx = df_movie[\"actor_name\"].dropna()\n",
    "    avg_experience_per_movie = experience_per_actors[name_idx].mean()\n",
    "    return avg_experience_per_movie\n",
    "\n",
    "\n",
    "experience_per_actors = df_characters.groupby(\"actor_name\").size()\n",
    "avg_experience = experience_per_actors.mean()\n",
    "\n",
    "avg_actor_experience_per_movie = df_characters.groupby(\"wiki_id\").apply(average_experience)\n",
    "\n",
    "#The ratio of male to female actors in each movie\n",
    "nb_genders = df_characters.groupby([\"wiki_id\",\"actor_gender\"]).size()\n",
    "gender_ratio= (nb_genders.xs('M', level='actor_gender') / nb_actors_per_movie).fillna(0)\n",
    " \"\"\"\n",
    "#age ratio for young actors \n",
    "def get_age_ratio_young(actor_age_series):\n",
    "    actor_age_series_no_na = actor_age_series.dropna()\n",
    "    nb_actors = actor_age_series_no_na.size\n",
    "    nb_young_actor = actor_age_series_no_na[actor_age_series_no_na <= 18].size\n",
    "\n",
    "    return nb_young_actor/nb_actors\n",
    "\n",
    "\n",
    "age_ratio_young = df_characters.groupby(\"wiki_id\")[\"actor_age\"].apply(get_age_ratio_young)\n",
    "\n",
    "\n"
   ]
  },
  {
   "cell_type": "code",
   "execution_count": 39,
   "metadata": {},
   "outputs": [
    {
     "name": "stdout",
     "output_type": "stream",
     "text": [
      "89.72241592346558\n"
     ]
    }
   ],
   "source": [
    "\n",
    "\n",
    "nan_percentage = df_movies[\"bor\"].isna().mean() * 100\n",
    "print(nan_percentage)"
   ]
  },
  {
   "cell_type": "code",
   "execution_count": null,
   "metadata": {},
   "outputs": [],
   "source": []
  }
 ],
 "metadata": {
  "kernelspec": {
   "display_name": "ada",
   "language": "python",
   "name": "python3"
  },
  "language_info": {
   "codemirror_mode": {
    "name": "ipython",
    "version": 3
   },
   "file_extension": ".py",
   "mimetype": "text/x-python",
   "name": "python",
   "nbconvert_exporter": "python",
   "pygments_lexer": "ipython3",
   "version": "3.9.18"
  }
 },
 "nbformat": 4,
 "nbformat_minor": 2
}
