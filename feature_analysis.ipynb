{
 "cells": [
  {
   "cell_type": "code",
   "execution_count": 1,
   "id": "64eb806e-1b3d-401c-8e40-24f31b66b9b0",
   "metadata": {
    "tags": []
   },
   "outputs": [],
   "source": [
    "%load_ext autoreload\n",
    "%autoreload 2\n",
    "import pandas as pd\n",
    "import numpy as np\n",
    "import matplotlib.pyplot as plt\n",
    "import scipy.stats as stats\n",
    "import seaborn as sns\n",
    "import matplotlib.pyplot as plt\n",
    "from scipy.stats import norm\n",
    "import json\n",
    "import ast"
   ]
  },
  {
   "cell_type": "code",
   "execution_count": 2,
   "id": "7eacd9d0-5f19-4596-a950-d527cd1e49fe",
   "metadata": {
    "tags": []
   },
   "outputs": [],
   "source": [
    "import  scipy.signal.signaltools\n",
    "\n",
    "def _centered(arr, newsize):\n",
    "    # Return the center newsize portion of the array.\n",
    "    newsize = np.asarray(newsize)\n",
    "    currsize = np.array(arr.shape)\n",
    "    startind = (currsize - newsize) // 2\n",
    "    endind = startind + newsize\n",
    "    myslice = [slice(startind[k], endind[k]) for k in range(len(endind))]\n",
    "    return arr[tuple(myslice)]\n",
    "\n",
    "scipy.signal.signaltools._centered = _centered"
   ]
  },
  {
   "cell_type": "code",
   "execution_count": 3,
   "id": "d46440d8-da2d-49a3-a36e-b286a67ff122",
   "metadata": {
    "tags": []
   },
   "outputs": [
    {
     "name": "stderr",
     "output_type": "stream",
     "text": [
      "/home/leo/miniconda3/lib/python3.8/site-packages/statsmodels/tsa/base/tsa_model.py:7: FutureWarning: pandas.Int64Index is deprecated and will be removed from pandas in a future version. Use pandas.Index with the appropriate dtype instead.\n",
      "  from pandas import (to_datetime, Int64Index, DatetimeIndex, Period,\n",
      "/home/leo/miniconda3/lib/python3.8/site-packages/statsmodels/tsa/base/tsa_model.py:7: FutureWarning: pandas.Float64Index is deprecated and will be removed from pandas in a future version. Use pandas.Index with the appropriate dtype instead.\n",
      "  from pandas import (to_datetime, Int64Index, DatetimeIndex, Period,\n"
     ]
    }
   ],
   "source": [
    "from statsmodels.stats import diagnostic\n",
    "import statsmodels.formula.api as smf\n",
    "import statsmodels.api as sm"
   ]
  },
  {
   "cell_type": "code",
   "execution_count": 4,
   "id": "34e6322e-28eb-476b-8c59-761e6b6dbc54",
   "metadata": {
    "tags": []
   },
   "outputs": [],
   "source": [
    "df = pd.read_csv('./data/movie_features.csv')"
   ]
  },
  {
   "cell_type": "code",
   "execution_count": 5,
   "id": "d2e67149-f207-4733-9173-06677ddc9bed",
   "metadata": {
    "tags": []
   },
   "outputs": [
    {
     "data": {
      "text/html": [
       "<div>\n",
       "<style scoped>\n",
       "    .dataframe tbody tr th:only-of-type {\n",
       "        vertical-align: middle;\n",
       "    }\n",
       "\n",
       "    .dataframe tbody tr th {\n",
       "        vertical-align: top;\n",
       "    }\n",
       "\n",
       "    .dataframe thead th {\n",
       "        text-align: right;\n",
       "    }\n",
       "</style>\n",
       "<table border=\"1\" class=\"dataframe\">\n",
       "  <thead>\n",
       "    <tr style=\"text-align: right;\">\n",
       "      <th></th>\n",
       "      <th>movie_id</th>\n",
       "      <th>title</th>\n",
       "      <th>budget</th>\n",
       "      <th>revenue</th>\n",
       "      <th>release_date</th>\n",
       "      <th>runtime</th>\n",
       "      <th>original_language</th>\n",
       "      <th>genres</th>\n",
       "      <th>number_characters</th>\n",
       "      <th>below18</th>\n",
       "      <th>above60</th>\n",
       "      <th>male_ratio</th>\n",
       "      <th>average_actor_exp</th>\n",
       "      <th>multiplier</th>\n",
       "      <th>year</th>\n",
       "      <th>year_group</th>\n",
       "      <th>category</th>\n",
       "    </tr>\n",
       "  </thead>\n",
       "  <tbody>\n",
       "    <tr>\n",
       "      <th>0</th>\n",
       "      <td>951491.0</td>\n",
       "      <td>Saw X</td>\n",
       "      <td>13000000.0</td>\n",
       "      <td>100900000.0</td>\n",
       "      <td>2023-09-26</td>\n",
       "      <td>118.0</td>\n",
       "      <td>en</td>\n",
       "      <td>['Horror', 'Thriller']</td>\n",
       "      <td>7.0</td>\n",
       "      <td>0.000</td>\n",
       "      <td>0.142857</td>\n",
       "      <td>0.571429</td>\n",
       "      <td>5.857143</td>\n",
       "      <td>7.761538</td>\n",
       "      <td>2023</td>\n",
       "      <td>2020</td>\n",
       "      <td>low</td>\n",
       "    </tr>\n",
       "    <tr>\n",
       "      <th>1</th>\n",
       "      <td>678512.0</td>\n",
       "      <td>Sound of Freedom</td>\n",
       "      <td>14500000.0</td>\n",
       "      <td>247800000.0</td>\n",
       "      <td>2023-07-03</td>\n",
       "      <td>131.0</td>\n",
       "      <td>en</td>\n",
       "      <td>['Action', 'Drama']</td>\n",
       "      <td>7.0</td>\n",
       "      <td>0.000</td>\n",
       "      <td>0.142857</td>\n",
       "      <td>0.857143</td>\n",
       "      <td>7.285714</td>\n",
       "      <td>17.089655</td>\n",
       "      <td>2023</td>\n",
       "      <td>2020</td>\n",
       "      <td>low</td>\n",
       "    </tr>\n",
       "    <tr>\n",
       "      <th>2</th>\n",
       "      <td>820525.0</td>\n",
       "      <td>After Everything</td>\n",
       "      <td>14000000.0</td>\n",
       "      <td>9700000.0</td>\n",
       "      <td>2023-09-13</td>\n",
       "      <td>93.0</td>\n",
       "      <td>en</td>\n",
       "      <td>['Romance', 'Drama']</td>\n",
       "      <td>10.0</td>\n",
       "      <td>0.000</td>\n",
       "      <td>0.000000</td>\n",
       "      <td>0.500000</td>\n",
       "      <td>3.200000</td>\n",
       "      <td>0.692857</td>\n",
       "      <td>2023</td>\n",
       "      <td>2020</td>\n",
       "      <td>low</td>\n",
       "    </tr>\n",
       "    <tr>\n",
       "      <th>3</th>\n",
       "      <td>1008042.0</td>\n",
       "      <td>Talk to Me</td>\n",
       "      <td>4500000.0</td>\n",
       "      <td>90600000.0</td>\n",
       "      <td>2023-07-26</td>\n",
       "      <td>95.0</td>\n",
       "      <td>en</td>\n",
       "      <td>['Horror', 'Thriller']</td>\n",
       "      <td>8.0</td>\n",
       "      <td>0.125</td>\n",
       "      <td>0.125000</td>\n",
       "      <td>0.500000</td>\n",
       "      <td>1.250000</td>\n",
       "      <td>20.133333</td>\n",
       "      <td>2023</td>\n",
       "      <td>2020</td>\n",
       "      <td>low</td>\n",
       "    </tr>\n",
       "    <tr>\n",
       "      <th>4</th>\n",
       "      <td>1058694.0</td>\n",
       "      <td>Radical</td>\n",
       "      <td>10000000.0</td>\n",
       "      <td>16100000.0</td>\n",
       "      <td>2023-10-19</td>\n",
       "      <td>127.0</td>\n",
       "      <td>en</td>\n",
       "      <td>['Drama']</td>\n",
       "      <td>1.0</td>\n",
       "      <td>0.000</td>\n",
       "      <td>1.000000</td>\n",
       "      <td>1.000000</td>\n",
       "      <td>9.000000</td>\n",
       "      <td>1.610000</td>\n",
       "      <td>2023</td>\n",
       "      <td>2020</td>\n",
       "      <td>low</td>\n",
       "    </tr>\n",
       "  </tbody>\n",
       "</table>\n",
       "</div>"
      ],
      "text/plain": [
       "    movie_id             title      budget      revenue release_date  runtime  \\\n",
       "0   951491.0             Saw X  13000000.0  100900000.0   2023-09-26    118.0   \n",
       "1   678512.0  Sound of Freedom  14500000.0  247800000.0   2023-07-03    131.0   \n",
       "2   820525.0  After Everything  14000000.0    9700000.0   2023-09-13     93.0   \n",
       "3  1008042.0        Talk to Me   4500000.0   90600000.0   2023-07-26     95.0   \n",
       "4  1058694.0           Radical  10000000.0   16100000.0   2023-10-19    127.0   \n",
       "\n",
       "  original_language                  genres  number_characters  below18  \\\n",
       "0                en  ['Horror', 'Thriller']                7.0    0.000   \n",
       "1                en     ['Action', 'Drama']                7.0    0.000   \n",
       "2                en    ['Romance', 'Drama']               10.0    0.000   \n",
       "3                en  ['Horror', 'Thriller']                8.0    0.125   \n",
       "4                en               ['Drama']                1.0    0.000   \n",
       "\n",
       "    above60  male_ratio  average_actor_exp  multiplier  year  year_group  \\\n",
       "0  0.142857    0.571429           5.857143    7.761538  2023        2020   \n",
       "1  0.142857    0.857143           7.285714   17.089655  2023        2020   \n",
       "2  0.000000    0.500000           3.200000    0.692857  2023        2020   \n",
       "3  0.125000    0.500000           1.250000   20.133333  2023        2020   \n",
       "4  1.000000    1.000000           9.000000    1.610000  2023        2020   \n",
       "\n",
       "  category  \n",
       "0      low  \n",
       "1      low  \n",
       "2      low  \n",
       "3      low  \n",
       "4      low  "
      ]
     },
     "execution_count": 5,
     "metadata": {},
     "output_type": "execute_result"
    }
   ],
   "source": [
    "df.head()"
   ]
  },
  {
   "cell_type": "code",
   "execution_count": 6,
   "id": "9534659f-3932-40ec-b687-6801fae8cc4b",
   "metadata": {
    "tags": []
   },
   "outputs": [],
   "source": [
    "df['normalized_runtime'] = (df['runtime'] - df['runtime'].mean())/df['runtime'].std()"
   ]
  },
  {
   "cell_type": "code",
   "execution_count": 7,
   "id": "1e72e87c-fe35-4831-8d12-d202245e8857",
   "metadata": {},
   "outputs": [],
   "source": [
    "mod_1 = smf.ols(formula='multiplier ~ normalized_runtime', data=df)"
   ]
  },
  {
   "cell_type": "code",
   "execution_count": 8,
   "id": "d51fbe31-3cd7-4015-86e7-5bfc892fb139",
   "metadata": {
    "tags": []
   },
   "outputs": [
    {
     "name": "stdout",
     "output_type": "stream",
     "text": [
      "                            OLS Regression Results                            \n",
      "==============================================================================\n",
      "Dep. Variable:             multiplier   R-squared:                       0.003\n",
      "Model:                            OLS   Adj. R-squared:                  0.002\n",
      "Method:                 Least Squares   F-statistic:                     4.489\n",
      "Date:                Thu, 14 Dec 2023   Prob (F-statistic):             0.0343\n",
      "Time:                        13:30:58   Log-Likelihood:                -7046.8\n",
      "No. Observations:                1701   AIC:                         1.410e+04\n",
      "Df Residuals:                    1699   BIC:                         1.411e+04\n",
      "Df Model:                           1                                         \n",
      "Covariance Type:            nonrobust                                         \n",
      "======================================================================================\n",
      "                         coef    std err          t      P>|t|      [0.025      0.975]\n",
      "--------------------------------------------------------------------------------------\n",
      "Intercept              5.2151      0.370     14.107      0.000       4.490       5.940\n",
      "normalized_runtime    -0.7835      0.370     -2.119      0.034      -1.509      -0.058\n",
      "==============================================================================\n",
      "Omnibus:                     4151.354   Durbin-Watson:                   1.930\n",
      "Prob(Omnibus):                  0.000   Jarque-Bera (JB):         45962694.468\n",
      "Skew:                          24.501   Prob(JB):                         0.00\n",
      "Kurtosis:                     806.805   Cond. No.                         1.00\n",
      "==============================================================================\n",
      "\n",
      "Notes:\n",
      "[1] Standard Errors assume that the covariance matrix of the errors is correctly specified.\n"
     ]
    }
   ],
   "source": [
    "np.random.seed(2)\n",
    "res = mod_1.fit()\n",
    "print(res.summary())"
   ]
  },
  {
   "cell_type": "code",
   "execution_count": 9,
   "id": "565f47f3-351a-4cc1-9aab-d835cd8436f2",
   "metadata": {
    "tags": []
   },
   "outputs": [
    {
     "name": "stdout",
     "output_type": "stream",
     "text": [
      "movie_id\n",
      "title\n",
      "budget\n",
      "revenue\n",
      "release_date\n",
      "runtime\n",
      "original_language\n",
      "genres\n",
      "number_characters\n",
      "below18\n",
      "above60\n",
      "male_ratio\n",
      "average_actor_exp\n",
      "multiplier\n",
      "year\n",
      "year_group\n",
      "category\n",
      "normalized_runtime\n",
      "onehot_cn\n",
      "onehot_cs\n",
      "onehot_da\n",
      "onehot_de\n",
      "onehot_en\n",
      "onehot_es\n",
      "onehot_fi\n",
      "onehot_fr\n",
      "onehot_hi\n",
      "onehot_id\n",
      "onehot_it\n",
      "onehot_ja\n",
      "onehot_kn\n",
      "onehot_ko\n",
      "onehot_la\n",
      "onehot_no\n",
      "onehot_pt\n",
      "onehot_ru\n",
      "onehot_sv\n",
      "onehot_te\n",
      "onehot_th\n",
      "onehot_tr\n",
      "onehot_zh\n"
     ]
    }
   ],
   "source": [
    "# Performing one-hot encoding for the 'track' column\n",
    "original_language_onehot = pd.get_dummies(df['original_language'], prefix='onehot', prefix_sep='_')\n",
    "\n",
    "# Concatenate the new one-hot encoded columns to the original dataframe\n",
    "df = pd.concat([df, original_language_onehot], axis=1)\n",
    "\n",
    "for col in df.columns:\n",
    "    print(col)"
   ]
  },
  {
   "cell_type": "code",
   "execution_count": 10,
   "id": "94884ec8-a27b-4ce2-bdb2-84ea068a0eaf",
   "metadata": {
    "tags": []
   },
   "outputs": [
    {
     "name": "stdout",
     "output_type": "stream",
     "text": [
      "original_language\n",
      "cn      10\n",
      "cs       1\n",
      "da       5\n",
      "de       4\n",
      "en    1509\n",
      "es      21\n",
      "fi       1\n",
      "fr      34\n",
      "hi      24\n",
      "id       2\n",
      "it       5\n",
      "ja      22\n",
      "kn       1\n",
      "ko      20\n",
      "la       1\n",
      "no       4\n",
      "pt       1\n",
      "ru      11\n",
      "sv       3\n",
      "te       2\n",
      "th       2\n",
      "tr       1\n",
      "zh      17\n",
      "dtype: int64\n"
     ]
    }
   ],
   "source": [
    "# Select all the onehot feature names previously created\n",
    "# selected_cols = [col for col in df.columns if 'onehot' in col]\n",
    "\n",
    "grouped_by_language_df = df.groupby(['original_language']).size()\n",
    "print(grouped_by_language_df)"
   ]
  },
  {
   "cell_type": "code",
   "execution_count": 11,
   "id": "5388f9d9-e0b0-4ca3-b2bc-c3a30c287ac4",
   "metadata": {
    "tags": []
   },
   "outputs": [],
   "source": [
    "# Selecting only languages above a certain threshold\n",
    "mod_2 = sm.OLS(df['multiplier'], df[['onehot_cn', 'onehot_en', 'onehot_es', 'onehot_fr', 'onehot_hi', 'onehot_ja', 'onehot_ko', 'onehot_ru', 'onehot_zh']])"
   ]
  },
  {
   "cell_type": "code",
   "execution_count": 12,
   "id": "88d96c42-bab6-4d31-90c5-a94189ba5057",
   "metadata": {
    "tags": []
   },
   "outputs": [
    {
     "name": "stdout",
     "output_type": "stream",
     "text": [
      "                                 OLS Regression Results                                \n",
      "=======================================================================================\n",
      "Dep. Variable:             multiplier   R-squared (uncentered):                   0.138\n",
      "Model:                            OLS   Adj. R-squared (uncentered):              0.134\n",
      "Method:                 Least Squares   F-statistic:                              30.19\n",
      "Date:                Thu, 14 Dec 2023   Prob (F-statistic):                    2.92e-49\n",
      "Time:                        13:31:03   Log-Likelihood:                         -7016.3\n",
      "No. Observations:                1701   AIC:                                  1.405e+04\n",
      "Df Residuals:                    1692   BIC:                                  1.410e+04\n",
      "Df Model:                           9                                                  \n",
      "Covariance Type:            nonrobust                                                  \n",
      "==============================================================================\n",
      "                 coef    std err          t      P>|t|      [0.025      0.975]\n",
      "------------------------------------------------------------------------------\n",
      "onehot_cn     18.7460      4.746      3.950      0.000       9.438      28.054\n",
      "onehot_en      4.7715      0.386     12.351      0.000       4.014       5.529\n",
      "onehot_es      5.6010      3.275      1.710      0.087      -0.822      12.024\n",
      "onehot_fr      2.9643      2.574      1.152      0.250      -2.084       8.012\n",
      "onehot_hi      5.4123      3.063      1.767      0.077      -0.596      11.421\n",
      "onehot_ja     29.2280      3.200      9.135      0.000      22.952      35.504\n",
      "onehot_ko     10.1395      3.356      3.022      0.003       3.558      16.721\n",
      "onehot_ru      3.0392      4.525      0.672      0.502      -5.836      11.914\n",
      "onehot_zh      6.5160      3.640      1.790      0.074      -0.623      13.655\n",
      "==============================================================================\n",
      "Omnibus:                     4013.420   Durbin-Watson:                   1.953\n",
      "Prob(Omnibus):                  0.000   Jarque-Bera (JB):         36711953.742\n",
      "Skew:                          22.567   Prob(JB):                         0.00\n",
      "Kurtosis:                     721.293   Cond. No.                         12.3\n",
      "==============================================================================\n",
      "\n",
      "Notes:\n",
      "[1] R² is computed without centering (uncentered) since the model does not contain a constant.\n",
      "[2] Standard Errors assume that the covariance matrix of the errors is correctly specified.\n"
     ]
    }
   ],
   "source": [
    "np.random.seed(2)\n",
    "res = mod_2.fit()\n",
    "print(res.summary())"
   ]
  },
  {
   "cell_type": "code",
   "execution_count": 13,
   "id": "b9433124-6609-4652-84fd-525f728bc097",
   "metadata": {
    "tags": []
   },
   "outputs": [],
   "source": [
    "# Trying to improve it by removing non-statistically significant ones\n",
    "mod_3 = sm.OLS(df['multiplier'], df[['onehot_cn', 'onehot_en', 'onehot_ja', 'onehot_ko']])"
   ]
  },
  {
   "cell_type": "code",
   "execution_count": 14,
   "id": "a10f31f2-d27a-4694-8aed-e0c696dc4ab2",
   "metadata": {
    "tags": []
   },
   "outputs": [
    {
     "name": "stdout",
     "output_type": "stream",
     "text": [
      "                                 OLS Regression Results                                \n",
      "=======================================================================================\n",
      "Dep. Variable:             multiplier   R-squared (uncentered):                   0.133\n",
      "Model:                            OLS   Adj. R-squared (uncentered):              0.131\n",
      "Method:                 Least Squares   F-statistic:                              64.95\n",
      "Date:                Thu, 14 Dec 2023   Prob (F-statistic):                    3.66e-51\n",
      "Time:                        13:31:06   Log-Likelihood:                         -7021.9\n",
      "No. Observations:                1701   AIC:                                  1.405e+04\n",
      "Df Residuals:                    1697   BIC:                                  1.407e+04\n",
      "Df Model:                           4                                                  \n",
      "Covariance Type:            nonrobust                                                  \n",
      "==============================================================================\n",
      "                 coef    std err          t      P>|t|      [0.025      0.975]\n",
      "------------------------------------------------------------------------------\n",
      "onehot_cn     18.7460      4.754      3.943      0.000       9.421      28.071\n",
      "onehot_en      4.7715      0.387     12.329      0.000       4.012       5.531\n",
      "onehot_ja     29.2280      3.205      9.119      0.000      22.941      35.515\n",
      "onehot_ko     10.1395      3.362      3.016      0.003       3.546      16.733\n",
      "==============================================================================\n",
      "Omnibus:                     3995.246   Durbin-Watson:                   1.944\n",
      "Prob(Omnibus):                  0.000   Jarque-Bera (JB):         35679719.058\n",
      "Skew:                          22.321   Prob(JB):                         0.00\n",
      "Kurtosis:                     711.113   Cond. No.                         12.3\n",
      "==============================================================================\n",
      "\n",
      "Notes:\n",
      "[1] R² is computed without centering (uncentered) since the model does not contain a constant.\n",
      "[2] Standard Errors assume that the covariance matrix of the errors is correctly specified.\n"
     ]
    }
   ],
   "source": [
    "np.random.seed(2)\n",
    "res = mod_3.fit()\n",
    "print(res.summary())"
   ]
  },
  {
   "cell_type": "code",
   "execution_count": 15,
   "id": "c0a46350-e5d2-431e-a904-9a5c83ae1c09",
   "metadata": {
    "tags": []
   },
   "outputs": [
    {
     "name": "stdout",
     "output_type": "stream",
     "text": [
      "                                 OLS Regression Results                                \n",
      "=======================================================================================\n",
      "Dep. Variable:             multiplier   R-squared (uncentered):                   0.134\n",
      "Model:                            OLS   Adj. R-squared (uncentered):              0.131\n",
      "Method:                 Least Squares   F-statistic:                              52.36\n",
      "Date:                Thu, 14 Dec 2023   Prob (F-statistic):                    1.25e-50\n",
      "Time:                        13:31:08   Log-Likelihood:                         -7020.9\n",
      "No. Observations:                1701   AIC:                                  1.405e+04\n",
      "Df Residuals:                    1696   BIC:                                  1.408e+04\n",
      "Df Model:                           5                                                  \n",
      "Covariance Type:            nonrobust                                                  \n",
      "======================================================================================\n",
      "                         coef    std err          t      P>|t|      [0.025      0.975]\n",
      "--------------------------------------------------------------------------------------\n",
      "normalized_runtime    -0.5003      0.366     -1.367      0.172      -1.218       0.217\n",
      "onehot_cn             18.5829      4.754      3.909      0.000       9.258      27.908\n",
      "onehot_en              4.7442      0.387     12.245      0.000       3.984       5.504\n",
      "onehot_ja             29.1178      3.205      9.084      0.000      22.831      35.405\n",
      "onehot_ko             10.4072      3.367      3.091      0.002       3.804      17.010\n",
      "==============================================================================\n",
      "Omnibus:                     3994.609   Durbin-Watson:                   1.948\n",
      "Prob(Omnibus):                  0.000   Jarque-Bera (JB):         35684338.351\n",
      "Skew:                          22.312   Prob(JB):                         0.00\n",
      "Kurtosis:                     711.161   Cond. No.                         13.2\n",
      "==============================================================================\n",
      "\n",
      "Notes:\n",
      "[1] R² is computed without centering (uncentered) since the model does not contain a constant.\n",
      "[2] Standard Errors assume that the covariance matrix of the errors is correctly specified.\n"
     ]
    }
   ],
   "source": [
    "# Trying to combine with normalized runtime\n",
    "mod_4 = sm.OLS(df['multiplier'], df[['normalized_runtime', 'onehot_cn', 'onehot_en', 'onehot_ja', 'onehot_ko']])\n",
    "np.random.seed(2)\n",
    "res = mod_4.fit()\n",
    "print(res.summary())"
   ]
  },
  {
   "cell_type": "code",
   "execution_count": 16,
   "id": "0d9c8da3-9f6f-4919-8828-8c2b611b940f",
   "metadata": {
    "tags": []
   },
   "outputs": [
    {
     "name": "stdout",
     "output_type": "stream",
     "text": [
      "                                 OLS Regression Results                                \n",
      "=======================================================================================\n",
      "Dep. Variable:             multiplier   R-squared (uncentered):                   0.135\n",
      "Model:                            OLS   Adj. R-squared (uncentered):              0.133\n",
      "Method:                 Least Squares   F-statistic:                              53.04\n",
      "Date:                Thu, 14 Dec 2023   Prob (F-statistic):                    2.90e-51\n",
      "Time:                        13:31:10   Log-Likelihood:                         -7019.4\n",
      "No. Observations:                1701   AIC:                                  1.405e+04\n",
      "Df Residuals:                    1696   BIC:                                  1.408e+04\n",
      "Df Model:                           5                                                  \n",
      "Covariance Type:            nonrobust                                                  \n",
      "=====================================================================================\n",
      "                        coef    std err          t      P>|t|      [0.025      0.975]\n",
      "-------------------------------------------------------------------------------------\n",
      "number_characters    -0.1375      0.063     -2.199      0.028      -0.260      -0.015\n",
      "onehot_cn            19.3372      4.756      4.065      0.000      10.008      28.666\n",
      "onehot_en             6.1858      0.750      8.243      0.000       4.714       7.658\n",
      "onehot_ja            29.6842      3.208      9.252      0.000      23.391      35.977\n",
      "onehot_ko            10.8476      3.373      3.216      0.001       4.231      17.464\n",
      "==============================================================================\n",
      "Omnibus:                     3996.750   Durbin-Watson:                   1.951\n",
      "Prob(Omnibus):                  0.000   Jarque-Bera (JB):         35881524.752\n",
      "Skew:                          22.339   Prob(JB):                         0.00\n",
      "Kurtosis:                     713.119   Cond. No.                         148.\n",
      "==============================================================================\n",
      "\n",
      "Notes:\n",
      "[1] R² is computed without centering (uncentered) since the model does not contain a constant.\n",
      "[2] Standard Errors assume that the covariance matrix of the errors is correctly specified.\n"
     ]
    }
   ],
   "source": [
    "# Non sense to add runtime, trying number of characters\n",
    "mod_5 = sm.OLS(df['multiplier'], df[['number_characters', 'onehot_cn', 'onehot_en', 'onehot_ja', 'onehot_ko']])\n",
    "np.random.seed(2)\n",
    "res = mod_5.fit()\n",
    "print(res.summary())"
   ]
  },
  {
   "cell_type": "code",
   "execution_count": 17,
   "id": "1d7df31a-e721-48f6-be70-767fb6917d04",
   "metadata": {
    "tags": []
   },
   "outputs": [
    {
     "name": "stdout",
     "output_type": "stream",
     "text": [
      "                                 OLS Regression Results                                \n",
      "=======================================================================================\n",
      "Dep. Variable:             multiplier   R-squared (uncentered):                   0.139\n",
      "Model:                            OLS   Adj. R-squared (uncentered):              0.134\n",
      "Method:                 Least Squares   F-statistic:                              30.35\n",
      "Date:                Thu, 14 Dec 2023   Prob (F-statistic):                    1.61e-49\n",
      "Time:                        13:31:13   Log-Likelihood:                         -7015.7\n",
      "No. Observations:                1701   AIC:                                  1.405e+04\n",
      "Df Residuals:                    1692   BIC:                                  1.410e+04\n",
      "Df Model:                           9                                                  \n",
      "Covariance Type:            nonrobust                                                  \n",
      "=====================================================================================\n",
      "                        coef    std err          t      P>|t|      [0.025      0.975]\n",
      "-------------------------------------------------------------------------------------\n",
      "below18               0.5154      3.706      0.139      0.889      -6.754       7.785\n",
      "above60               0.1940      2.865      0.068      0.946      -5.425       5.814\n",
      "male_ratio           -0.7400      1.402     -0.528      0.598      -3.490       2.010\n",
      "average_actor_exp    -0.2972      0.123     -2.417      0.016      -0.538      -0.056\n",
      "number_characters    -0.0847      0.066     -1.291      0.197      -0.213       0.044\n",
      "onehot_cn            20.0700      4.859      4.130      0.000      10.539      29.601\n",
      "onehot_en             7.6332      1.170      6.526      0.000       5.339       9.927\n",
      "onehot_ja            30.0716      3.282      9.163      0.000      23.635      36.508\n",
      "onehot_ko            11.2176      3.493      3.211      0.001       4.366      18.069\n",
      "==============================================================================\n",
      "Omnibus:                     4000.880   Durbin-Watson:                   1.943\n",
      "Prob(Omnibus):                  0.000   Jarque-Bera (JB):         36237551.325\n",
      "Skew:                          22.393   Prob(JB):                         0.00\n",
      "Kurtosis:                     716.640   Cond. No.                         167.\n",
      "==============================================================================\n",
      "\n",
      "Notes:\n",
      "[1] R² is computed without centering (uncentered) since the model does not contain a constant.\n",
      "[2] Standard Errors assume that the covariance matrix of the errors is correctly specified.\n"
     ]
    }
   ],
   "source": [
    "# Non sense to add runtime, trying to add other features\n",
    "mod_6 = sm.OLS(df['multiplier'], df[['below18', 'above60', 'male_ratio', 'average_actor_exp', 'number_characters', 'onehot_cn', 'onehot_en', 'onehot_ja', 'onehot_ko']])\n",
    "np.random.seed(2)\n",
    "res = mod_6.fit()\n",
    "print(res.summary())"
   ]
  },
  {
   "cell_type": "code",
   "execution_count": 18,
   "id": "9476963c-6918-4483-a03e-27b597144894",
   "metadata": {
    "tags": []
   },
   "outputs": [
    {
     "name": "stdout",
     "output_type": "stream",
     "text": [
      "                                 OLS Regression Results                                \n",
      "=======================================================================================\n",
      "Dep. Variable:             multiplier   R-squared (uncentered):                   0.138\n",
      "Model:                            OLS   Adj. R-squared (uncentered):              0.135\n",
      "Method:                 Least Squares   F-statistic:                              54.25\n",
      "Date:                Thu, 14 Dec 2023   Prob (F-statistic):                    2.20e-52\n",
      "Time:                        13:31:18   Log-Likelihood:                         -7016.8\n",
      "No. Observations:                1701   AIC:                                  1.404e+04\n",
      "Df Residuals:                    1696   BIC:                                  1.407e+04\n",
      "Df Model:                           5                                                  \n",
      "Covariance Type:            nonrobust                                                  \n",
      "=====================================================================================\n",
      "                        coef    std err          t      P>|t|      [0.025      0.975]\n",
      "-------------------------------------------------------------------------------------\n",
      "average_actor_exp    -0.3460      0.109     -3.173      0.002      -0.560      -0.132\n",
      "onehot_cn            19.2097      4.744      4.049      0.000       9.905      28.514\n",
      "onehot_en             6.5703      0.686      9.581      0.000       5.225       7.915\n",
      "onehot_ja            29.4437      3.197      9.208      0.000      23.172      35.715\n",
      "onehot_ko            10.3130      3.353      3.076      0.002       3.736      16.890\n",
      "==============================================================================\n",
      "Omnibus:                     4003.982   Durbin-Watson:                   1.938\n",
      "Prob(Omnibus):                  0.000   Jarque-Bera (JB):         36374549.085\n",
      "Skew:                          22.436   Prob(JB):                         0.00\n",
      "Kurtosis:                     717.988   Cond. No.                         78.0\n",
      "==============================================================================\n",
      "\n",
      "Notes:\n",
      "[1] R² is computed without centering (uncentered) since the model does not contain a constant.\n",
      "[2] Standard Errors assume that the covariance matrix of the errors is correctly specified.\n"
     ]
    }
   ],
   "source": [
    "# Non sense to add runtime, trying to add other features\n",
    "mod_7 = sm.OLS(df['multiplier'], df[['average_actor_exp', 'onehot_cn', 'onehot_en', 'onehot_ja', 'onehot_ko']])\n",
    "np.random.seed(2)\n",
    "res = mod_7.fit()\n",
    "print(res.summary())"
   ]
  },
  {
   "cell_type": "code",
   "execution_count": 19,
   "id": "d0704268-f86e-4577-91bb-9c59aa495fe2",
   "metadata": {
    "tags": []
   },
   "outputs": [],
   "source": [
    "df['genres'] = df['genres'].apply(ast.literal_eval)\n",
    "\n",
    "# Extract unique genres\n",
    "unique_genres = set(genre for genres_list in df['genres'] for genre in genres_list)\n",
    "\n",
    "# Create one-hot encoded columns for each genre\n",
    "for genre in unique_genres:\n",
    "    df['onehot_genre_' + genre.lower()] = df['genres'].apply(lambda x: 1 if genre in x else 0)"
   ]
  },
  {
   "cell_type": "code",
   "execution_count": 20,
   "id": "970514e2-b99b-4c25-8973-3c98701093ab",
   "metadata": {
    "tags": []
   },
   "outputs": [],
   "source": [
    "# Select all the onehot feature from genres\n",
    "selected_cols = [col for col in df.columns if 'onehot_genre_' in col]"
   ]
  },
  {
   "cell_type": "code",
   "execution_count": 21,
   "id": "06f7affa-7417-4af7-a021-febedb9fb8fc",
   "metadata": {},
   "outputs": [
    {
     "name": "stdout",
     "output_type": "stream",
     "text": [
      "                                 OLS Regression Results                                \n",
      "=======================================================================================\n",
      "Dep. Variable:             multiplier   R-squared (uncentered):                   0.163\n",
      "Model:                            OLS   Adj. R-squared (uncentered):              0.151\n",
      "Method:                 Least Squares   F-statistic:                              13.65\n",
      "Date:                Thu, 14 Dec 2023   Prob (F-statistic):                    1.01e-49\n",
      "Time:                        13:31:52   Log-Likelihood:                         -6991.3\n",
      "No. Observations:                1701   AIC:                                  1.403e+04\n",
      "Df Residuals:                    1677   BIC:                                  1.416e+04\n",
      "Df Model:                          24                                                  \n",
      "Covariance Type:            nonrobust                                                  \n",
      "================================================================================================\n",
      "                                   coef    std err          t      P>|t|      [0.025      0.975]\n",
      "------------------------------------------------------------------------------------------------\n",
      "onehot_genre_horror              5.4449      1.170      4.653      0.000       3.150       7.740\n",
      "onehot_genre_science fiction    -1.7324      1.068     -1.623      0.105      -3.826       0.361\n",
      "onehot_genre_adventure           1.7833      1.004      1.776      0.076      -0.186       3.753\n",
      "onehot_genre_thriller            0.4173      0.935      0.446      0.655      -1.416       2.251\n",
      "onehot_genre_action             -1.3185      0.950     -1.388      0.165      -3.181       0.544\n",
      "onehot_genre_war                -0.0167      2.311     -0.007      0.994      -4.549       4.516\n",
      "onehot_genre_western            -1.5080      3.774     -0.400      0.689      -8.910       5.894\n",
      "onehot_genre_drama               0.5655      0.837      0.675      0.500      -1.077       2.208\n",
      "onehot_genre_romance             1.2193      1.134      1.075      0.283      -1.005       3.444\n",
      "onehot_genre_fantasy            -1.6311      1.090     -1.496      0.135      -3.769       0.507\n",
      "onehot_genre_mystery             0.0377      1.381      0.027      0.978      -2.671       2.746\n",
      "onehot_genre_comedy              2.2322      0.866      2.577      0.010       0.533       3.931\n",
      "onehot_genre_history            -1.9687      1.976     -0.996      0.319      -5.845       1.908\n",
      "onehot_genre_music               0.3295      2.452      0.134      0.893      -4.481       5.140\n",
      "onehot_genre_crime              -0.7747      1.160     -0.668      0.504      -3.049       1.500\n",
      "onehot_genre_family             -1.0305      1.547     -0.666      0.505      -4.065       2.004\n",
      "onehot_genre_documentary         2.8534      6.119      0.466      0.641      -9.148      14.855\n",
      "onehot_genre_animation          -1.1199      1.705     -0.657      0.511      -4.464       2.224\n",
      "onehot_genre_tv movie           -1.9042     14.902     -0.128      0.898     -31.132      27.324\n",
      "average_actor_exp               -0.2024      0.117     -1.729      0.084      -0.432       0.027\n",
      "onehot_cn                       19.6983      4.830      4.078      0.000      10.225      29.172\n",
      "onehot_en                        4.7064      1.037      4.537      0.000       2.672       6.741\n",
      "onehot_ja                       29.0484      3.359      8.649      0.000      22.461      35.636\n",
      "onehot_ko                        9.3033      3.449      2.697      0.007       2.538      16.069\n",
      "==============================================================================\n",
      "Omnibus:                     4000.580   Durbin-Watson:                   1.968\n",
      "Prob(Omnibus):                  0.000   Jarque-Bera (JB):         36440417.900\n",
      "Skew:                          22.385   Prob(JB):                         0.00\n",
      "Kurtosis:                     718.644   Cond. No.                         249.\n",
      "==============================================================================\n",
      "\n",
      "Notes:\n",
      "[1] R² is computed without centering (uncentered) since the model does not contain a constant.\n",
      "[2] Standard Errors assume that the covariance matrix of the errors is correctly specified.\n"
     ]
    }
   ],
   "source": [
    "# Non sense to add runtime, trying to add other features\n",
    "mod_7 = sm.OLS(df['multiplier'], df[selected_cols + ['average_actor_exp', 'onehot_cn', 'onehot_en', 'onehot_ja', 'onehot_ko']])\n",
    "np.random.seed(2)\n",
    "res = mod_7.fit()\n",
    "print(res.summary())"
   ]
  },
  {
   "cell_type": "code",
   "execution_count": 22,
   "id": "188a5394-e702-4f1a-87dc-3a36151bb0fe",
   "metadata": {
    "tags": []
   },
   "outputs": [
    {
     "name": "stdout",
     "output_type": "stream",
     "text": [
      "onehot_genre_horror has 267 values\n",
      "onehot_genre_science fiction has 302 values\n",
      "onehot_genre_adventure has 508 values\n",
      "onehot_genre_thriller has 473 values\n",
      "onehot_genre_action has 584 values\n",
      "onehot_genre_war has 51 values\n",
      "onehot_genre_western has 16 values\n",
      "onehot_genre_drama has 619 values\n",
      "onehot_genre_romance has 237 values\n",
      "onehot_genre_fantasy has 277 values\n",
      "onehot_genre_mystery has 144 values\n",
      "onehot_genre_comedy has 538 values\n",
      "onehot_genre_history has 73 values\n",
      "onehot_genre_music has 39 values\n",
      "onehot_genre_crime has 232 values\n",
      "onehot_genre_family has 253 values\n",
      "onehot_genre_documentary has 6 values\n",
      "onehot_genre_animation has 172 values\n",
      "onehot_genre_tv movie has 1 values\n"
     ]
    }
   ],
   "source": [
    "for col in selected_cols:\n",
    "    print('{} has {} values'.format(col, df[col].sum()))"
   ]
  },
  {
   "cell_type": "code",
   "execution_count": 23,
   "id": "88baa67f-618e-4221-9b70-0643b227e21c",
   "metadata": {
    "tags": []
   },
   "outputs": [
    {
     "name": "stdout",
     "output_type": "stream",
     "text": [
      "                                 OLS Regression Results                                \n",
      "=======================================================================================\n",
      "Dep. Variable:             multiplier   R-squared (uncentered):                   0.163\n",
      "Model:                            OLS   Adj. R-squared (uncentered):              0.154\n",
      "Method:                 Least Squares   F-statistic:                              18.16\n",
      "Date:                Thu, 14 Dec 2023   Prob (F-statistic):                    4.51e-53\n",
      "Time:                        13:32:44   Log-Likelihood:                         -6992.1\n",
      "No. Observations:                1701   AIC:                                  1.402e+04\n",
      "Df Residuals:                    1683   BIC:                                  1.412e+04\n",
      "Df Model:                          18                                                  \n",
      "Covariance Type:            nonrobust                                                  \n",
      "================================================================================================\n",
      "                                   coef    std err          t      P>|t|      [0.025      0.975]\n",
      "------------------------------------------------------------------------------------------------\n",
      "onehot_genre_horror              5.4630      1.166      4.685      0.000       3.176       7.750\n",
      "onehot_genre_science fiction    -1.6210      1.053     -1.540      0.124      -3.686       0.444\n",
      "onehot_genre_adventure           1.7679      1.000      1.769      0.077      -0.192       3.728\n",
      "onehot_genre_thriller            0.4888      0.928      0.527      0.598      -1.331       2.309\n",
      "onehot_genre_action             -1.4353      0.932     -1.540      0.124      -3.263       0.392\n",
      "onehot_genre_drama               0.3490      0.808      0.432      0.666      -1.237       1.935\n",
      "onehot_genre_romance             1.3168      1.126      1.169      0.243      -0.892       3.526\n",
      "onehot_genre_fantasy            -1.5695      1.085     -1.447      0.148      -3.697       0.558\n",
      "onehot_genre_mystery             0.0735      1.378      0.053      0.958      -2.630       2.776\n",
      "onehot_genre_comedy              2.3159      0.861      2.689      0.007       0.626       4.005\n",
      "onehot_genre_crime              -0.6579      1.145     -0.574      0.566      -2.904       1.588\n",
      "onehot_genre_family             -0.9834      1.543     -0.637      0.524      -4.009       2.042\n",
      "onehot_genre_animation          -1.1484      1.702     -0.675      0.500      -4.486       2.189\n",
      "average_actor_exp               -0.1990      0.116     -1.711      0.087      -0.427       0.029\n",
      "onehot_cn                       19.4072      4.810      4.035      0.000       9.973      28.842\n",
      "onehot_en                        4.6148      1.019      4.529      0.000       2.616       6.613\n",
      "onehot_ja                       28.9777      3.351      8.647      0.000      22.405      35.550\n",
      "onehot_ko                        9.2141      3.440      2.678      0.007       2.466      15.962\n",
      "==============================================================================\n",
      "Omnibus:                     3998.327   Durbin-Watson:                   1.966\n",
      "Prob(Omnibus):                  0.000   Jarque-Bera (JB):         36294741.733\n",
      "Skew:                          22.355   Prob(JB):                         0.00\n",
      "Kurtosis:                     717.210   Cond. No.                         80.8\n",
      "==============================================================================\n",
      "\n",
      "Notes:\n",
      "[1] R² is computed without centering (uncentered) since the model does not contain a constant.\n",
      "[2] Standard Errors assume that the covariance matrix of the errors is correctly specified.\n"
     ]
    }
   ],
   "source": [
    "# Selected most populated ones\n",
    "selected_cols.remove('onehot_genre_war')\n",
    "selected_cols.remove('onehot_genre_documentary')\n",
    "selected_cols.remove('onehot_genre_music')\n",
    "selected_cols.remove('onehot_genre_western')\n",
    "selected_cols.remove('onehot_genre_tv movie')\n",
    "selected_cols.remove('onehot_genre_history')\n",
    "\n",
    "mod_8 = sm.OLS(df['multiplier'], df[selected_cols + ['average_actor_exp', 'onehot_cn', 'onehot_en', 'onehot_ja', 'onehot_ko']])\n",
    "np.random.seed(2)\n",
    "res = mod_8.fit()\n",
    "print(res.summary())"
   ]
  },
  {
   "cell_type": "markdown",
   "id": "3cda2658-3c67-431e-ad3a-5775badacb0c",
   "metadata": {},
   "source": [
    "## Based on the previous analysis, create the best model for low/high budget"
   ]
  },
  {
   "cell_type": "code",
   "execution_count": 24,
   "id": "42e93a18-3f91-40aa-b134-0fcb5d5f826b",
   "metadata": {
    "tags": []
   },
   "outputs": [],
   "source": [
    "# Trying to create two models based on the multiplier (low/high)\n",
    "df_low = df[df['category'] == 'low']\n",
    "df_high = df[df['category'] == 'high']"
   ]
  },
  {
   "cell_type": "code",
   "execution_count": 37,
   "id": "aedfc969-6b0e-4a69-901d-7faddc8d97bd",
   "metadata": {
    "tags": []
   },
   "outputs": [
    {
     "name": "stdout",
     "output_type": "stream",
     "text": [
      "                                 OLS Regression Results                                \n",
      "=======================================================================================\n",
      "Dep. Variable:             multiplier   R-squared (uncentered):                   0.166\n",
      "Model:                            OLS   Adj. R-squared (uncentered):              0.148\n",
      "Method:                 Least Squares   F-statistic:                              9.244\n",
      "Date:                Thu, 14 Dec 2023   Prob (F-statistic):                    1.78e-23\n",
      "Time:                        13:50:28   Log-Likelihood:                         -3793.6\n",
      "No. Observations:                 855   AIC:                                      7623.\n",
      "Df Residuals:                     837   BIC:                                      7709.\n",
      "Df Model:                          18                                                  \n",
      "Covariance Type:            nonrobust                                                  \n",
      "================================================================================================\n",
      "                                   coef    std err          t      P>|t|      [0.025      0.975]\n",
      "------------------------------------------------------------------------------------------------\n",
      "onehot_genre_horror              6.0774      1.969      3.086      0.002       2.212       9.943\n",
      "onehot_genre_science fiction    -3.5947      2.595     -1.385      0.166      -8.688       1.499\n",
      "onehot_genre_adventure           3.2682      2.882      1.134      0.257      -2.388       8.924\n",
      "onehot_genre_thriller            1.2955      1.748      0.741      0.459      -2.136       4.727\n",
      "onehot_genre_action             -3.0029      2.222     -1.351      0.177      -7.365       1.359\n",
      "onehot_genre_drama               0.9462      1.485      0.637      0.524      -1.968       3.860\n",
      "onehot_genre_romance             1.3797      1.970      0.700      0.484      -2.486       5.246\n",
      "onehot_genre_fantasy            -2.9831      2.824     -1.056      0.291      -8.526       2.560\n",
      "onehot_genre_mystery             0.3060      2.418      0.127      0.899      -4.439       5.051\n",
      "onehot_genre_comedy              4.5447      1.642      2.768      0.006       1.322       7.767\n",
      "onehot_genre_crime              -0.6310      2.089     -0.302      0.763      -4.732       3.470\n",
      "onehot_genre_family             -1.4667      3.677     -0.399      0.690      -8.685       5.751\n",
      "onehot_genre_animation          -4.9177      4.368     -1.126      0.261     -13.491       3.656\n",
      "average_actor_exp               -0.4181      0.243     -1.723      0.085      -0.894       0.058\n",
      "onehot_cn                       19.8828      6.855      2.901      0.004       6.428      33.338\n",
      "onehot_en                        5.1113      1.787      2.860      0.004       1.603       8.620\n",
      "onehot_ja                       31.4318      4.937      6.366      0.000      21.741      41.123\n",
      "onehot_ko                        8.9306      4.890      1.826      0.068      -0.668      18.529\n",
      "==============================================================================\n",
      "Omnibus:                     1776.476   Durbin-Watson:                   1.976\n",
      "Prob(Omnibus):                  0.000   Jarque-Bera (JB):          4827277.713\n",
      "Skew:                          16.103   Prob(JB):                         0.00\n",
      "Kurtosis:                     369.695   Cond. No.                         47.7\n",
      "==============================================================================\n",
      "\n",
      "Notes:\n",
      "[1] R² is computed without centering (uncentered) since the model does not contain a constant.\n",
      "[2] Standard Errors assume that the covariance matrix of the errors is correctly specified.\n"
     ]
    }
   ],
   "source": [
    "mod_9 = sm.OLS(df_low['multiplier'], df_low[selected_cols + ['average_actor_exp', 'onehot_cn', 'onehot_en', 'onehot_ja', 'onehot_ko']])\n",
    "np.random.seed(2)\n",
    "res = mod_9.fit()\n",
    "print(res.summary())"
   ]
  },
  {
   "cell_type": "code",
   "execution_count": 38,
   "id": "2f45bcb8-ebf5-4def-a20f-178bca29d373",
   "metadata": {
    "tags": []
   },
   "outputs": [
    {
     "name": "stdout",
     "output_type": "stream",
     "text": [
      "                                 OLS Regression Results                                \n",
      "=======================================================================================\n",
      "Dep. Variable:             multiplier   R-squared (uncentered):                   0.614\n",
      "Model:                            OLS   Adj. R-squared (uncentered):              0.606\n",
      "Method:                 Least Squares   F-statistic:                              82.44\n",
      "Date:                Thu, 14 Dec 2023   Prob (F-statistic):                   5.12e-159\n",
      "Time:                        13:51:10   Log-Likelihood:                         -1974.3\n",
      "No. Observations:                 846   AIC:                                      3981.\n",
      "Df Residuals:                     830   BIC:                                      4056.\n",
      "Df Model:                          16                                                  \n",
      "Covariance Type:            nonrobust                                                  \n",
      "================================================================================================\n",
      "                                   coef    std err          t      P>|t|      [0.025      0.975]\n",
      "------------------------------------------------------------------------------------------------\n",
      "onehot_genre_horror             -0.0454      0.471     -0.096      0.923      -0.970       0.880\n",
      "onehot_genre_science fiction    -0.2964      0.230     -1.288      0.198      -0.748       0.155\n",
      "onehot_genre_adventure           0.5508      0.211      2.612      0.009       0.137       0.965\n",
      "onehot_genre_thriller           -0.0242      0.246     -0.098      0.922      -0.507       0.458\n",
      "onehot_genre_action             -0.0173      0.220     -0.078      0.937      -0.450       0.415\n",
      "onehot_genre_drama              -0.0843      0.240     -0.351      0.726      -0.556       0.387\n",
      "onehot_genre_romance             0.4427      0.333      1.331      0.184      -0.210       1.096\n",
      "onehot_genre_fantasy            -0.0357      0.234     -0.153      0.879      -0.495       0.423\n",
      "onehot_genre_mystery            -0.1092      0.394     -0.277      0.782      -0.882       0.664\n",
      "onehot_genre_comedy             -0.1946      0.225     -0.866      0.387      -0.636       0.246\n",
      "onehot_genre_crime              -0.4135      0.312     -1.325      0.186      -1.026       0.199\n",
      "onehot_genre_family             -0.6758      0.342     -1.977      0.048      -1.347      -0.005\n",
      "onehot_genre_animation           1.2560      0.361      3.475      0.001       0.546       1.965\n",
      "average_actor_exp               -0.0361      0.028     -1.265      0.206      -0.092       0.020\n",
      "number_characters                0.1119      0.015      7.350      0.000       0.082       0.142\n",
      "onehot_en                        1.6992      0.368      4.619      0.000       0.977       2.421\n",
      "==============================================================================\n",
      "Omnibus:                      655.524   Durbin-Watson:                   1.783\n",
      "Prob(Omnibus):                  0.000   Jarque-Bera (JB):            18248.865\n",
      "Skew:                           3.254   Prob(JB):                         0.00\n",
      "Kurtosis:                      24.803   Cond. No.                         91.7\n",
      "==============================================================================\n",
      "\n",
      "Notes:\n",
      "[1] R² is computed without centering (uncentered) since the model does not contain a constant.\n",
      "[2] Standard Errors assume that the covariance matrix of the errors is correctly specified.\n"
     ]
    }
   ],
   "source": [
    "# Remove some languages since not represented in high budget dataset\n",
    "mod_10 = sm.OLS(df_high['multiplier'], df_high[selected_cols + ['average_actor_exp', 'number_characters', 'onehot_en']])\n",
    "np.random.seed(2)\n",
    "res = mod_10.fit()\n",
    "print(res.summary())"
   ]
  },
  {
   "cell_type": "markdown",
   "id": "69adae31-6690-4bc5-834c-9e3702c5489a",
   "metadata": {},
   "source": [
    "## Using Decision Tree Regressor"
   ]
  },
  {
   "cell_type": "code",
   "execution_count": 56,
   "id": "935f05b6-6861-40b4-883b-d32baae532d2",
   "metadata": {
    "tags": []
   },
   "outputs": [],
   "source": [
    "from sklearn.tree import DecisionTreeRegressor\n",
    "from sklearn.ensemble import RandomForestRegressor\n",
    "from sklearn.model_selection import cross_validate\n",
    "from sklearn.model_selection import train_test_split\n",
    "from sklearn.metrics import mean_squared_error\n",
    "from sklearn.metrics import r2_score\n",
    "from sklearn.metrics import accuracy_score"
   ]
  },
  {
   "cell_type": "code",
   "execution_count": 57,
   "id": "8cb824e8-a8f4-460f-b259-243d9fe7e7af",
   "metadata": {
    "tags": []
   },
   "outputs": [],
   "source": [
    "# Helper function returning a numpy array with given dataframe and columns\n",
    "def numpy_helper(df, cols):\n",
    "    # Selecting the specified columns from the dataframe\n",
    "    selected_data = df[cols]\n",
    "\n",
    "    # Converting the selected data to a numpy array and cast as float\n",
    "    numpy_array = selected_data.to_numpy(dtype=float)\n",
    "    return numpy_array"
   ]
  },
  {
   "cell_type": "code",
   "execution_count": 87,
   "id": "05229e6e-2a22-4c0e-8356-2f547144f362",
   "metadata": {
    "tags": []
   },
   "outputs": [
    {
     "name": "stdout",
     "output_type": "stream",
     "text": [
      "Shape of X: (1701, 18)\n",
      "Shape of y: (1701, 1)\n"
     ]
    }
   ],
   "source": [
    "X = numpy_helper(df, [col for col in df.columns if 'onehot' in col] + ['number_characters', 'below18', 'above60', 'male_ratio', 'average_actor_exp'])\n",
    "y = numpy_helper(df, ['multiplier'])\n",
    "\n",
    "print(\"Shape of X: {}\".format(X.shape))\n",
    "print(\"Shape of y: {}\".format(y.shape))"
   ]
  },
  {
   "cell_type": "code",
   "execution_count": 88,
   "id": "bbf65d69-19c2-4fb5-91e3-065c31a53f77",
   "metadata": {
    "tags": []
   },
   "outputs": [],
   "source": [
    "X_train, X_test, y_train, y_test = train_test_split(X, y, test_size=0.15, random_state=42)"
   ]
  },
  {
   "cell_type": "code",
   "execution_count": 60,
   "id": "4b9a5f1e-1776-46f9-97d7-acdc18b27df1",
   "metadata": {
    "tags": []
   },
   "outputs": [
    {
     "name": "stdout",
     "output_type": "stream",
     "text": [
      "Mean Squared Error: 82.38371976164535\n"
     ]
    }
   ],
   "source": [
    "# Initialize the Random Forest Regressor\n",
    "rf_regressor = RandomForestRegressor(n_estimators=100, random_state=42)\n",
    "\n",
    "# Train the model\n",
    "rf_regressor.fit(X_train, y_train.ravel())\n",
    "\n",
    "# Predict on the test set\n",
    "y_pred = rf_regressor.predict(X_test)\n",
    "\n",
    "# Evaluate the model using Mean Squared Error\n",
    "mse = mean_squared_error(y_test, y_pred)\n",
    "print(f\"Mean Squared Error: {mse}\")"
   ]
  },
  {
   "cell_type": "code",
   "execution_count": 61,
   "id": "96ea6ea5-b0fb-49c3-b771-fe2f05e9b6e7",
   "metadata": {
    "tags": []
   },
   "outputs": [
    {
     "name": "stdout",
     "output_type": "stream",
     "text": [
      "R-squared: -0.08734614711761335\n"
     ]
    }
   ],
   "source": [
    "# Assuming y_true are the actual target values, and y_pred are the predicted values\n",
    "r2 = r2_score(y_test, y_pred)\n",
    "print(f\"R-squared: {r2}\")"
   ]
  },
  {
   "cell_type": "code",
   "execution_count": 112,
   "id": "6ade8583-c784-4a60-9c74-e90fc32b7de3",
   "metadata": {
    "tags": []
   },
   "outputs": [
    {
     "name": "stdout",
     "output_type": "stream",
     "text": [
      "Mean Squared Error: 227.32138958830836\n"
     ]
    }
   ],
   "source": [
    "# Assuming X and y are your feature matrix and target variable\n",
    "decision_tree_model = DecisionTreeRegressor()\n",
    "decision_tree_model.fit(X_train, y_train.ravel())\n",
    "\n",
    "# Predict on the test set\n",
    "y_pred = decision_tree_model.predict(X_test)\n",
    "\n",
    "# Evaluate the model using Mean Squared Error\n",
    "mse = mean_squared_error(y_test, y_pred)\n",
    "print(f\"Mean Squared Error: {mse}\")"
   ]
  },
  {
   "cell_type": "code",
   "execution_count": 54,
   "id": "4c36e254-67fc-45c6-8488-ee78e4d46d0f",
   "metadata": {
    "tags": []
   },
   "outputs": [
    {
     "name": "stdout",
     "output_type": "stream",
     "text": [
      "R-squared: -0.7939450966422106\n"
     ]
    }
   ],
   "source": [
    "# Assuming y_true are the actual target values, and y_pred are the predicted values\n",
    "r2 = r2_score(y_test, y_pred)\n",
    "print(f\"R-squared: {r2}\")"
   ]
  },
  {
   "cell_type": "markdown",
   "id": "8599e202-1b78-461c-9d8f-60ba61f9c410",
   "metadata": {},
   "source": [
    "## Same idea but for low/high budget datasets"
   ]
  },
  {
   "cell_type": "markdown",
   "id": "65d9b5d6-6205-42f0-9295-6efe6d8ae119",
   "metadata": {},
   "source": [
    "### High budget"
   ]
  },
  {
   "cell_type": "code",
   "execution_count": 102,
   "id": "a4e0ae10-90d4-40db-8cec-3176921ec0f9",
   "metadata": {
    "tags": []
   },
   "outputs": [
    {
     "name": "stdout",
     "output_type": "stream",
     "text": [
      "Shape of X: (846, 44)\n",
      "Shape of y: (846, 1)\n"
     ]
    }
   ],
   "source": [
    "X = numpy_helper(df_high, [col for col in df.columns if 'onehot' in col] + ['number_characters', 'average_actor_exp'])\n",
    "y = numpy_helper(df_high, ['multiplier'])\n",
    "\n",
    "print(\"Shape of X: {}\".format(X.shape))\n",
    "print(\"Shape of y: {}\".format(y.shape))"
   ]
  },
  {
   "cell_type": "code",
   "execution_count": 103,
   "id": "d4ffb8a9-95cc-461c-96e4-4ba9e2834d1b",
   "metadata": {
    "tags": []
   },
   "outputs": [],
   "source": [
    "X_train, X_test, y_train, y_test = train_test_split(X, y, test_size=0.15, random_state=42)"
   ]
  },
  {
   "cell_type": "code",
   "execution_count": 104,
   "id": "2d85ba0a-c938-49ff-b8cb-c6fe5f79a297",
   "metadata": {
    "tags": []
   },
   "outputs": [
    {
     "name": "stdout",
     "output_type": "stream",
     "text": [
      "Mean Squared Error: 10.490267031409024\n"
     ]
    }
   ],
   "source": [
    "# Initialize the Random Forest Regressor\n",
    "rf_regressor_2 = RandomForestRegressor(n_estimators=100, max_depth=3, random_state=42)\n",
    "\n",
    "# Train the model\n",
    "rf_regressor_2.fit(X_train, y_train.ravel())\n",
    "\n",
    "# Predict on the test set\n",
    "y_pred = rf_regressor_2.predict(X_test)\n",
    "\n",
    "# Evaluate the model using Mean Squared Error\n",
    "mse = mean_squared_error(y_test, y_pred)\n",
    "print(f\"Mean Squared Error: {mse}\")"
   ]
  },
  {
   "cell_type": "code",
   "execution_count": 105,
   "id": "72efd63c-3f52-4e0b-b7c2-f37c495c9b68",
   "metadata": {
    "tags": []
   },
   "outputs": [
    {
     "name": "stdout",
     "output_type": "stream",
     "text": [
      "R-squared: 0.02173571562971599\n"
     ]
    }
   ],
   "source": [
    "# Assuming y_true are the actual target values, and y_pred are the predicted values\n",
    "r2 = r2_score(y_test, y_pred)\n",
    "print(f\"R-squared: {r2}\")"
   ]
  },
  {
   "cell_type": "code",
   "execution_count": 106,
   "id": "75f1e89d-2a3a-402e-a66f-3d9de8adcad4",
   "metadata": {
    "tags": []
   },
   "outputs": [
    {
     "name": "stdout",
     "output_type": "stream",
     "text": [
      "Mean Squared Error: 15.54091442514514\n"
     ]
    }
   ],
   "source": [
    "# Assuming X and y are your feature matrix and target variable\n",
    "decision_tree_model = DecisionTreeRegressor()\n",
    "decision_tree_model.fit(X_train, y_train.ravel())\n",
    "\n",
    "# Predict on the test set\n",
    "y_pred = decision_tree_model.predict(X_test)\n",
    "\n",
    "# Evaluate the model using Mean Squared Error\n",
    "mse = mean_squared_error(y_test, y_pred)\n",
    "print(f\"Mean Squared Error: {mse}\")"
   ]
  },
  {
   "cell_type": "code",
   "execution_count": 107,
   "id": "c0a5176c-332d-4642-b726-0b8629721e72",
   "metadata": {
    "tags": []
   },
   "outputs": [
    {
     "name": "stdout",
     "output_type": "stream",
     "text": [
      "R-squared: -0.44925972647355894\n"
     ]
    }
   ],
   "source": [
    "# Assuming y_true are the actual target values, and y_pred are the predicted values\n",
    "r2 = r2_score(y_test, y_pred)\n",
    "print(f\"R-squared: {r2}\")"
   ]
  },
  {
   "cell_type": "markdown",
   "id": "57301675-d607-4d26-ac3c-f1d4b64e99b8",
   "metadata": {},
   "source": [
    "### Low budget"
   ]
  },
  {
   "cell_type": "code",
   "execution_count": 108,
   "id": "7778242a-8ebb-4c2d-912a-2a6d6818fa7f",
   "metadata": {
    "tags": []
   },
   "outputs": [
    {
     "name": "stdout",
     "output_type": "stream",
     "text": [
      "Shape of X: (855, 44)\n",
      "Shape of y: (855, 1)\n"
     ]
    }
   ],
   "source": [
    "X = numpy_helper(df_low, [col for col in df.columns if 'onehot' in col] + ['number_characters', 'average_actor_exp'])\n",
    "y = numpy_helper(df_low, ['multiplier'])\n",
    "\n",
    "print(\"Shape of X: {}\".format(X.shape))\n",
    "print(\"Shape of y: {}\".format(y.shape))"
   ]
  },
  {
   "cell_type": "code",
   "execution_count": 109,
   "id": "435cf950-280a-43ba-bd84-c3a53fa41551",
   "metadata": {
    "tags": []
   },
   "outputs": [],
   "source": [
    "X_train, X_test, y_train, y_test = train_test_split(X, y, test_size=0.15, random_state=42)"
   ]
  },
  {
   "cell_type": "code",
   "execution_count": 110,
   "id": "e11d12b6-e087-4894-8286-c359e0cd44c0",
   "metadata": {
    "tags": []
   },
   "outputs": [
    {
     "name": "stdout",
     "output_type": "stream",
     "text": [
      "Mean Squared Error: 170.7076721161348\n"
     ]
    }
   ],
   "source": [
    "# Initialize the Random Forest Regressor\n",
    "rf_regressor_3 = RandomForestRegressor(n_estimators=100, max_depth=3, random_state=42)\n",
    "\n",
    "# Train the model\n",
    "rf_regressor_3.fit(X_train, y_train.ravel())\n",
    "\n",
    "# Predict on the test set\n",
    "y_pred = rf_regressor_3.predict(X_test)\n",
    "\n",
    "# Evaluate the model using Mean Squared Error\n",
    "mse = mean_squared_error(y_test, y_pred)\n",
    "print(f\"Mean Squared Error: {mse}\")"
   ]
  },
  {
   "cell_type": "code",
   "execution_count": 111,
   "id": "f8050668-23ed-4d6e-91d5-089534181d08",
   "metadata": {
    "tags": []
   },
   "outputs": [
    {
     "name": "stdout",
     "output_type": "stream",
     "text": [
      "R-squared: 0.054805000800541404\n"
     ]
    }
   ],
   "source": [
    "# Assuming y_true are the actual target values, and y_pred are the predicted values\n",
    "r2 = r2_score(y_test, y_pred)\n",
    "print(f\"R-squared: {r2}\")"
   ]
  },
  {
   "cell_type": "code",
   "execution_count": 113,
   "id": "21f2b2ec-8ad1-4b1f-9d39-3e065dec93d6",
   "metadata": {
    "tags": []
   },
   "outputs": [
    {
     "name": "stdout",
     "output_type": "stream",
     "text": [
      "Mean Squared Error: 258.9167696779585\n"
     ]
    }
   ],
   "source": [
    "# Assuming X and y are your feature matrix and target variable\n",
    "decision_tree_model = DecisionTreeRegressor()\n",
    "decision_tree_model.fit(X_train, y_train.ravel())\n",
    "\n",
    "# Predict on the test set\n",
    "y_pred = decision_tree_model.predict(X_test)\n",
    "\n",
    "# Evaluate the model using Mean Squared Error\n",
    "mse = mean_squared_error(y_test, y_pred)\n",
    "print(f\"Mean Squared Error: {mse}\")"
   ]
  },
  {
   "cell_type": "code",
   "execution_count": 114,
   "id": "979d6bad-3c9e-4e21-b159-0d6820a190e0",
   "metadata": {
    "tags": []
   },
   "outputs": [
    {
     "name": "stdout",
     "output_type": "stream",
     "text": [
      "R-squared: -0.43360185792934525\n"
     ]
    }
   ],
   "source": [
    "# Assuming y_true are the actual target values, and y_pred are the predicted values\n",
    "r2 = r2_score(y_test, y_pred)\n",
    "print(f\"R-squared: {r2}\")"
   ]
  },
  {
   "cell_type": "code",
   "execution_count": null,
   "id": "c0c7a6e8-c5c0-4db4-91f8-8323b3a5aa61",
   "metadata": {},
   "outputs": [],
   "source": []
  }
 ],
 "metadata": {
  "kernelspec": {
   "display_name": "Python 3 (ipykernel)",
   "language": "python",
   "name": "python3"
  },
  "language_info": {
   "codemirror_mode": {
    "name": "ipython",
    "version": 3
   },
   "file_extension": ".py",
   "mimetype": "text/x-python",
   "name": "python",
   "nbconvert_exporter": "python",
   "pygments_lexer": "ipython3",
   "version": "3.8.5"
  }
 },
 "nbformat": 4,
 "nbformat_minor": 5
}
