{
 "cells": [
  {
   "cell_type": "code",
   "execution_count": 1,
   "id": "64eb806e-1b3d-401c-8e40-24f31b66b9b0",
   "metadata": {
    "tags": []
   },
   "outputs": [],
   "source": [
    "%load_ext autoreload\n",
    "%autoreload 2\n",
    "import pandas as pd\n",
    "import numpy as np\n",
    "import matplotlib.pyplot as plt\n",
    "import scipy.stats as stats\n",
    "import seaborn as sns\n",
    "import matplotlib.pyplot as plt\n",
    "from scipy.stats import norm\n",
    "import json\n",
    "import ast"
   ]
  },
  {
   "cell_type": "code",
   "execution_count": 2,
   "id": "7eacd9d0-5f19-4596-a950-d527cd1e49fe",
   "metadata": {
    "tags": []
   },
   "outputs": [],
   "source": [
    "import  scipy.signal.signaltools\n",
    "\n",
    "def _centered(arr, newsize):\n",
    "    # Return the center newsize portion of the array.\n",
    "    newsize = np.asarray(newsize)\n",
    "    currsize = np.array(arr.shape)\n",
    "    startind = (currsize - newsize) // 2\n",
    "    endind = startind + newsize\n",
    "    myslice = [slice(startind[k], endind[k]) for k in range(len(endind))]\n",
    "    return arr[tuple(myslice)]\n",
    "\n",
    "scipy.signal.signaltools._centered = _centered"
   ]
  },
  {
   "cell_type": "code",
   "execution_count": 3,
   "id": "d46440d8-da2d-49a3-a36e-b286a67ff122",
   "metadata": {
    "tags": []
   },
   "outputs": [
    {
     "name": "stderr",
     "output_type": "stream",
     "text": [
      "/home/leo/miniconda3/lib/python3.8/site-packages/statsmodels/tsa/base/tsa_model.py:7: FutureWarning: pandas.Int64Index is deprecated and will be removed from pandas in a future version. Use pandas.Index with the appropriate dtype instead.\n",
      "  from pandas import (to_datetime, Int64Index, DatetimeIndex, Period,\n",
      "/home/leo/miniconda3/lib/python3.8/site-packages/statsmodels/tsa/base/tsa_model.py:7: FutureWarning: pandas.Float64Index is deprecated and will be removed from pandas in a future version. Use pandas.Index with the appropriate dtype instead.\n",
      "  from pandas import (to_datetime, Int64Index, DatetimeIndex, Period,\n"
     ]
    }
   ],
   "source": [
    "from statsmodels.stats import diagnostic\n",
    "import statsmodels.formula.api as smf\n",
    "import statsmodels.api as sm"
   ]
  },
  {
   "cell_type": "code",
   "execution_count": 4,
   "id": "34e6322e-28eb-476b-8c59-761e6b6dbc54",
   "metadata": {
    "tags": []
   },
   "outputs": [],
   "source": [
    "df = pd.read_csv('./data/movie_features.csv')"
   ]
  },
  {
   "cell_type": "code",
   "execution_count": 5,
   "id": "d2e67149-f207-4733-9173-06677ddc9bed",
   "metadata": {
    "tags": []
   },
   "outputs": [
    {
     "data": {
      "text/html": [
       "<div>\n",
       "<style scoped>\n",
       "    .dataframe tbody tr th:only-of-type {\n",
       "        vertical-align: middle;\n",
       "    }\n",
       "\n",
       "    .dataframe tbody tr th {\n",
       "        vertical-align: top;\n",
       "    }\n",
       "\n",
       "    .dataframe thead th {\n",
       "        text-align: right;\n",
       "    }\n",
       "</style>\n",
       "<table border=\"1\" class=\"dataframe\">\n",
       "  <thead>\n",
       "    <tr style=\"text-align: right;\">\n",
       "      <th></th>\n",
       "      <th>movie_id</th>\n",
       "      <th>title</th>\n",
       "      <th>budget</th>\n",
       "      <th>revenue</th>\n",
       "      <th>release_date</th>\n",
       "      <th>runtime</th>\n",
       "      <th>original_language</th>\n",
       "      <th>genres</th>\n",
       "      <th>number_characters</th>\n",
       "      <th>below18</th>\n",
       "      <th>above60</th>\n",
       "      <th>male_ratio</th>\n",
       "      <th>average_actor_exp</th>\n",
       "      <th>multiplier</th>\n",
       "      <th>year</th>\n",
       "      <th>year_group</th>\n",
       "      <th>category</th>\n",
       "    </tr>\n",
       "  </thead>\n",
       "  <tbody>\n",
       "    <tr>\n",
       "      <th>0</th>\n",
       "      <td>951491.0</td>\n",
       "      <td>Saw X</td>\n",
       "      <td>13000000.0</td>\n",
       "      <td>100900000.0</td>\n",
       "      <td>2023-09-26</td>\n",
       "      <td>118.0</td>\n",
       "      <td>en</td>\n",
       "      <td>['Horror', 'Thriller']</td>\n",
       "      <td>7.0</td>\n",
       "      <td>0.000</td>\n",
       "      <td>0.142857</td>\n",
       "      <td>0.571429</td>\n",
       "      <td>5.857143</td>\n",
       "      <td>7.761538</td>\n",
       "      <td>2023</td>\n",
       "      <td>2020</td>\n",
       "      <td>low</td>\n",
       "    </tr>\n",
       "    <tr>\n",
       "      <th>1</th>\n",
       "      <td>678512.0</td>\n",
       "      <td>Sound of Freedom</td>\n",
       "      <td>14500000.0</td>\n",
       "      <td>247800000.0</td>\n",
       "      <td>2023-07-03</td>\n",
       "      <td>131.0</td>\n",
       "      <td>en</td>\n",
       "      <td>['Action', 'Drama']</td>\n",
       "      <td>7.0</td>\n",
       "      <td>0.000</td>\n",
       "      <td>0.142857</td>\n",
       "      <td>0.857143</td>\n",
       "      <td>7.285714</td>\n",
       "      <td>17.089655</td>\n",
       "      <td>2023</td>\n",
       "      <td>2020</td>\n",
       "      <td>low</td>\n",
       "    </tr>\n",
       "    <tr>\n",
       "      <th>2</th>\n",
       "      <td>820525.0</td>\n",
       "      <td>After Everything</td>\n",
       "      <td>14000000.0</td>\n",
       "      <td>9700000.0</td>\n",
       "      <td>2023-09-13</td>\n",
       "      <td>93.0</td>\n",
       "      <td>en</td>\n",
       "      <td>['Romance', 'Drama']</td>\n",
       "      <td>10.0</td>\n",
       "      <td>0.000</td>\n",
       "      <td>0.000000</td>\n",
       "      <td>0.500000</td>\n",
       "      <td>3.200000</td>\n",
       "      <td>0.692857</td>\n",
       "      <td>2023</td>\n",
       "      <td>2020</td>\n",
       "      <td>low</td>\n",
       "    </tr>\n",
       "    <tr>\n",
       "      <th>3</th>\n",
       "      <td>1008042.0</td>\n",
       "      <td>Talk to Me</td>\n",
       "      <td>4500000.0</td>\n",
       "      <td>90600000.0</td>\n",
       "      <td>2023-07-26</td>\n",
       "      <td>95.0</td>\n",
       "      <td>en</td>\n",
       "      <td>['Horror', 'Thriller']</td>\n",
       "      <td>8.0</td>\n",
       "      <td>0.125</td>\n",
       "      <td>0.125000</td>\n",
       "      <td>0.500000</td>\n",
       "      <td>1.250000</td>\n",
       "      <td>20.133333</td>\n",
       "      <td>2023</td>\n",
       "      <td>2020</td>\n",
       "      <td>low</td>\n",
       "    </tr>\n",
       "    <tr>\n",
       "      <th>4</th>\n",
       "      <td>1058694.0</td>\n",
       "      <td>Radical</td>\n",
       "      <td>10000000.0</td>\n",
       "      <td>16100000.0</td>\n",
       "      <td>2023-10-19</td>\n",
       "      <td>127.0</td>\n",
       "      <td>en</td>\n",
       "      <td>['Drama']</td>\n",
       "      <td>1.0</td>\n",
       "      <td>0.000</td>\n",
       "      <td>1.000000</td>\n",
       "      <td>1.000000</td>\n",
       "      <td>9.000000</td>\n",
       "      <td>1.610000</td>\n",
       "      <td>2023</td>\n",
       "      <td>2020</td>\n",
       "      <td>low</td>\n",
       "    </tr>\n",
       "  </tbody>\n",
       "</table>\n",
       "</div>"
      ],
      "text/plain": [
       "    movie_id             title      budget      revenue release_date  runtime  \\\n",
       "0   951491.0             Saw X  13000000.0  100900000.0   2023-09-26    118.0   \n",
       "1   678512.0  Sound of Freedom  14500000.0  247800000.0   2023-07-03    131.0   \n",
       "2   820525.0  After Everything  14000000.0    9700000.0   2023-09-13     93.0   \n",
       "3  1008042.0        Talk to Me   4500000.0   90600000.0   2023-07-26     95.0   \n",
       "4  1058694.0           Radical  10000000.0   16100000.0   2023-10-19    127.0   \n",
       "\n",
       "  original_language                  genres  number_characters  below18  \\\n",
       "0                en  ['Horror', 'Thriller']                7.0    0.000   \n",
       "1                en     ['Action', 'Drama']                7.0    0.000   \n",
       "2                en    ['Romance', 'Drama']               10.0    0.000   \n",
       "3                en  ['Horror', 'Thriller']                8.0    0.125   \n",
       "4                en               ['Drama']                1.0    0.000   \n",
       "\n",
       "    above60  male_ratio  average_actor_exp  multiplier  year  year_group  \\\n",
       "0  0.142857    0.571429           5.857143    7.761538  2023        2020   \n",
       "1  0.142857    0.857143           7.285714   17.089655  2023        2020   \n",
       "2  0.000000    0.500000           3.200000    0.692857  2023        2020   \n",
       "3  0.125000    0.500000           1.250000   20.133333  2023        2020   \n",
       "4  1.000000    1.000000           9.000000    1.610000  2023        2020   \n",
       "\n",
       "  category  \n",
       "0      low  \n",
       "1      low  \n",
       "2      low  \n",
       "3      low  \n",
       "4      low  "
      ]
     },
     "execution_count": 5,
     "metadata": {},
     "output_type": "execute_result"
    }
   ],
   "source": [
    "df.head()"
   ]
  },
  {
   "cell_type": "code",
   "execution_count": 6,
   "id": "9534659f-3932-40ec-b687-6801fae8cc4b",
   "metadata": {
    "tags": []
   },
   "outputs": [],
   "source": [
    "df['normalized_runtime'] = (df['runtime'] - df['runtime'].mean())/df['runtime'].std()"
   ]
  },
  {
   "cell_type": "code",
   "execution_count": 7,
   "id": "1e72e87c-fe35-4831-8d12-d202245e8857",
   "metadata": {},
   "outputs": [],
   "source": [
    "mod_1 = smf.ols(formula='multiplier ~ normalized_runtime', data=df)"
   ]
  },
  {
   "cell_type": "code",
   "execution_count": 8,
   "id": "d51fbe31-3cd7-4015-86e7-5bfc892fb139",
   "metadata": {
    "tags": []
   },
   "outputs": [
    {
     "name": "stdout",
     "output_type": "stream",
     "text": [
      "                            OLS Regression Results                            \n",
      "==============================================================================\n",
      "Dep. Variable:             multiplier   R-squared:                       0.003\n",
      "Model:                            OLS   Adj. R-squared:                  0.002\n",
      "Method:                 Least Squares   F-statistic:                     4.489\n",
      "Date:                Fri, 08 Dec 2023   Prob (F-statistic):             0.0343\n",
      "Time:                        15:24:55   Log-Likelihood:                -7046.8\n",
      "No. Observations:                1701   AIC:                         1.410e+04\n",
      "Df Residuals:                    1699   BIC:                         1.411e+04\n",
      "Df Model:                           1                                         \n",
      "Covariance Type:            nonrobust                                         \n",
      "======================================================================================\n",
      "                         coef    std err          t      P>|t|      [0.025      0.975]\n",
      "--------------------------------------------------------------------------------------\n",
      "Intercept              5.2151      0.370     14.107      0.000       4.490       5.940\n",
      "normalized_runtime    -0.7835      0.370     -2.119      0.034      -1.509      -0.058\n",
      "==============================================================================\n",
      "Omnibus:                     4151.354   Durbin-Watson:                   1.930\n",
      "Prob(Omnibus):                  0.000   Jarque-Bera (JB):         45962694.468\n",
      "Skew:                          24.501   Prob(JB):                         0.00\n",
      "Kurtosis:                     806.805   Cond. No.                         1.00\n",
      "==============================================================================\n",
      "\n",
      "Notes:\n",
      "[1] Standard Errors assume that the covariance matrix of the errors is correctly specified.\n"
     ]
    }
   ],
   "source": [
    "np.random.seed(2)\n",
    "res = mod_1.fit()\n",
    "print(res.summary())"
   ]
  },
  {
   "cell_type": "code",
   "execution_count": 9,
   "id": "565f47f3-351a-4cc1-9aab-d835cd8436f2",
   "metadata": {
    "tags": []
   },
   "outputs": [
    {
     "name": "stdout",
     "output_type": "stream",
     "text": [
      "movie_id\n",
      "title\n",
      "budget\n",
      "revenue\n",
      "release_date\n",
      "runtime\n",
      "original_language\n",
      "genres\n",
      "number_characters\n",
      "below18\n",
      "above60\n",
      "male_ratio\n",
      "average_actor_exp\n",
      "multiplier\n",
      "year\n",
      "year_group\n",
      "category\n",
      "normalized_runtime\n",
      "onehot_cn\n",
      "onehot_cs\n",
      "onehot_da\n",
      "onehot_de\n",
      "onehot_en\n",
      "onehot_es\n",
      "onehot_fi\n",
      "onehot_fr\n",
      "onehot_hi\n",
      "onehot_id\n",
      "onehot_it\n",
      "onehot_ja\n",
      "onehot_kn\n",
      "onehot_ko\n",
      "onehot_la\n",
      "onehot_no\n",
      "onehot_pt\n",
      "onehot_ru\n",
      "onehot_sv\n",
      "onehot_te\n",
      "onehot_th\n",
      "onehot_tr\n",
      "onehot_zh\n"
     ]
    }
   ],
   "source": [
    "# Performing one-hot encoding for the 'track' column\n",
    "original_language_onehot = pd.get_dummies(df['original_language'], prefix='onehot', prefix_sep='_')\n",
    "\n",
    "# Concatenate the new one-hot encoded columns to the original dataframe\n",
    "df = pd.concat([df, original_language_onehot], axis=1)\n",
    "\n",
    "for col in df.columns:\n",
    "    print(col)"
   ]
  },
  {
   "cell_type": "code",
   "execution_count": 27,
   "id": "94884ec8-a27b-4ce2-bdb2-84ea068a0eaf",
   "metadata": {
    "tags": []
   },
   "outputs": [
    {
     "name": "stdout",
     "output_type": "stream",
     "text": [
      "original_language\n",
      "cn      10\n",
      "cs       1\n",
      "da       5\n",
      "de       4\n",
      "en    1509\n",
      "es      21\n",
      "fi       1\n",
      "fr      34\n",
      "hi      24\n",
      "id       2\n",
      "it       5\n",
      "ja      22\n",
      "kn       1\n",
      "ko      20\n",
      "la       1\n",
      "no       4\n",
      "pt       1\n",
      "ru      11\n",
      "sv       3\n",
      "te       2\n",
      "th       2\n",
      "tr       1\n",
      "zh      17\n",
      "dtype: int64\n"
     ]
    }
   ],
   "source": [
    "# Select all the onehot feature names previously created\n",
    "# selected_cols = [col for col in df.columns if 'onehot' in col]\n",
    "\n",
    "grouped_by_language_df = df.groupby(['original_language']).size()\n",
    "print(grouped_by_language_df)"
   ]
  },
  {
   "cell_type": "code",
   "execution_count": 31,
   "id": "5388f9d9-e0b0-4ca3-b2bc-c3a30c287ac4",
   "metadata": {
    "tags": []
   },
   "outputs": [],
   "source": [
    "# Selecting only languages above a certain threshold\n",
    "mod_2 = sm.OLS(df['multiplier'], df[['onehot_cn', 'onehot_en', 'onehot_es', 'onehot_fr', 'onehot_hi', 'onehot_ja', 'onehot_ko', 'onehot_ru', 'onehot_zh']])"
   ]
  },
  {
   "cell_type": "code",
   "execution_count": 32,
   "id": "88d96c42-bab6-4d31-90c5-a94189ba5057",
   "metadata": {
    "tags": []
   },
   "outputs": [
    {
     "name": "stdout",
     "output_type": "stream",
     "text": [
      "                                 OLS Regression Results                                \n",
      "=======================================================================================\n",
      "Dep. Variable:             multiplier   R-squared (uncentered):                   0.138\n",
      "Model:                            OLS   Adj. R-squared (uncentered):              0.134\n",
      "Method:                 Least Squares   F-statistic:                              30.19\n",
      "Date:                Fri, 08 Dec 2023   Prob (F-statistic):                    2.92e-49\n",
      "Time:                        15:57:32   Log-Likelihood:                         -7016.3\n",
      "No. Observations:                1701   AIC:                                  1.405e+04\n",
      "Df Residuals:                    1692   BIC:                                  1.410e+04\n",
      "Df Model:                           9                                                  \n",
      "Covariance Type:            nonrobust                                                  \n",
      "==============================================================================\n",
      "                 coef    std err          t      P>|t|      [0.025      0.975]\n",
      "------------------------------------------------------------------------------\n",
      "onehot_cn     18.7460      4.746      3.950      0.000       9.438      28.054\n",
      "onehot_en      4.7715      0.386     12.351      0.000       4.014       5.529\n",
      "onehot_es      5.6010      3.275      1.710      0.087      -0.822      12.024\n",
      "onehot_fr      2.9643      2.574      1.152      0.250      -2.084       8.012\n",
      "onehot_hi      5.4123      3.063      1.767      0.077      -0.596      11.421\n",
      "onehot_ja     29.2280      3.200      9.135      0.000      22.952      35.504\n",
      "onehot_ko     10.1395      3.356      3.022      0.003       3.558      16.721\n",
      "onehot_ru      3.0392      4.525      0.672      0.502      -5.836      11.914\n",
      "onehot_zh      6.5160      3.640      1.790      0.074      -0.623      13.655\n",
      "==============================================================================\n",
      "Omnibus:                     4013.420   Durbin-Watson:                   1.953\n",
      "Prob(Omnibus):                  0.000   Jarque-Bera (JB):         36711953.742\n",
      "Skew:                          22.567   Prob(JB):                         0.00\n",
      "Kurtosis:                     721.293   Cond. No.                         12.3\n",
      "==============================================================================\n",
      "\n",
      "Notes:\n",
      "[1] R² is computed without centering (uncentered) since the model does not contain a constant.\n",
      "[2] Standard Errors assume that the covariance matrix of the errors is correctly specified.\n"
     ]
    }
   ],
   "source": [
    "np.random.seed(2)\n",
    "res = mod_2.fit()\n",
    "print(res.summary())"
   ]
  },
  {
   "cell_type": "code",
   "execution_count": 33,
   "id": "b9433124-6609-4652-84fd-525f728bc097",
   "metadata": {
    "tags": []
   },
   "outputs": [],
   "source": [
    "# Trying to improve it by removing non-statistically significant ones\n",
    "mod_3 = sm.OLS(df['multiplier'], df[['onehot_cn', 'onehot_en', 'onehot_ja', 'onehot_ko']])"
   ]
  },
  {
   "cell_type": "code",
   "execution_count": 34,
   "id": "a10f31f2-d27a-4694-8aed-e0c696dc4ab2",
   "metadata": {
    "tags": []
   },
   "outputs": [
    {
     "name": "stdout",
     "output_type": "stream",
     "text": [
      "                                 OLS Regression Results                                \n",
      "=======================================================================================\n",
      "Dep. Variable:             multiplier   R-squared (uncentered):                   0.133\n",
      "Model:                            OLS   Adj. R-squared (uncentered):              0.131\n",
      "Method:                 Least Squares   F-statistic:                              64.95\n",
      "Date:                Fri, 08 Dec 2023   Prob (F-statistic):                    3.66e-51\n",
      "Time:                        15:58:47   Log-Likelihood:                         -7021.9\n",
      "No. Observations:                1701   AIC:                                  1.405e+04\n",
      "Df Residuals:                    1697   BIC:                                  1.407e+04\n",
      "Df Model:                           4                                                  \n",
      "Covariance Type:            nonrobust                                                  \n",
      "==============================================================================\n",
      "                 coef    std err          t      P>|t|      [0.025      0.975]\n",
      "------------------------------------------------------------------------------\n",
      "onehot_cn     18.7460      4.754      3.943      0.000       9.421      28.071\n",
      "onehot_en      4.7715      0.387     12.329      0.000       4.012       5.531\n",
      "onehot_ja     29.2280      3.205      9.119      0.000      22.941      35.515\n",
      "onehot_ko     10.1395      3.362      3.016      0.003       3.546      16.733\n",
      "==============================================================================\n",
      "Omnibus:                     3995.246   Durbin-Watson:                   1.944\n",
      "Prob(Omnibus):                  0.000   Jarque-Bera (JB):         35679719.058\n",
      "Skew:                          22.321   Prob(JB):                         0.00\n",
      "Kurtosis:                     711.113   Cond. No.                         12.3\n",
      "==============================================================================\n",
      "\n",
      "Notes:\n",
      "[1] R² is computed without centering (uncentered) since the model does not contain a constant.\n",
      "[2] Standard Errors assume that the covariance matrix of the errors is correctly specified.\n"
     ]
    }
   ],
   "source": [
    "np.random.seed(2)\n",
    "res = mod_3.fit()\n",
    "print(res.summary())"
   ]
  },
  {
   "cell_type": "code",
   "execution_count": 35,
   "id": "c0a46350-e5d2-431e-a904-9a5c83ae1c09",
   "metadata": {
    "tags": []
   },
   "outputs": [
    {
     "name": "stdout",
     "output_type": "stream",
     "text": [
      "                                 OLS Regression Results                                \n",
      "=======================================================================================\n",
      "Dep. Variable:             multiplier   R-squared (uncentered):                   0.134\n",
      "Model:                            OLS   Adj. R-squared (uncentered):              0.131\n",
      "Method:                 Least Squares   F-statistic:                              52.36\n",
      "Date:                Fri, 08 Dec 2023   Prob (F-statistic):                    1.25e-50\n",
      "Time:                        16:00:16   Log-Likelihood:                         -7020.9\n",
      "No. Observations:                1701   AIC:                                  1.405e+04\n",
      "Df Residuals:                    1696   BIC:                                  1.408e+04\n",
      "Df Model:                           5                                                  \n",
      "Covariance Type:            nonrobust                                                  \n",
      "======================================================================================\n",
      "                         coef    std err          t      P>|t|      [0.025      0.975]\n",
      "--------------------------------------------------------------------------------------\n",
      "normalized_runtime    -0.5003      0.366     -1.367      0.172      -1.218       0.217\n",
      "onehot_cn             18.5829      4.754      3.909      0.000       9.258      27.908\n",
      "onehot_en              4.7442      0.387     12.245      0.000       3.984       5.504\n",
      "onehot_ja             29.1178      3.205      9.084      0.000      22.831      35.405\n",
      "onehot_ko             10.4072      3.367      3.091      0.002       3.804      17.010\n",
      "==============================================================================\n",
      "Omnibus:                     3994.609   Durbin-Watson:                   1.948\n",
      "Prob(Omnibus):                  0.000   Jarque-Bera (JB):         35684338.351\n",
      "Skew:                          22.312   Prob(JB):                         0.00\n",
      "Kurtosis:                     711.161   Cond. No.                         13.2\n",
      "==============================================================================\n",
      "\n",
      "Notes:\n",
      "[1] R² is computed without centering (uncentered) since the model does not contain a constant.\n",
      "[2] Standard Errors assume that the covariance matrix of the errors is correctly specified.\n"
     ]
    }
   ],
   "source": [
    "# Trying to combine with normalized runtime\n",
    "mod_4 = sm.OLS(df['multiplier'], df[['normalized_runtime', 'onehot_cn', 'onehot_en', 'onehot_ja', 'onehot_ko']])\n",
    "np.random.seed(2)\n",
    "res = mod_4.fit()\n",
    "print(res.summary())"
   ]
  },
  {
   "cell_type": "code",
   "execution_count": 38,
   "id": "0d9c8da3-9f6f-4919-8828-8c2b611b940f",
   "metadata": {
    "tags": []
   },
   "outputs": [
    {
     "name": "stdout",
     "output_type": "stream",
     "text": [
      "                                 OLS Regression Results                                \n",
      "=======================================================================================\n",
      "Dep. Variable:             multiplier   R-squared (uncentered):                   0.135\n",
      "Model:                            OLS   Adj. R-squared (uncentered):              0.133\n",
      "Method:                 Least Squares   F-statistic:                              53.04\n",
      "Date:                Fri, 08 Dec 2023   Prob (F-statistic):                    2.90e-51\n",
      "Time:                        16:02:43   Log-Likelihood:                         -7019.4\n",
      "No. Observations:                1701   AIC:                                  1.405e+04\n",
      "Df Residuals:                    1696   BIC:                                  1.408e+04\n",
      "Df Model:                           5                                                  \n",
      "Covariance Type:            nonrobust                                                  \n",
      "=====================================================================================\n",
      "                        coef    std err          t      P>|t|      [0.025      0.975]\n",
      "-------------------------------------------------------------------------------------\n",
      "number_characters    -0.1375      0.063     -2.199      0.028      -0.260      -0.015\n",
      "onehot_cn            19.3372      4.756      4.065      0.000      10.008      28.666\n",
      "onehot_en             6.1858      0.750      8.243      0.000       4.714       7.658\n",
      "onehot_ja            29.6842      3.208      9.252      0.000      23.391      35.977\n",
      "onehot_ko            10.8476      3.373      3.216      0.001       4.231      17.464\n",
      "==============================================================================\n",
      "Omnibus:                     3996.750   Durbin-Watson:                   1.951\n",
      "Prob(Omnibus):                  0.000   Jarque-Bera (JB):         35881524.752\n",
      "Skew:                          22.339   Prob(JB):                         0.00\n",
      "Kurtosis:                     713.119   Cond. No.                         148.\n",
      "==============================================================================\n",
      "\n",
      "Notes:\n",
      "[1] R² is computed without centering (uncentered) since the model does not contain a constant.\n",
      "[2] Standard Errors assume that the covariance matrix of the errors is correctly specified.\n"
     ]
    }
   ],
   "source": [
    "# Non sense to add runtime, trying number of characters\n",
    "mod_5 = sm.OLS(df['multiplier'], df[['number_characters', 'onehot_cn', 'onehot_en', 'onehot_ja', 'onehot_ko']])\n",
    "np.random.seed(2)\n",
    "res = mod_5.fit()\n",
    "print(res.summary())"
   ]
  },
  {
   "cell_type": "code",
   "execution_count": 40,
   "id": "1d7df31a-e721-48f6-be70-767fb6917d04",
   "metadata": {
    "tags": []
   },
   "outputs": [
    {
     "name": "stdout",
     "output_type": "stream",
     "text": [
      "                                 OLS Regression Results                                \n",
      "=======================================================================================\n",
      "Dep. Variable:             multiplier   R-squared (uncentered):                   0.139\n",
      "Model:                            OLS   Adj. R-squared (uncentered):              0.134\n",
      "Method:                 Least Squares   F-statistic:                              30.35\n",
      "Date:                Fri, 08 Dec 2023   Prob (F-statistic):                    1.61e-49\n",
      "Time:                        16:08:00   Log-Likelihood:                         -7015.7\n",
      "No. Observations:                1701   AIC:                                  1.405e+04\n",
      "Df Residuals:                    1692   BIC:                                  1.410e+04\n",
      "Df Model:                           9                                                  \n",
      "Covariance Type:            nonrobust                                                  \n",
      "=====================================================================================\n",
      "                        coef    std err          t      P>|t|      [0.025      0.975]\n",
      "-------------------------------------------------------------------------------------\n",
      "below18               0.5154      3.706      0.139      0.889      -6.754       7.785\n",
      "above60               0.1940      2.865      0.068      0.946      -5.425       5.814\n",
      "male_ratio           -0.7400      1.402     -0.528      0.598      -3.490       2.010\n",
      "average_actor_exp    -0.2972      0.123     -2.417      0.016      -0.538      -0.056\n",
      "number_characters    -0.0847      0.066     -1.291      0.197      -0.213       0.044\n",
      "onehot_cn            20.0700      4.859      4.130      0.000      10.539      29.601\n",
      "onehot_en             7.6332      1.170      6.526      0.000       5.339       9.927\n",
      "onehot_ja            30.0716      3.282      9.163      0.000      23.635      36.508\n",
      "onehot_ko            11.2176      3.493      3.211      0.001       4.366      18.069\n",
      "==============================================================================\n",
      "Omnibus:                     4000.880   Durbin-Watson:                   1.943\n",
      "Prob(Omnibus):                  0.000   Jarque-Bera (JB):         36237551.325\n",
      "Skew:                          22.393   Prob(JB):                         0.00\n",
      "Kurtosis:                     716.640   Cond. No.                         167.\n",
      "==============================================================================\n",
      "\n",
      "Notes:\n",
      "[1] R² is computed without centering (uncentered) since the model does not contain a constant.\n",
      "[2] Standard Errors assume that the covariance matrix of the errors is correctly specified.\n"
     ]
    }
   ],
   "source": [
    "# Non sense to add runtime, trying to add other features\n",
    "mod_6 = sm.OLS(df['multiplier'], df[['below18', 'above60', 'male_ratio', 'average_actor_exp', 'number_characters', 'onehot_cn', 'onehot_en', 'onehot_ja', 'onehot_ko']])\n",
    "np.random.seed(2)\n",
    "res = mod_6.fit()\n",
    "print(res.summary())"
   ]
  },
  {
   "cell_type": "code",
   "execution_count": 42,
   "id": "9476963c-6918-4483-a03e-27b597144894",
   "metadata": {
    "tags": []
   },
   "outputs": [
    {
     "name": "stdout",
     "output_type": "stream",
     "text": [
      "                                 OLS Regression Results                                \n",
      "=======================================================================================\n",
      "Dep. Variable:             multiplier   R-squared (uncentered):                   0.138\n",
      "Model:                            OLS   Adj. R-squared (uncentered):              0.135\n",
      "Method:                 Least Squares   F-statistic:                              54.25\n",
      "Date:                Fri, 08 Dec 2023   Prob (F-statistic):                    2.20e-52\n",
      "Time:                        16:08:50   Log-Likelihood:                         -7016.8\n",
      "No. Observations:                1701   AIC:                                  1.404e+04\n",
      "Df Residuals:                    1696   BIC:                                  1.407e+04\n",
      "Df Model:                           5                                                  \n",
      "Covariance Type:            nonrobust                                                  \n",
      "=====================================================================================\n",
      "                        coef    std err          t      P>|t|      [0.025      0.975]\n",
      "-------------------------------------------------------------------------------------\n",
      "average_actor_exp    -0.3460      0.109     -3.173      0.002      -0.560      -0.132\n",
      "onehot_cn            19.2097      4.744      4.049      0.000       9.905      28.514\n",
      "onehot_en             6.5703      0.686      9.581      0.000       5.225       7.915\n",
      "onehot_ja            29.4437      3.197      9.208      0.000      23.172      35.715\n",
      "onehot_ko            10.3130      3.353      3.076      0.002       3.736      16.890\n",
      "==============================================================================\n",
      "Omnibus:                     4003.982   Durbin-Watson:                   1.938\n",
      "Prob(Omnibus):                  0.000   Jarque-Bera (JB):         36374549.085\n",
      "Skew:                          22.436   Prob(JB):                         0.00\n",
      "Kurtosis:                     717.988   Cond. No.                         78.0\n",
      "==============================================================================\n",
      "\n",
      "Notes:\n",
      "[1] R² is computed without centering (uncentered) since the model does not contain a constant.\n",
      "[2] Standard Errors assume that the covariance matrix of the errors is correctly specified.\n"
     ]
    }
   ],
   "source": [
    "# Non sense to add runtime, trying to add other features\n",
    "mod_7 = sm.OLS(df['multiplier'], df[['average_actor_exp', 'onehot_cn', 'onehot_en', 'onehot_ja', 'onehot_ko']])\n",
    "np.random.seed(2)\n",
    "res = mod_7.fit()\n",
    "print(res.summary())"
   ]
  },
  {
   "cell_type": "code",
   "execution_count": 43,
   "id": "d0704268-f86e-4577-91bb-9c59aa495fe2",
   "metadata": {
    "tags": []
   },
   "outputs": [
    {
     "name": "stdout",
     "output_type": "stream",
     "text": [
      "       movie_id             title      budget      revenue release_date  \\\n",
      "0      951491.0             Saw X  13000000.0  100900000.0   2023-09-26   \n",
      "1      678512.0  Sound of Freedom  14500000.0  247800000.0   2023-07-03   \n",
      "2      820525.0  After Everything  14000000.0    9700000.0   2023-09-13   \n",
      "3     1008042.0        Talk to Me   4500000.0   90600000.0   2023-07-26   \n",
      "4     1058694.0           Radical  10000000.0   16100000.0   2023-10-19   \n",
      "...         ...               ...         ...          ...          ...   \n",
      "1696    11644.0          Blow Out  18000000.0   12000000.0   1981-07-24   \n",
      "1697      849.0             Krull  27000000.0   16519460.0   1983-07-29   \n",
      "1698      848.0      Dragonslayer  18000000.0   14110013.0   1981-06-26   \n",
      "1699    10724.0           Firefox  18000000.0   70687344.0   1982-06-18   \n",
      "1700    11393.0       The Natural  28000000.0   47951979.0   1984-05-11   \n",
      "\n",
      "      runtime original_language  \\\n",
      "0       118.0                en   \n",
      "1       131.0                en   \n",
      "2        93.0                en   \n",
      "3        95.0                en   \n",
      "4       127.0                en   \n",
      "...       ...               ...   \n",
      "1696    108.0                en   \n",
      "1697    117.0                en   \n",
      "1698    108.0                en   \n",
      "1699    136.0                en   \n",
      "1700    137.0                en   \n",
      "\n",
      "                                                 genres  number_characters  \\\n",
      "0                                ['Horror', 'Thriller']                7.0   \n",
      "1                                   ['Action', 'Drama']                7.0   \n",
      "2                                  ['Romance', 'Drama']               10.0   \n",
      "3                                ['Horror', 'Thriller']                8.0   \n",
      "4                                             ['Drama']                1.0   \n",
      "...                                                 ...                ...   \n",
      "1696                   ['Thriller', 'Mystery', 'Crime']                4.0   \n",
      "1697  ['Action', 'Adventure', 'Fantasy', 'Science Fi...                7.0   \n",
      "1698                           ['Fantasy', 'Adventure']                2.0   \n",
      "1699  ['Science Fiction', 'Action', 'Adventure', 'Th...                6.0   \n",
      "1700                                          ['Drama']               11.0   \n",
      "\n",
      "      below18  ...  ['Horror']  ['Music'  ['Mystery'  ['Romance'  \\\n",
      "0       0.000  ...           0         0           0           0   \n",
      "1       0.000  ...           0         0           0           0   \n",
      "2       0.000  ...           0         0           0           1   \n",
      "3       0.125  ...           0         0           0           0   \n",
      "4       0.000  ...           0         0           0           0   \n",
      "...       ...  ...         ...       ...         ...         ...   \n",
      "1696    0.000  ...           0         0           0           0   \n",
      "1697    0.000  ...           0         0           0           0   \n",
      "1698    0.000  ...           0         0           0           0   \n",
      "1699    0.000  ...           0         0           0           0   \n",
      "1700    0.000  ...           0         0           0           0   \n",
      "\n",
      "      ['Science Fiction'  ['Science Fiction'] ['Thriller'  ['Thriller']  \\\n",
      "0                      0                    0           0             0   \n",
      "1                      0                    0           0             0   \n",
      "2                      0                    0           0             0   \n",
      "3                      0                    0           0             0   \n",
      "4                      0                    0           0             0   \n",
      "...                  ...                  ...         ...           ...   \n",
      "1696                   0                    0           1             0   \n",
      "1697                   0                    0           0             0   \n",
      "1698                   0                    0           0             0   \n",
      "1699                   1                    0           0             0   \n",
      "1700                   0                    0           0             0   \n",
      "\n",
      "      ['War'  ['Western'  \n",
      "0          0           0  \n",
      "1          0           0  \n",
      "2          0           0  \n",
      "3          0           0  \n",
      "4          0           0  \n",
      "...      ...         ...  \n",
      "1696       0           0  \n",
      "1697       0           0  \n",
      "1698       0           0  \n",
      "1699       0           0  \n",
      "1700       0           0  \n",
      "\n",
      "[1701 rows x 103 columns]\n"
     ]
    }
   ],
   "source": [
    "# Convert lists of genres to strings (if not already)\n",
    "df['genres_as_string'] = df['genres'].astype(str)\n",
    "\n",
    "# Use get_dummies to create dummy variables for each genre\n",
    "dummy_genres = df['genres_as_string'].str.get_dummies(sep=', ')\n",
    "\n",
    "# Concatenate the dummy variables with the original DataFrame\n",
    "df = pd.concat([df, dummy_genres], axis=1)\n",
    "\n",
    "# Display the modified DataFrame\n",
    "print(df)"
   ]
  },
  {
   "cell_type": "code",
   "execution_count": null,
   "id": "06f7affa-7417-4af7-a021-febedb9fb8fc",
   "metadata": {},
   "outputs": [],
   "source": [
    "# Non sense to add runtime, trying to add other features\n",
    "mod_7 = sm.OLS(df['multiplier'], df[['Science Fiction', 'average_actor_exp', 'onehot_cn', 'onehot_en', 'onehot_ja', 'onehot_ko']])\n",
    "np.random.seed(2)\n",
    "res = mod_7.fit()\n",
    "print(res.summary())"
   ]
  }
 ],
 "metadata": {
  "kernelspec": {
   "display_name": "Python 3 (ipykernel)",
   "language": "python",
   "name": "python3"
  },
  "language_info": {
   "codemirror_mode": {
    "name": "ipython",
    "version": 3
   },
   "file_extension": ".py",
   "mimetype": "text/x-python",
   "name": "python",
   "nbconvert_exporter": "python",
   "pygments_lexer": "ipython3",
   "version": "3.8.5"
  }
 },
 "nbformat": 4,
 "nbformat_minor": 5
}
