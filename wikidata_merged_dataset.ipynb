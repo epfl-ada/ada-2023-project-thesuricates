{
 "cells": [
  {
   "cell_type": "markdown",
   "metadata": {},
   "source": [
    "### PURPOSE\n",
    "This notebook is used to merge the wikidata dataset with the original dataset"
   ]
  },
  {
   "cell_type": "code",
   "execution_count": 7,
   "metadata": {},
   "outputs": [],
   "source": [
    "import pandas as pd\n",
    "import numpy as np\n",
    "import json\n",
    "import requests\n",
    "import matplotlib.pyplot as plt\n",
    "import ast\n",
    "\n",
    "PATH = './data'"
   ]
  },
  {
   "cell_type": "markdown",
   "metadata": {},
   "source": [
    "### UTILS"
   ]
  },
  {
   "cell_type": "code",
   "execution_count": 5,
   "metadata": {},
   "outputs": [],
   "source": [
    "# Function to convert currency using exchange rate json file\n",
    "def convert_to_usd(amount, currency):\n",
    "\n",
    "    with open(f\"{PATH}/usd_conversion_rates.json\", 'r') as file:\n",
    "        conversion_rates = json.load(file)\n",
    "\n",
    "    rate = conversion_rates.get(currency, 1)  # Default to 1 if currency not found\n",
    "    return float(amount) / float(rate)\n",
    "\n",
    "\n",
    "def get_wikipedia_page_id(film_name):\n",
    "    # Replace spaces with underscores for the Wikipedia API format\n",
    "    film_name_formatted = film_name.replace(' ', '_')\n",
    "\n",
    "    url = f\"https://en.wikipedia.org/w/api.php\"\n",
    "\n",
    "    params = {\n",
    "        'action': 'query',\n",
    "        'format': 'json',\n",
    "        'titles': film_name_formatted\n",
    "    }\n",
    "\n",
    "    response = requests.get(url, params=params)\n",
    "\n",
    "    if response.status_code == 200:\n",
    "        try:\n",
    "            data = response.json()\n",
    "            page_id = next(iter(data['query']['pages']))\n",
    "            return page_id\n",
    "        except KeyError:\n",
    "            print(f\"No page found for {film_name}\")\n",
    "            return None\n",
    "    else:\n",
    "        print(\"Failed to fetch data from Wikipedia\")\n",
    "        return None\n"
   ]
  },
  {
   "cell_type": "markdown",
   "metadata": {},
   "source": [
    "### DATA PROCESSING AND CURRENCY CONVERSION"
   ]
  },
  {
   "cell_type": "code",
   "execution_count": null,
   "metadata": {},
   "outputs": [],
   "source": [
    "# Read the data into a DataFrame\n",
    "df = pd.read_csv(f\"{PATH}/film_wiki_data.csv\")\n",
    "\n",
    "# Group by 'filmLabel' and keep the row with the max 'boxOffice' for each group since some films have multiple rows with box office per country\n",
    "df = df.loc[df.groupby('filmLabel')['boxOffice'].idxmax()]\n",
    "df = df.reset_index(drop=True)\n",
    "\n",
    "\n",
    "def convert_row(row):\n",
    "    if row['currencyCode'] != 'USD':\n",
    "        row['cost'] = convert_to_usd(row['cost'], row['currencyCode'])\n",
    "        row['boxOffice'] = convert_to_usd(row['boxOffice'], row['currencyCode'],)\n",
    "        row['currencyCode'] = 'USD'\n",
    "\n",
    "        # Fetch and add the Wikipedia page ID\n",
    "    row['wikiPageID'] = get_wikipedia_page_id(row['filmLabel'])\n",
    "    row['costBoxOfficeMultiplier'] = row['boxOffice'] / row['cost']\n",
    "\n",
    "    return row\n",
    "\n",
    "# Apply the conversion to each row\n",
    "df = df.apply(convert_row, axis=1)\n",
    "\n",
    "# remove if page id is not defined\n",
    "df = df[df['wikiPageID'] != -1]\n",
    "# save csv without row index\n",
    "df.to_csv(f'{PATH}/film_wiki_data_formatted.csv', index=False)"
   ]
  },
  {
   "cell_type": "markdown",
   "metadata": {},
   "source": [
    "### MERGE DATASETS"
   ]
  },
  {
   "cell_type": "code",
   "execution_count": null,
   "metadata": {},
   "outputs": [],
   "source": [
    "# Load the first CSV file\n",
    "df1 = pd.read_csv(f'{PATH}/film_wiki_data_formatted.csv')\n",
    "\n",
    "# Load the second CSV file\n",
    "df2 = pd.read_csv(f\"{PATH}/movie.metadata.tsv\", names=[\n",
    "    \"wikiPageID\",\n",
    "    \"freebaseMovieID\",\n",
    "    \"movieName\",\n",
    "    \"movieReleaseDate\",\n",
    "    \"movieBoxOfficeRevenue\",\n",
    "    \"movieRuntime\",\n",
    "    \"movieLanguages\",\n",
    "    \"movieCountries\",\n",
    "    \"movieGenres\"\n",
    "], header=None, sep=\"\\t\")\n",
    "\n",
    "\n",
    "merged_df = pd.merge(df1, df2, on='wikiPageID', how='inner')\n",
    "\n",
    "merged_df.to_csv(f'{PATH}/merged_movie_data.csv', index=False)\n",
    "\n"
   ]
  }
 ],
 "metadata": {
  "kernelspec": {
   "display_name": "Python 3",
   "language": "python",
   "name": "python3"
  },
  "language_info": {
   "codemirror_mode": {
    "name": "ipython",
    "version": 3
   },
   "file_extension": ".py",
   "mimetype": "text/x-python",
   "name": "python",
   "nbconvert_exporter": "python",
   "pygments_lexer": "ipython3",
   "version": "3.9.18"
  }
 },
 "nbformat": 4,
 "nbformat_minor": 2
}
