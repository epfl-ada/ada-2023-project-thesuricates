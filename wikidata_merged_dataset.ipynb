{
 "cells": [
  {
   "cell_type": "markdown",
   "metadata": {},
   "source": [
    "### PURPOSE\n",
    "This notebook is used to merge the wikidata dataset with the original dataset"
   ]
  },
  {
   "cell_type": "code",
   "execution_count": 5,
   "metadata": {},
   "outputs": [],
   "source": [
    "import pandas as pd\n",
    "import numpy as np\n",
    "import json\n",
    "#import requests\n",
    "import matplotlib.pyplot as plt\n",
    "import ast"
   ]
  },
  {
   "cell_type": "code",
   "execution_count": 3,
   "metadata": {},
   "outputs": [
    {
     "name": "stdout",
     "output_type": "stream",
     "text": [
      "   Wikipedia movie ID Freebase movie ID  \\\n",
      "0              975900         /m/03vyhn   \n",
      "1             3196793         /m/08yl5d   \n",
      "2            28463795        /m/0crgdbh   \n",
      "3             9363483        /m/0285_cd   \n",
      "4              261236         /m/01mrr1   \n",
      "\n",
      "                                          Movie name Movie release date  \\\n",
      "0                                     Ghosts of Mars         2001-08-24   \n",
      "1  Getting Away with Murder: The JonBenét Ramsey ...         2000-02-16   \n",
      "2                                        Brun bitter               1988   \n",
      "3                                   White Of The Eye               1987   \n",
      "4                                  A Woman in Flames               1983   \n",
      "\n",
      "   Movie box office revenue  Movie runtime     Movie languages  \\\n",
      "0                14010832.0           98.0    English Language   \n",
      "1                       NaN           95.0    English Language   \n",
      "2                       NaN           83.0  Norwegian Language   \n",
      "3                       NaN          110.0    English Language   \n",
      "4                       NaN          106.0     German Language   \n",
      "\n",
      "            Movie countries                                       Movie genres  \n",
      "0  United States of America  [Thriller, Science Fiction, Horror, Adventure,...  \n",
      "1  United States of America   [Mystery, Biographical film, Drama, Crime Drama]  \n",
      "2                    Norway                             [Crime Fiction, Drama]  \n",
      "3            United Kingdom  [Thriller, Erotic thriller, Psychological thri...  \n",
      "4                   Germany                                            [Drama]  \n"
     ]
    }
   ],
   "source": [
    "\n",
    "\n",
    "# Load dataset\n",
    "PATH = './data'\n",
    "\n",
    "# Read the data\n",
    "df = pd.read_csv(f\"{PATH}/movie.metadata.tsv\", names=[\n",
    "    \"Wikipedia movie ID\",\n",
    "    \"Freebase movie ID\",\n",
    "    \"Movie name\",\n",
    "    \"Movie release date\",\n",
    "    \"Movie box office revenue\",\n",
    "    \"Movie runtime\",\n",
    "    \"Movie languages\",\n",
    "    \"Movie countries\",\n",
    "    \"Movie genres\"\n",
    "], header=None, sep=\"\\t\")\n",
    "\n",
    "# keep first 5 rows\n",
    "# df = df.iloc[:5]\n",
    "\n",
    "# Adjust the 'extract_values' function to handle both languages and countries\n",
    "def extract_values(d):\n",
    "    return ast.literal_eval(d).values()\n",
    "\n",
    "def extract_first(x):\n",
    "    if pd.isna(x):\n",
    "        return x  # Return NaN as is\n",
    "    values_list = list(x)\n",
    "    return values_list[0] if len(values_list) > 0 else []\n",
    "\n",
    "df['Movie countries'] = df['Movie countries'].apply(extract_values).apply(extract_first)\n",
    "df['Movie languages'] = df['Movie languages'].apply(extract_values).apply(extract_first)\n",
    "df['Movie genres'] = df['Movie genres'].apply(extract_values).apply(lambda x: list(x))\n",
    "\n",
    "\n",
    "print(df.head())\n"
   ]
  },
  {
   "cell_type": "code",
   "execution_count": 21,
   "metadata": {},
   "outputs": [
    {
     "name": "stdout",
     "output_type": "stream",
     "text": [
      "                    filmLabel        cost    boxOffice currencyCode\n",
      "0       \"Crocodile\" Dundee II   9000000.0  239606210.0          USD\n",
      "1        (500) Days of Summer   7500000.0   60700000.0          USD\n",
      "2      ...And Justice for All   4000000.0   33300000.0          USD\n",
      "3         10 Cloverfield Lane  15000000.0   71897215.0          ARS\n",
      "4  10 Things I Hate About You  13000000.0   53478579.0          USD\n",
      "No page found for It: Chapter Two\n",
      "                    filmLabel          cost     boxOffice currencyCode  \\\n",
      "0       \"Crocodile\" Dundee II  9.000000e+06  2.396062e+08          USD   \n",
      "1        (500) Days of Summer  7.500000e+06  6.070000e+07          USD   \n",
      "2      ...And Justice for All  4.000000e+06  3.330000e+07          USD   \n",
      "3         10 Cloverfield Lane  4.285347e+04  2.054030e+05          USD   \n",
      "4  10 Things I Hate About You  1.300000e+07  5.347858e+07          USD   \n",
      "\n",
      "  wikiPageID  \n",
      "0   23002767  \n",
      "1   41468978  \n",
      "2   24712812  \n",
      "3   44662181  \n",
      "4     398934  \n"
     ]
    }
   ],
   "source": [
    "# Read the data into a DataFrame\n",
    "df = pd.read_csv(f\"{PATH}/film_wiki_data.csv\")\n",
    "\n",
    "# Group by 'filmLabel' and keep the row with the max 'boxOffice' for each group\n",
    "# Each film has different lines some is box office worldwide or per country\n",
    "df_max_box_office = df.loc[df.groupby('filmLabel')['boxOffice'].idxmax()]\n",
    "df_max_box_office = df_max_box_office.reset_index(drop=True)\n",
    "\n",
    "print(df_max_box_office.head())\n",
    "\n",
    "\n",
    "\n",
    "# Load conversion rates from JSON file\n",
    "with open(f\"{PATH}/usd_conversion_rates.json\", 'r') as file:\n",
    "    conversion_rates = json.load(file)\n",
    "\n",
    "# Function to convert currency using ExchangeRate API\n",
    "def convert_to_usd(amount, currency):\n",
    "    rate = conversion_rates.get(currency, 1)  # Default to 1 if currency not found\n",
    "    return float(amount) / float(rate)\n",
    "\n",
    "\n",
    "def get_wikipedia_page_id(film_name):\n",
    "    # Replace spaces with underscores for the Wikipedia API format\n",
    "    film_name_formatted = film_name.replace(' ', '_')\n",
    "    print(film_name_formatted)\n",
    "\n",
    "    url = f\"https://en.wikipedia.org/w/api.php\"\n",
    "\n",
    "    params = {\n",
    "        'action': 'query',\n",
    "        'format': 'json',\n",
    "        'titles': film_name_formatted\n",
    "    }\n",
    "\n",
    "    response = requests.get(url, params=params)\n",
    "\n",
    "    if response.status_code == 200:\n",
    "        try:\n",
    "            data = response.json()\n",
    "            page_id = next(iter(data['query']['pages']))\n",
    "            return page_id\n",
    "        except KeyError:\n",
    "            print(f\"No page found for {film_name}\")\n",
    "            return None\n",
    "    else:\n",
    "        print(\"Failed to fetch data from Wikipedia\")\n",
    "        return None\n",
    "\n",
    "# Function to apply conversion to each row\n",
    "def convert_row(row):\n",
    "    if row['currencyCode'] != 'USD':\n",
    "        row['cost'] = convert_to_usd(row['cost'], row['currencyCode'])\n",
    "        row['boxOffice'] = convert_to_usd(row['boxOffice'], row['currencyCode'],)\n",
    "        row['currencyCode'] = 'USD'\n",
    "\n",
    "        # Fetch and add the Wikipedia page ID\n",
    "    row['wikiPageID'] = get_wikipedia_page_id(row['filmLabel'])\n",
    "\n",
    "    return row\n",
    "\n",
    "# Apply the conversion to each row\n",
    "df_max_box_office = df_max_box_office.apply(convert_row, axis=1)\n",
    "\n",
    "print(df_max_box_office.head())"
   ]
  },
  {
   "cell_type": "code",
   "execution_count": 25,
   "metadata": {},
   "outputs": [],
   "source": [
    "# remove if page id is not defined\n",
    "df_max_box_office = df_max_box_office[df_max_box_office['wikiPageID'] != -1]\n",
    "# save csv without row index\n",
    "df_max_box_office.to_csv(f'{PATH}/wiki_data_formatted.csv', index=False)\n"
   ]
  },
  {
   "cell_type": "code",
   "execution_count": 27,
   "metadata": {},
   "outputs": [],
   "source": [
    "# Load the first CSV file\n",
    "df1 = pd.read_csv(f'{PATH}/wiki_data_formatted.csv')\n",
    "\n",
    "# Load the second CSV file\n",
    "df2 = pd.read_csv(f\"{PATH}/movie.metadata.tsv\", names=[\n",
    "    \"wikiPageID\",\n",
    "    \"freebaseMovieID\",\n",
    "    \"movieName\",\n",
    "    \"movieReleaseDate\",\n",
    "    \"movieBoxOfficeRevenue\",\n",
    "    \"movieRuntime\",\n",
    "    \"movieLanguages\",\n",
    "    \"movieCountries\",\n",
    "    \"movieGenres\"\n",
    "], header=None, sep=\"\\t\")\n",
    "\n",
    "# Merge the DataFrames on the 'id' column\n",
    "merged_df = pd.merge(df1, df2, on='wikiPageID', how='inner')\n",
    "\n",
    "# Save the merged DataFrame to a new CSV file\n",
    "merged_df.to_csv('merged_file.csv', index=False)\n",
    "\n"
   ]
  },
  {
   "cell_type": "code",
   "execution_count": 2,
   "metadata": {},
   "outputs": [
    {
     "ename": "NameError",
     "evalue": "name 'pd' is not defined",
     "output_type": "error",
     "traceback": [
      "\u001b[1;31m---------------------------------------------------------------------------\u001b[0m",
      "\u001b[1;31mNameError\u001b[0m                                 Traceback (most recent call last)",
      "\u001b[1;32mc:\\Users\\Tomas\\Desktop\\EPFL\\Master Robotique\\ADA\\2023\\Project\\wikidata_merged_dataset.ipynb Cell 7\u001b[0m line \u001b[0;36m1\n\u001b[1;32m----> <a href='vscode-notebook-cell:/c%3A/Users/Tomas/Desktop/EPFL/Master%20Robotique/ADA/2023/Project/wikidata_merged_dataset.ipynb#W6sZmlsZQ%3D%3D?line=0'>1</a>\u001b[0m merged_df \u001b[39m=\u001b[39m pd\u001b[39m.\u001b[39mread_csv(\u001b[39m\"\u001b[39m\u001b[39mmerged_file.csv\u001b[39m\u001b[39m\"\u001b[39m)\n\u001b[0;32m      <a href='vscode-notebook-cell:/c%3A/Users/Tomas/Desktop/EPFL/Master%20Robotique/ADA/2023/Project/wikidata_merged_dataset.ipynb#W6sZmlsZQ%3D%3D?line=1'>2</a>\u001b[0m \u001b[39m# show me the lowest cost 100 films from merged df\u001b[39;00m\n\u001b[0;32m      <a href='vscode-notebook-cell:/c%3A/Users/Tomas/Desktop/EPFL/Master%20Robotique/ADA/2023/Project/wikidata_merged_dataset.ipynb#W6sZmlsZQ%3D%3D?line=2'>3</a>\u001b[0m df \u001b[39m=\u001b[39m merged_df\u001b[39m.\u001b[39msort_values(by\u001b[39m=\u001b[39m[\u001b[39m'\u001b[39m\u001b[39mcost\u001b[39m\u001b[39m'\u001b[39m], ascending\u001b[39m=\u001b[39m\u001b[39mTrue\u001b[39;00m) \n",
      "\u001b[1;31mNameError\u001b[0m: name 'pd' is not defined"
     ]
    }
   ],
   "source": [
    "\n",
    "# show me the lowest cost 100 films from merged df\n",
    "df = merged_df.sort_values(by=['cost'], ascending=True) \n",
    "df = df.iloc[:100]\n",
    "print(df)"
   ]
  },
  {
   "cell_type": "code",
   "execution_count": 34,
   "metadata": {},
   "outputs": [
    {
     "data": {
      "image/png": "[encoded data removed]",
      "text/plain": [
       "<Figure size 640x480 with 1 Axes>"
      ]
     },
     "metadata": {},
     "output_type": "display_data"
    },
    {
     "data": {
      "text/plain": [
       "\" split1, split2, split3 = np.array_split(new, 3)\\n# Plot histograms\\nplt.figure(figsize=(12, 4))\\n\\n# Histogram for the first split\\nplt.subplot(1, 3, 1)\\nplt.hist(split1, bins=30, alpha=0.5, color='green', edgecolor='black')\\nplt.xlim(1, 1e8)\\nplt.title('First Third Histogram')\\nplt.xlabel('Value')\\nplt.ylabel('Frequency')\\n\\n# Histogram for the second split\\nplt.subplot(1, 3, 2)\\nplt.hist(split2, bins=30, alpha=0.5, color='blue', edgecolor='black')\\nplt.xlim(1, 1e8)\\nplt.title('Second Third Histogram')\\nplt.xlabel('Value')\\nplt.ylabel('Frequency')\\n\\n# Histogram for the third split\\nplt.subplot(1, 3, 3)\\nplt.hist(split3, bins=30, alpha=0.5, color='red', edgecolor='black')\\nplt.xlim(1, 1e9)\\nplt.title('Third Third Histogram')\\nplt.xlabel('Value')\\nplt.ylabel('Frequency')\\n\\n# Show plot\\nplt.tight_layout()\\nplt.show() \""
      ]
     },
     "execution_count": 34,
     "metadata": {},
     "output_type": "execute_result"
    }
   ],
   "source": [
    "merged_df = pd.read_csv(\"merged_file.csv\")#\n",
    "\n",
    "#do a graph of the ditributon of the cost of the films histogram\n",
    "\n",
    "new = np.sort(merged_df['cost'])\n",
    "new = new[10:-10]\n",
    "\n",
    "\n",
    "plt.hist(new, bins=np.logspace(np.log10(1), np.log10(1e8), 100), alpha=0.5, color='green', edgecolor='black')\n",
    "plt.xlim(1e4, 1e8)\n",
    "plt.xscale('log')\n",
    "plt.title('Cost distribution of the films')\n",
    "plt.xlabel('Value')\n",
    "plt.ylabel('Frequency')\n",
    "plt.show()\n",
    "\n",
    "\"\"\" split1, split2, split3 = np.array_split(new, 3)\n",
    "# Plot histograms\n",
    "plt.figure(figsize=(12, 4))\n",
    "\n",
    "# Histogram for the first split\n",
    "plt.subplot(1, 3, 1)\n",
    "plt.hist(split1, bins=30, alpha=0.5, color='green', edgecolor='black')\n",
    "plt.xlim(1, 1e8)\n",
    "plt.title('First Third Histogram')\n",
    "plt.xlabel('Value')\n",
    "plt.ylabel('Frequency')\n",
    "\n",
    "# Histogram for the second split\n",
    "plt.subplot(1, 3, 2)\n",
    "plt.hist(split2, bins=30, alpha=0.5, color='blue', edgecolor='black')\n",
    "plt.xlim(1, 1e8)\n",
    "plt.title('Second Third Histogram')\n",
    "plt.xlabel('Value')\n",
    "plt.ylabel('Frequency')\n",
    "\n",
    "# Histogram for the third split\n",
    "plt.subplot(1, 3, 3)\n",
    "plt.hist(split3, bins=30, alpha=0.5, color='red', edgecolor='black')\n",
    "plt.xlim(1, 1e9)\n",
    "plt.title('Third Third Histogram')\n",
    "plt.xlabel('Value')\n",
    "plt.ylabel('Frequency')\n",
    "\n",
    "# Show plot\n",
    "plt.tight_layout()\n",
    "plt.show() \"\"\""
   ]
  },
  {
   "cell_type": "code",
   "execution_count": null,
   "metadata": {},
   "outputs": [],
   "source": []
  }
 ],
 "metadata": {
  "kernelspec": {
   "display_name": "Python 3",
   "language": "python",
   "name": "python3"
  },
  "language_info": {
   "codemirror_mode": {
    "name": "ipython",
    "version": 3
   },
   "file_extension": ".py",
   "mimetype": "text/x-python",
   "name": "python",
   "nbconvert_exporter": "python",
   "pygments_lexer": "ipython3",
   "version": "3.9.18"
  }
 },
 "nbformat": 4,
 "nbformat_minor": 2
}
